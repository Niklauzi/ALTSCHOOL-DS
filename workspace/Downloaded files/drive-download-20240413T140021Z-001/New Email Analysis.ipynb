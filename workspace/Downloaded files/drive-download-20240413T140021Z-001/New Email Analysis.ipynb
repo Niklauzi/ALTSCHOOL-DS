{
 "cells": [
  {
   "cell_type": "markdown",
   "id": "ccea5437",
   "metadata": {},
   "source": [
    "### New Email Analysis for my gmail data collected on the 16th of March, 2024."
   ]
  },
  {
   "cell_type": "code",
   "execution_count": null,
   "id": "25be05e2",
   "metadata": {
    "ExecuteTime": {
     "end_time": "2024-01-14T17:56:34.319573Z",
     "start_time": "2024-01-14T17:56:28.752533Z"
    }
   },
   "outputs": [],
   "source": [
    "# Import libraries \n",
    "import pandas as pd \n",
    "import numpy as np\n",
    "import matplotlib.pyplot as plt\n",
    "import mailbox"
   ]
  },
  {
   "cell_type": "code",
   "execution_count": null,
   "id": "ec74bbe8",
   "metadata": {
    "ExecuteTime": {
     "end_time": "2024-01-14T17:56:34.500551Z",
     "start_time": "2024-01-14T17:56:34.338774Z"
    }
   },
   "outputs": [],
   "source": [
    "# Put mbox file into a variable\n",
    "mboxfile = 'All mail Including Spam and Trash.mbox'\n",
    "mbox = mailbox.mbox(mboxfile)\n",
    "mbox "
   ]
  },
  {
   "cell_type": "code",
   "execution_count": null,
   "id": "8d04e3a4",
   "metadata": {
    "ExecuteTime": {
     "end_time": "2024-01-14T17:56:34.573585Z",
     "start_time": "2024-01-14T17:56:34.544103Z"
    }
   },
   "outputs": [],
   "source": [
    "type(mbox)"
   ]
  },
  {
   "cell_type": "code",
   "execution_count": null,
   "id": "bbc136d0",
   "metadata": {
    "ExecuteTime": {
     "end_time": "2024-01-14T17:56:34.635804Z",
     "start_time": "2024-01-14T17:56:34.622642Z"
    }
   },
   "outputs": [],
   "source": [
    "print(mbox)"
   ]
  },
  {
   "cell_type": "code",
   "execution_count": null,
   "id": "f63fe721",
   "metadata": {
    "ExecuteTime": {
     "end_time": "2024-01-14T17:57:37.079371Z",
     "start_time": "2024-01-14T17:56:34.639586Z"
    }
   },
   "outputs": [],
   "source": [
    "# List of available keys in the mbox file\n",
    "for key in mbox[0].keys():\n",
    "    print(key)"
   ]
  },
  {
   "cell_type": "markdown",
   "id": "a4c65637",
   "metadata": {},
   "source": [
    "#### Data Transformation"
   ]
  },
  {
   "cell_type": "code",
   "execution_count": null,
   "id": "5a12ecc1",
   "metadata": {
    "ExecuteTime": {
     "end_time": "2024-01-14T17:57:37.301255Z",
     "start_time": "2024-01-14T17:57:37.089791Z"
    }
   },
   "outputs": [],
   "source": [
    "# Data Cleaning\n",
    "import csv "
   ]
  },
  {
   "cell_type": "code",
   "execution_count": null,
   "id": "2091e1e1",
   "metadata": {
    "ExecuteTime": {
     "end_time": "2024-01-14T17:58:45.155074Z",
     "start_time": "2024-01-14T17:57:37.552709Z"
    }
   },
   "outputs": [],
   "source": [
    "# Create a CSV file with only the required attributes:\n",
    "with open('mailbox.csv', 'w') as outputfile:\n",
    "    writer = csv.writer(outputfile)\n",
    "    writer.writerow(['subject', 'from', 'date', 'to', 'label', 'thread'])\n",
    "    for message in mbox:\n",
    "        writer.writerow([\n",
    "            message['subject'], message['from'], message['date'],\n",
    "            message['to'], message['X-Gmail-Labels'], message['X-GM-THRID']\n",
    "        ])"
   ]
  },
  {
   "cell_type": "code",
   "execution_count": null,
   "id": "cbf162ab",
   "metadata": {
    "ExecuteTime": {
     "end_time": "2024-01-14T17:58:45.471850Z",
     "start_time": "2024-01-14T17:58:45.399409Z"
    }
   },
   "outputs": [],
   "source": [
    "# Load the csv file\n",
    "dfs = pd.read_csv('mailbox.csv')"
   ]
  },
  {
   "cell_type": "code",
   "execution_count": null,
   "id": "88059800",
   "metadata": {
    "ExecuteTime": {
     "end_time": "2024-01-14T17:58:45.669947Z",
     "start_time": "2024-01-14T17:58:45.624358Z"
    }
   },
   "outputs": [],
   "source": [
    "dfs.head()"
   ]
  },
  {
   "cell_type": "code",
   "execution_count": null,
   "id": "d07c8582",
   "metadata": {
    "ExecuteTime": {
     "end_time": "2024-01-14T17:58:45.875057Z",
     "start_time": "2024-01-14T17:58:45.707697Z"
    }
   },
   "outputs": [],
   "source": [
    "# Summary info\n",
    "dfs.info()"
   ]
  },
  {
   "cell_type": "code",
   "execution_count": null,
   "id": "c34e4e97",
   "metadata": {
    "ExecuteTime": {
     "end_time": "2024-01-14T18:00:34.360844Z",
     "start_time": "2024-01-14T18:00:26.043701Z"
    }
   },
   "outputs": [],
   "source": [
    "# Convert date feature to a datetime format\n",
    "dfs['date'] = dfs['date'].apply(lambda x: pd.to_datetime(x,\n",
    "errors='coerce', utc=True))"
   ]
  },
  {
   "cell_type": "code",
   "execution_count": null,
   "id": "baa8067e",
   "metadata": {
    "ExecuteTime": {
     "end_time": "2024-01-14T18:01:39.581093Z",
     "start_time": "2024-01-14T18:01:39.564582Z"
    }
   },
   "outputs": [],
   "source": [
    "dfs.info()"
   ]
  },
  {
   "cell_type": "code",
   "execution_count": null,
   "id": "9e0631d4",
   "metadata": {
    "ExecuteTime": {
     "end_time": "2024-01-14T18:01:43.150762Z",
     "start_time": "2024-01-14T18:01:43.094801Z"
    }
   },
   "outputs": [],
   "source": [
    "# Checking for missing values in the date column\n",
    "dfs['date'].isnull().sum()"
   ]
  },
  {
   "cell_type": "code",
   "execution_count": null,
   "id": "e78c85fa",
   "metadata": {
    "ExecuteTime": {
     "end_time": "2024-01-14T18:02:22.982195Z",
     "start_time": "2024-01-14T18:02:22.968192Z"
    }
   },
   "outputs": [],
   "source": [
    "missingData = dfs[dfs['date'].isnull()]\n",
    "missingData.head()"
   ]
  },
  {
   "cell_type": "code",
   "execution_count": null,
   "id": "b0843d4f",
   "metadata": {
    "ExecuteTime": {
     "end_time": "2024-01-14T18:02:23.803001Z",
     "start_time": "2024-01-14T18:02:23.785015Z"
    }
   },
   "outputs": [],
   "source": [
    "# Removing NaN\n",
    "dfs = dfs[dfs['date'].notna()]"
   ]
  },
  {
   "cell_type": "code",
   "execution_count": null,
   "id": "a290bf8c",
   "metadata": {
    "ExecuteTime": {
     "end_time": "2024-01-14T18:02:24.579890Z",
     "start_time": "2024-01-14T18:02:24.548776Z"
    }
   },
   "outputs": [],
   "source": [
    "dfs['date'].isnull().sum()"
   ]
  },
  {
   "cell_type": "code",
   "execution_count": null,
   "id": "6ef3818b",
   "metadata": {
    "ExecuteTime": {
     "end_time": "2024-01-14T18:02:25.577998Z",
     "start_time": "2024-01-14T18:02:25.242794Z"
    }
   },
   "outputs": [],
   "source": [
    "# Saving to csv file\n",
    "dfs.to_csv('gmail.csv')"
   ]
  },
  {
   "cell_type": "code",
   "execution_count": null,
   "id": "7fdb05c6",
   "metadata": {
    "ExecuteTime": {
     "end_time": "2024-01-14T18:02:26.058515Z",
     "start_time": "2024-01-14T18:02:26.042191Z"
    }
   },
   "outputs": [],
   "source": [
    "dfs.info()"
   ]
  },
  {
   "cell_type": "code",
   "execution_count": null,
   "id": "904863c4",
   "metadata": {
    "ExecuteTime": {
     "end_time": "2024-01-14T18:02:26.982610Z",
     "start_time": "2024-01-14T18:02:26.967777Z"
    }
   },
   "outputs": [],
   "source": [
    "dfs.head(10)"
   ]
  },
  {
   "cell_type": "markdown",
   "id": "33166f23",
   "metadata": {},
   "source": [
    "#### Data refactoring"
   ]
  },
  {
   "cell_type": "code",
   "execution_count": null,
   "id": "3519e357",
   "metadata": {
    "ExecuteTime": {
     "end_time": "2023-08-26T20:48:45.366272Z",
     "start_time": "2023-08-26T20:48:45.362089Z"
    }
   },
   "outputs": [],
   "source": [
    "# import regular expression\n",
    "import re "
   ]
  },
  {
   "cell_type": "code",
   "execution_count": null,
   "id": "0d457863",
   "metadata": {
    "ExecuteTime": {
     "end_time": "2023-08-26T20:48:46.375197Z",
     "start_time": "2023-08-26T20:48:46.369100Z"
    }
   },
   "outputs": [],
   "source": [
    "# let's create a function that takes an entire string from any column and\n",
    "# extracts an email address:\n",
    "def extract_email_ID(string):\n",
    "    email = re.findall(r'<(.+?)>', string)\n",
    "    if not email:\n",
    "        email = list(filter(lambda y: '@' in y, string.split()))\n",
    "    return email[0] if email else np.nan"
   ]
  },
  {
   "cell_type": "code",
   "execution_count": null,
   "id": "25b1043a",
   "metadata": {
    "ExecuteTime": {
     "end_time": "2023-08-26T20:48:47.298504Z",
     "start_time": "2023-08-26T20:48:47.283758Z"
    }
   },
   "outputs": [],
   "source": [
    "dfs['from'] = dfs['from'].apply(lambda x: extract_email_ID(x))"
   ]
  },
  {
   "cell_type": "code",
   "execution_count": null,
   "id": "ee6aae53",
   "metadata": {
    "ExecuteTime": {
     "end_time": "2023-08-26T20:48:48.252573Z",
     "start_time": "2023-08-26T20:48:48.240370Z"
    }
   },
   "outputs": [],
   "source": [
    "dfs.head()"
   ]
  },
  {
   "cell_type": "code",
   "execution_count": null,
   "id": "eb9e09a2",
   "metadata": {
    "ExecuteTime": {
     "end_time": "2023-08-26T20:48:49.205846Z",
     "start_time": "2023-08-26T20:48:49.199421Z"
    }
   },
   "outputs": [],
   "source": [
    "myemail = ''\n",
    "dfs['label'] = dfs['from'].apply(lambda x: 'sent' if x==myemail\n",
    "else 'inbox')"
   ]
  },
  {
   "cell_type": "code",
   "execution_count": null,
   "id": "9b11bc2a",
   "metadata": {
    "ExecuteTime": {
     "end_time": "2023-08-26T20:48:50.277553Z",
     "start_time": "2023-08-26T20:48:50.268201Z"
    }
   },
   "outputs": [],
   "source": [
    "dfs.head()"
   ]
  },
  {
   "cell_type": "code",
   "execution_count": null,
   "id": "772d1e41",
   "metadata": {
    "ExecuteTime": {
     "end_time": "2023-08-26T20:48:51.534460Z",
     "start_time": "2023-08-26T20:48:51.526923Z"
    }
   },
   "outputs": [],
   "source": [
    "# Drop the to column\n",
    "dfs.drop(columns='to', inplace=True)"
   ]
  },
  {
   "cell_type": "code",
   "execution_count": null,
   "id": "03aab325",
   "metadata": {
    "ExecuteTime": {
     "end_time": "2023-08-26T20:48:52.806094Z",
     "start_time": "2023-08-26T20:48:52.795145Z"
    }
   },
   "outputs": [],
   "source": [
    "dfs.head()"
   ]
  },
  {
   "cell_type": "code",
   "execution_count": null,
   "id": "2ade6606",
   "metadata": {
    "ExecuteTime": {
     "end_time": "2023-08-26T20:48:53.766370Z",
     "start_time": "2023-08-26T20:48:53.761861Z"
    }
   },
   "outputs": [],
   "source": [
    "# Refactor the date column\n",
    "import datetime\n",
    "import pytz"
   ]
  },
  {
   "cell_type": "code",
   "execution_count": null,
   "id": "29c193f2",
   "metadata": {
    "ExecuteTime": {
     "end_time": "2023-08-26T20:48:54.841635Z",
     "start_time": "2023-08-26T20:48:54.838428Z"
    }
   },
   "outputs": [],
   "source": [
    "# List of all time zones\n",
    "#pytz.all_timezones"
   ]
  },
  {
   "cell_type": "code",
   "execution_count": null,
   "id": "21b2e2b4",
   "metadata": {
    "ExecuteTime": {
     "end_time": "2023-08-26T20:48:55.705520Z",
     "start_time": "2023-08-26T20:48:55.700702Z"
    }
   },
   "outputs": [],
   "source": [
    "def refactor_timezone(x):\n",
    "    est = pytz.timezone('Africa/Lagos')\n",
    "    return x.astimezone(est)"
   ]
  },
  {
   "cell_type": "code",
   "execution_count": null,
   "id": "1eeaadbb",
   "metadata": {
    "ExecuteTime": {
     "end_time": "2023-08-26T20:48:56.707827Z",
     "start_time": "2023-08-26T20:48:56.478475Z"
    }
   },
   "outputs": [],
   "source": [
    "dfs['date'] = dfs['date'].apply(lambda x: refactor_timezone(x))"
   ]
  },
  {
   "cell_type": "code",
   "execution_count": null,
   "id": "33210b90",
   "metadata": {
    "ExecuteTime": {
     "end_time": "2023-08-26T20:48:57.564673Z",
     "start_time": "2023-08-26T20:48:57.554833Z"
    }
   },
   "outputs": [],
   "source": [
    "dfs.head()"
   ]
  },
  {
   "cell_type": "code",
   "execution_count": null,
   "id": "eefbc4e5",
   "metadata": {
    "ExecuteTime": {
     "end_time": "2023-08-26T20:48:58.495198Z",
     "start_time": "2023-08-26T20:48:58.480263Z"
    }
   },
   "outputs": [],
   "source": [
    "# Convert the day of the week into names of the day of the week\n",
    "dfs['dayofweek'] = dfs['date'].apply(lambda x: x.day_name())"
   ]
  },
  {
   "cell_type": "code",
   "execution_count": null,
   "id": "f0038b3d",
   "metadata": {
    "ExecuteTime": {
     "end_time": "2023-08-26T20:49:01.022475Z",
     "start_time": "2023-08-26T20:49:01.010212Z"
    }
   },
   "outputs": [],
   "source": [
    "dfs.head()"
   ]
  },
  {
   "cell_type": "code",
   "execution_count": null,
   "id": "1368796b",
   "metadata": {
    "ExecuteTime": {
     "end_time": "2023-08-26T20:49:04.647162Z",
     "start_time": "2023-08-26T20:49:04.633419Z"
    }
   },
   "outputs": [],
   "source": [
    "# Convert to dayofweek to category\n",
    "dfs['dayofweek'] = dfs.dayofweek.astype('category')"
   ]
  },
  {
   "cell_type": "code",
   "execution_count": null,
   "id": "2da7dce1",
   "metadata": {
    "ExecuteTime": {
     "end_time": "2023-08-26T20:49:05.513261Z",
     "start_time": "2023-08-26T20:49:05.489312Z"
    }
   },
   "outputs": [],
   "source": [
    "dfs.info()"
   ]
  },
  {
   "cell_type": "code",
   "execution_count": null,
   "id": "e8ef15c8",
   "metadata": {
    "ExecuteTime": {
     "end_time": "2023-08-26T20:49:06.241116Z",
     "start_time": "2023-08-26T20:49:06.233194Z"
    }
   },
   "outputs": [],
   "source": [
    "# Refactor for time of day\n",
    "dfs['timeofday'] = dfs['date'].apply(lambda x: x.hour + x.minute/60 + x.second/3600)"
   ]
  },
  {
   "cell_type": "code",
   "execution_count": null,
   "id": "3e1f9431",
   "metadata": {
    "ExecuteTime": {
     "end_time": "2023-08-26T20:49:07.137911Z",
     "start_time": "2023-08-26T20:49:07.131705Z"
    }
   },
   "outputs": [],
   "source": [
    "# Refactor for hour\n",
    "dfs['hour'] = dfs['date'].apply(lambda x: x.hour)"
   ]
  },
  {
   "cell_type": "code",
   "execution_count": null,
   "id": "53016e1d",
   "metadata": {
    "ExecuteTime": {
     "end_time": "2023-08-26T20:49:07.731260Z",
     "start_time": "2023-08-26T20:49:07.726685Z"
    }
   },
   "outputs": [],
   "source": [
    "# Refactor for year integer\n",
    "dfs['year_int'] = dfs['date'].apply(lambda x: x.year)"
   ]
  },
  {
   "cell_type": "code",
   "execution_count": null,
   "id": "1b204451",
   "metadata": {
    "ExecuteTime": {
     "end_time": "2023-08-26T20:49:08.363986Z",
     "start_time": "2023-08-26T20:49:08.353519Z"
    }
   },
   "outputs": [],
   "source": [
    "# Refactor for year fraction\n",
    "dfs['year'] = dfs['date'].apply(lambda x: x.year + x.dayofyear/365.25)"
   ]
  },
  {
   "cell_type": "code",
   "execution_count": null,
   "id": "9459ed73",
   "metadata": {
    "ExecuteTime": {
     "end_time": "2023-08-26T20:49:24.117265Z",
     "start_time": "2023-08-26T20:49:24.089583Z"
    }
   },
   "outputs": [],
   "source": [
    "dfs.head()"
   ]
  },
  {
   "cell_type": "code",
   "execution_count": null,
   "id": "c113040f",
   "metadata": {
    "ExecuteTime": {
     "end_time": "2023-08-26T20:49:58.168079Z",
     "start_time": "2023-08-26T20:49:58.023100Z"
    }
   },
   "outputs": [],
   "source": [
    "dfs.to_csv('gmail_data.csv')"
   ]
  },
  {
   "cell_type": "code",
   "execution_count": null,
   "id": "ce33e037",
   "metadata": {
    "ExecuteTime": {
     "end_time": "2023-08-21T15:19:19.581943Z",
     "start_time": "2023-08-21T15:19:19.572004Z"
    }
   },
   "outputs": [],
   "source": [
    "# Set date to index\n",
    "dfs.index = dfs['date']"
   ]
  },
  {
   "cell_type": "code",
   "execution_count": null,
   "id": "79b09226",
   "metadata": {
    "ExecuteTime": {
     "end_time": "2023-08-21T15:19:19.591814Z",
     "start_time": "2023-08-21T15:19:19.584360Z"
    }
   },
   "outputs": [],
   "source": [
    "# Delete the date column because it's no longer relevant\n",
    "del dfs['date']"
   ]
  },
  {
   "cell_type": "code",
   "execution_count": null,
   "id": "669b5656",
   "metadata": {
    "ExecuteTime": {
     "end_time": "2023-08-21T15:19:19.644834Z",
     "start_time": "2023-08-21T15:19:19.620605Z"
    }
   },
   "outputs": [],
   "source": [
    "dfs.head()"
   ]
  }
 ],
 "metadata": {
  "kernelspec": {
   "display_name": "Python 3 (ipykernel)",
   "language": "python",
   "name": "python3"
  },
  "language_info": {
   "codemirror_mode": {
    "name": "ipython",
    "version": 3
   },
   "file_extension": ".py",
   "mimetype": "text/x-python",
   "name": "python",
   "nbconvert_exporter": "python",
   "pygments_lexer": "ipython3",
   "version": "3.11.7"
  }
 },
 "nbformat": 4,
 "nbformat_minor": 5
}
