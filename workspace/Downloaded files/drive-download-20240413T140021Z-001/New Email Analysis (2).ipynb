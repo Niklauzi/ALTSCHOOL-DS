{
 "cells": [
  {
   "cell_type": "markdown",
   "id": "ccea5437",
   "metadata": {},
   "source": [
    "### New Email Analysis for my gmail data collected on the 2nd of November, 2021."
   ]
  },
  {
   "cell_type": "code",
   "execution_count": null,
   "id": "25be05e2",
   "metadata": {
    "ExecuteTime": {
     "end_time": "2024-01-14T17:56:34.319573Z",
     "start_time": "2024-01-14T17:56:28.752533Z"
    }
   },
   "outputs": [],
   "source": [
    "# Import libraries \n",
    "import pandas as pd \n",
    "import numpy as np\n",
    "import matplotlib.pyplot as plt\n",
    "import mailbox"
   ]
  },
  {
   "cell_type": "code",
   "execution_count": null,
   "id": "ec74bbe8",
   "metadata": {
    "ExecuteTime": {
     "end_time": "2024-01-14T17:56:34.500551Z",
     "start_time": "2024-01-14T17:56:34.338774Z"
    }
   },
   "outputs": [],
   "source": [
    "# Put mbox file into a variable\n",
    "mboxfile = 'All mail Including Spam and Trash.mbox'\n",
    "mbox = mailbox.mbox(mboxfile)\n",
    "mbox "
   ]
  },
  {
   "cell_type": "code",
   "execution_count": null,
   "id": "8d04e3a4",
   "metadata": {
    "ExecuteTime": {
     "end_time": "2024-01-14T17:56:34.573585Z",
     "start_time": "2024-01-14T17:56:34.544103Z"
    }
   },
   "outputs": [],
   "source": [
    "type(mbox)"
   ]
  },
  {
   "cell_type": "code",
   "execution_count": null,
   "id": "bbc136d0",
   "metadata": {
    "ExecuteTime": {
     "end_time": "2024-01-14T17:56:34.635804Z",
     "start_time": "2024-01-14T17:56:34.622642Z"
    }
   },
   "outputs": [],
   "source": [
    "print(mbox)"
   ]
  },
  {
   "cell_type": "code",
   "execution_count": null,
   "id": "f63fe721",
   "metadata": {
    "ExecuteTime": {
     "end_time": "2024-01-14T17:57:37.079371Z",
     "start_time": "2024-01-14T17:56:34.639586Z"
    }
   },
   "outputs": [],
   "source": [
    "# List of available keys in the mbox file\n",
    "for key in mbox[0].keys():\n",
    "    print(key)"
   ]
  },
  {
   "cell_type": "markdown",
   "id": "a4c65637",
   "metadata": {},
   "source": [
    "#### Data Transformation"
   ]
  },
  {
   "cell_type": "code",
   "execution_count": null,
   "id": "5a12ecc1",
   "metadata": {
    "ExecuteTime": {
     "end_time": "2024-01-14T17:57:37.301255Z",
     "start_time": "2024-01-14T17:57:37.089791Z"
    }
   },
   "outputs": [],
   "source": [
    "# Data Cleaning\n",
    "import csv "
   ]
  },
  {
   "cell_type": "code",
   "execution_count": null,
   "id": "2091e1e1",
   "metadata": {
    "ExecuteTime": {
     "end_time": "2024-01-14T17:58:45.155074Z",
     "start_time": "2024-01-14T17:57:37.552709Z"
    }
   },
   "outputs": [],
   "source": [
    "# Create a CSV file with only the required attributes:\n",
    "with open('mailbox.csv', 'w') as outputfile:\n",
    "    writer = csv.writer(outputfile)\n",
    "    writer.writerow(['subject', 'from', 'date', 'to', 'label', 'thread'])\n",
    "    for message in mbox:\n",
    "        writer.writerow([\n",
    "            message['subject'], message['from'], message['date'],\n",
    "            message['to'], message['X-Gmail-Labels'], message['X-GM-THRID']\n",
    "        ])"
   ]
  },
  {
   "cell_type": "code",
   "execution_count": null,
   "id": "cbf162ab",
   "metadata": {
    "ExecuteTime": {
     "end_time": "2024-01-14T17:58:45.471850Z",
     "start_time": "2024-01-14T17:58:45.399409Z"
    }
   },
   "outputs": [],
   "source": [
    "# Load the csv file\n",
    "dfs = pd.read_csv('mailbox.csv')"
   ]
  },
  {
   "cell_type": "code",
   "execution_count": null,
   "id": "88059800",
   "metadata": {
    "ExecuteTime": {
     "end_time": "2024-01-14T17:58:45.669947Z",
     "start_time": "2024-01-14T17:58:45.624358Z"
    }
   },
   "outputs": [],
   "source": [
    "dfs.head()"
   ]
  },
  {
   "cell_type": "code",
   "execution_count": null,
   "id": "d07c8582",
   "metadata": {
    "ExecuteTime": {
     "end_time": "2024-01-14T17:58:45.875057Z",
     "start_time": "2024-01-14T17:58:45.707697Z"
    }
   },
   "outputs": [],
   "source": [
    "# Summary info\n",
    "dfs.info()"
   ]
  },
  {
   "cell_type": "code",
   "execution_count": null,
   "id": "c34e4e97",
   "metadata": {
    "ExecuteTime": {
     "end_time": "2024-01-14T18:00:34.360844Z",
     "start_time": "2024-01-14T18:00:26.043701Z"
    }
   },
   "outputs": [],
   "source": [
    "# Convert date feature to a datetime format\n",
    "dfs['date'] = dfs['date'].apply(lambda x: pd.to_datetime(x,\n",
    "errors='coerce', utc=True))"
   ]
  },
  {
   "cell_type": "code",
   "execution_count": null,
   "id": "baa8067e",
   "metadata": {
    "ExecuteTime": {
     "end_time": "2024-01-14T18:01:39.581093Z",
     "start_time": "2024-01-14T18:01:39.564582Z"
    }
   },
   "outputs": [],
   "source": [
    "dfs.info()"
   ]
  },
  {
   "cell_type": "code",
   "execution_count": null,
   "id": "9e0631d4",
   "metadata": {
    "ExecuteTime": {
     "end_time": "2024-01-14T18:01:43.150762Z",
     "start_time": "2024-01-14T18:01:43.094801Z"
    }
   },
   "outputs": [],
   "source": [
    "# Checking for missing values in the date column\n",
    "dfs['date'].isnull().sum()"
   ]
  },
  {
   "cell_type": "code",
   "execution_count": null,
   "id": "e78c85fa",
   "metadata": {
    "ExecuteTime": {
     "end_time": "2024-01-14T18:02:22.982195Z",
     "start_time": "2024-01-14T18:02:22.968192Z"
    }
   },
   "outputs": [],
   "source": [
    "missingData = dfs[dfs['date'].isnull()]\n",
    "missingData.head()"
   ]
  },
  {
   "cell_type": "code",
   "execution_count": null,
   "id": "b0843d4f",
   "metadata": {
    "ExecuteTime": {
     "end_time": "2024-01-14T18:02:23.803001Z",
     "start_time": "2024-01-14T18:02:23.785015Z"
    }
   },
   "outputs": [],
   "source": [
    "# Removing NaN\n",
    "dfs = dfs[dfs['date'].notna()]"
   ]
  },
  {
   "cell_type": "code",
   "execution_count": null,
   "id": "a290bf8c",
   "metadata": {
    "ExecuteTime": {
     "end_time": "2024-01-14T18:02:24.579890Z",
     "start_time": "2024-01-14T18:02:24.548776Z"
    }
   },
   "outputs": [],
   "source": [
    "dfs['date'].isnull().sum()"
   ]
  },
  {
   "cell_type": "code",
   "execution_count": null,
   "id": "6ef3818b",
   "metadata": {
    "ExecuteTime": {
     "end_time": "2024-01-14T18:02:25.577998Z",
     "start_time": "2024-01-14T18:02:25.242794Z"
    }
   },
   "outputs": [],
   "source": [
    "# Saving to csv file\n",
    "dfs.to_csv('gmail.csv')"
   ]
  },
  {
   "cell_type": "code",
   "execution_count": null,
   "id": "7fdb05c6",
   "metadata": {
    "ExecuteTime": {
     "end_time": "2024-01-14T18:02:26.058515Z",
     "start_time": "2024-01-14T18:02:26.042191Z"
    }
   },
   "outputs": [],
   "source": [
    "dfs.info()"
   ]
  },
  {
   "cell_type": "code",
   "execution_count": null,
   "id": "904863c4",
   "metadata": {
    "ExecuteTime": {
     "end_time": "2024-01-14T18:02:26.982610Z",
     "start_time": "2024-01-14T18:02:26.967777Z"
    }
   },
   "outputs": [],
   "source": [
    "dfs.head(10)"
   ]
  },
  {
   "cell_type": "markdown",
   "id": "33166f23",
   "metadata": {},
   "source": [
    "#### Data refactoring"
   ]
  },
  {
   "cell_type": "code",
   "execution_count": null,
   "id": "3519e357",
   "metadata": {
    "ExecuteTime": {
     "end_time": "2023-08-26T20:48:45.366272Z",
     "start_time": "2023-08-26T20:48:45.362089Z"
    }
   },
   "outputs": [],
   "source": [
    "# import regular expression\n",
    "import re "
   ]
  },
  {
   "cell_type": "code",
   "execution_count": null,
   "id": "0d457863",
   "metadata": {
    "ExecuteTime": {
     "end_time": "2023-08-26T20:48:46.375197Z",
     "start_time": "2023-08-26T20:48:46.369100Z"
    }
   },
   "outputs": [],
   "source": [
    "# let's create a function that takes an entire string from any column and\n",
    "# extracts an email address:\n",
    "def extract_email_ID(string):\n",
    "    email = re.findall(r'<(.+?)>', string)\n",
    "    if not email:\n",
    "        email = list(filter(lambda y: '@' in y, string.split()))\n",
    "    return email[0] if email else np.nan"
   ]
  },
  {
   "cell_type": "code",
   "execution_count": null,
   "id": "25b1043a",
   "metadata": {
    "ExecuteTime": {
     "end_time": "2023-08-26T20:48:47.298504Z",
     "start_time": "2023-08-26T20:48:47.283758Z"
    }
   },
   "outputs": [],
   "source": [
    "dfs['from'] = dfs['from'].apply(lambda x: extract_email_ID(x))"
   ]
  },
  {
   "cell_type": "code",
   "execution_count": null,
   "id": "ee6aae53",
   "metadata": {
    "ExecuteTime": {
     "end_time": "2023-08-26T20:48:48.252573Z",
     "start_time": "2023-08-26T20:48:48.240370Z"
    }
   },
   "outputs": [],
   "source": [
    "dfs.head()"
   ]
  },
  {
   "cell_type": "code",
   "execution_count": null,
   "id": "eb9e09a2",
   "metadata": {
    "ExecuteTime": {
     "end_time": "2023-08-26T20:48:49.205846Z",
     "start_time": "2023-08-26T20:48:49.199421Z"
    }
   },
   "outputs": [],
   "source": [
    "myemail = '' #Your email here\n",
    "dfs['label'] = dfs['from'].apply(lambda x: 'sent' if x==myemail\n",
    "else 'inbox')"
   ]
  },
  {
   "cell_type": "code",
   "execution_count": null,
   "id": "9b11bc2a",
   "metadata": {
    "ExecuteTime": {
     "end_time": "2023-08-26T20:48:50.277553Z",
     "start_time": "2023-08-26T20:48:50.268201Z"
    }
   },
   "outputs": [],
   "source": [
    "dfs.head()"
   ]
  },
  {
   "cell_type": "code",
   "execution_count": null,
   "id": "772d1e41",
   "metadata": {
    "ExecuteTime": {
     "end_time": "2023-08-26T20:48:51.534460Z",
     "start_time": "2023-08-26T20:48:51.526923Z"
    }
   },
   "outputs": [],
   "source": [
    "# Drop the to column\n",
    "dfs.drop(columns='to', inplace=True)"
   ]
  },
  {
   "cell_type": "code",
   "execution_count": null,
   "id": "03aab325",
   "metadata": {
    "ExecuteTime": {
     "end_time": "2023-08-26T20:48:52.806094Z",
     "start_time": "2023-08-26T20:48:52.795145Z"
    }
   },
   "outputs": [],
   "source": [
    "dfs.head()"
   ]
  },
  {
   "cell_type": "code",
   "execution_count": null,
   "id": "2ade6606",
   "metadata": {
    "ExecuteTime": {
     "end_time": "2023-08-26T20:48:53.766370Z",
     "start_time": "2023-08-26T20:48:53.761861Z"
    }
   },
   "outputs": [],
   "source": [
    "# Refactor the date column\n",
    "import datetime\n",
    "import pytz"
   ]
  },
  {
   "cell_type": "code",
   "execution_count": null,
   "id": "29c193f2",
   "metadata": {
    "ExecuteTime": {
     "end_time": "2023-08-26T20:48:54.841635Z",
     "start_time": "2023-08-26T20:48:54.838428Z"
    }
   },
   "outputs": [],
   "source": [
    "# List of all time zones\n",
    "#pytz.all_timezones"
   ]
  },
  {
   "cell_type": "code",
   "execution_count": null,
   "id": "21b2e2b4",
   "metadata": {
    "ExecuteTime": {
     "end_time": "2023-08-26T20:48:55.705520Z",
     "start_time": "2023-08-26T20:48:55.700702Z"
    }
   },
   "outputs": [],
   "source": [
    "def refactor_timezone(x):\n",
    "    est = pytz.timezone('Africa/Lagos')\n",
    "    return x.astimezone(est)"
   ]
  },
  {
   "cell_type": "code",
   "execution_count": null,
   "id": "1eeaadbb",
   "metadata": {
    "ExecuteTime": {
     "end_time": "2023-08-26T20:48:56.707827Z",
     "start_time": "2023-08-26T20:48:56.478475Z"
    }
   },
   "outputs": [],
   "source": [
    "dfs['date'] = dfs['date'].apply(lambda x: refactor_timezone(x))"
   ]
  },
  {
   "cell_type": "code",
   "execution_count": null,
   "id": "33210b90",
   "metadata": {
    "ExecuteTime": {
     "end_time": "2023-08-26T20:48:57.564673Z",
     "start_time": "2023-08-26T20:48:57.554833Z"
    }
   },
   "outputs": [],
   "source": [
    "dfs.head()"
   ]
  },
  {
   "cell_type": "code",
   "execution_count": null,
   "id": "eefbc4e5",
   "metadata": {
    "ExecuteTime": {
     "end_time": "2023-08-26T20:48:58.495198Z",
     "start_time": "2023-08-26T20:48:58.480263Z"
    }
   },
   "outputs": [],
   "source": [
    "# Convert the day of the week into names of the day of the week\n",
    "dfs['dayofweek'] = dfs['date'].apply(lambda x: x.day_name())"
   ]
  },
  {
   "cell_type": "code",
   "execution_count": null,
   "id": "f0038b3d",
   "metadata": {
    "ExecuteTime": {
     "end_time": "2023-08-26T20:49:01.022475Z",
     "start_time": "2023-08-26T20:49:01.010212Z"
    }
   },
   "outputs": [],
   "source": [
    "dfs.head()"
   ]
  },
  {
   "cell_type": "code",
   "execution_count": null,
   "id": "1368796b",
   "metadata": {
    "ExecuteTime": {
     "end_time": "2023-08-26T20:49:04.647162Z",
     "start_time": "2023-08-26T20:49:04.633419Z"
    }
   },
   "outputs": [],
   "source": [
    "# Convert to dayofweek to category\n",
    "dfs['dayofweek'] = dfs.dayofweek.astype('category')"
   ]
  },
  {
   "cell_type": "code",
   "execution_count": null,
   "id": "2da7dce1",
   "metadata": {
    "ExecuteTime": {
     "end_time": "2023-08-26T20:49:05.513261Z",
     "start_time": "2023-08-26T20:49:05.489312Z"
    }
   },
   "outputs": [],
   "source": [
    "dfs.info()"
   ]
  },
  {
   "cell_type": "code",
   "execution_count": null,
   "id": "e8ef15c8",
   "metadata": {
    "ExecuteTime": {
     "end_time": "2023-08-26T20:49:06.241116Z",
     "start_time": "2023-08-26T20:49:06.233194Z"
    }
   },
   "outputs": [],
   "source": [
    "# Refactor for time of day\n",
    "dfs['timeofday'] = dfs['date'].apply(lambda x: x.hour + x.minute/60 + x.second/3600)"
   ]
  },
  {
   "cell_type": "code",
   "execution_count": null,
   "id": "3e1f9431",
   "metadata": {
    "ExecuteTime": {
     "end_time": "2023-08-26T20:49:07.137911Z",
     "start_time": "2023-08-26T20:49:07.131705Z"
    }
   },
   "outputs": [],
   "source": [
    "# Refactor for hour\n",
    "dfs['hour'] = dfs['date'].apply(lambda x: x.hour)"
   ]
  },
  {
   "cell_type": "code",
   "execution_count": null,
   "id": "53016e1d",
   "metadata": {
    "ExecuteTime": {
     "end_time": "2023-08-26T20:49:07.731260Z",
     "start_time": "2023-08-26T20:49:07.726685Z"
    }
   },
   "outputs": [],
   "source": [
    "# Refactor for year integer\n",
    "dfs['year_int'] = dfs['date'].apply(lambda x: x.year)"
   ]
  },
  {
   "cell_type": "code",
   "execution_count": null,
   "id": "1b204451",
   "metadata": {
    "ExecuteTime": {
     "end_time": "2023-08-26T20:49:08.363986Z",
     "start_time": "2023-08-26T20:49:08.353519Z"
    }
   },
   "outputs": [],
   "source": [
    "# Refactor for year fraction\n",
    "dfs['year'] = dfs['date'].apply(lambda x: x.year + x.dayofyear/365.25)"
   ]
  },
  {
   "cell_type": "code",
   "execution_count": null,
   "id": "9459ed73",
   "metadata": {
    "ExecuteTime": {
     "end_time": "2023-08-26T20:49:24.117265Z",
     "start_time": "2023-08-26T20:49:24.089583Z"
    }
   },
   "outputs": [],
   "source": [
    "dfs.head()"
   ]
  },
  {
   "cell_type": "code",
   "execution_count": null,
   "id": "c113040f",
   "metadata": {
    "ExecuteTime": {
     "end_time": "2023-08-26T20:49:58.168079Z",
     "start_time": "2023-08-26T20:49:58.023100Z"
    }
   },
   "outputs": [],
   "source": [
    "dfs.to_csv('gmail_data.csv')"
   ]
  },
  {
   "cell_type": "code",
   "execution_count": null,
   "id": "ce33e037",
   "metadata": {
    "ExecuteTime": {
     "end_time": "2023-08-21T15:19:19.581943Z",
     "start_time": "2023-08-21T15:19:19.572004Z"
    }
   },
   "outputs": [],
   "source": [
    "# Set date to index\n",
    "dfs.index = dfs['date']"
   ]
  },
  {
   "cell_type": "code",
   "execution_count": null,
   "id": "79b09226",
   "metadata": {
    "ExecuteTime": {
     "end_time": "2023-08-21T15:19:19.591814Z",
     "start_time": "2023-08-21T15:19:19.584360Z"
    }
   },
   "outputs": [],
   "source": [
    "# Delete the date column because it's no longer relevant\n",
    "del dfs['date']"
   ]
  },
  {
   "cell_type": "code",
   "execution_count": null,
   "id": "669b5656",
   "metadata": {
    "ExecuteTime": {
     "end_time": "2023-08-21T15:19:19.644834Z",
     "start_time": "2023-08-21T15:19:19.620605Z"
    }
   },
   "outputs": [],
   "source": [
    "dfs.head()"
   ]
  },
  {
   "cell_type": "markdown",
   "id": "e3b7c0fb",
   "metadata": {},
   "source": [
    "#### Data Analysis\n",
    "\n",
    "This is the most important part of EDA. This is the part where we gain insights from thedata that we have.Let's answer the following questions one by \n",
    "\n",
    "1. How many emails did I send during a given timeframe? \n",
    "\n",
    "2. At what times of the day do I send and receive emails with Gmail?\n",
    "\n",
    "3. What is the average number of emails per day?\n",
    "\n",
    "4. What is the average number of emails per hour?\n",
    "\n",
    "5. Whom do I communicate with most frequently?\n",
    "\n",
    "6. What are the most active emailing days?\n",
    "\n",
    "7. What am I mostly emailing about?"
   ]
  },
  {
   "cell_type": "code",
   "execution_count": null,
   "id": "4c120990",
   "metadata": {
    "ExecuteTime": {
     "end_time": "2023-08-21T14:37:15.860657Z",
     "start_time": "2023-08-21T14:37:15.850393Z"
    }
   },
   "outputs": [],
   "source": [
    "# 1.How many emails did I send during a given timeframe?\n",
    "print(dfs.index.min().strftime('%a, %d %b %Y %I:%M %p'))\n",
    "print(dfs.index.max().strftime('%a, %d %b %Y %I:%M %p'))"
   ]
  },
  {
   "cell_type": "code",
   "execution_count": null,
   "id": "81ab6566",
   "metadata": {
    "ExecuteTime": {
     "end_time": "2023-08-21T14:37:15.872545Z",
     "start_time": "2023-08-21T14:37:15.863792Z"
    }
   },
   "outputs": [],
   "source": [
    "# Count sent and received emails\n",
    "print(dfs['label'].value_counts())"
   ]
  },
  {
   "cell_type": "code",
   "execution_count": null,
   "id": "7e7312cc",
   "metadata": {
    "ExecuteTime": {
     "end_time": "2023-08-21T14:37:15.899972Z",
     "start_time": "2023-08-21T14:37:15.876869Z"
    }
   },
   "outputs": [],
   "source": [
    "# 2.At what times of the day do I send and receive emails with Gmail?\n",
    "# Create graph to view sent and recieved emails\n",
    "# Create two sub dataframes\n",
    "sent = dfs[dfs['label']=='sent']\n",
    "received = dfs[dfs['label']=='inbox']"
   ]
  },
  {
   "cell_type": "code",
   "execution_count": null,
   "id": "9ab58a60",
   "metadata": {
    "ExecuteTime": {
     "end_time": "2023-08-21T14:37:16.422016Z",
     "start_time": "2023-08-21T14:37:15.902253Z"
    }
   },
   "outputs": [],
   "source": [
    "# import required libraries for graphing\n",
    "import matplotlib.pyplot as plt\n",
    "from matplotlib.ticker import MaxNLocator\n",
    "from matplotlib.ticker import FixedLocator\n",
    "from scipy import ndimage\n",
    "import matplotlib.gridspec as gridspec\n",
    "import matplotlib.patches as mpaches"
   ]
  },
  {
   "cell_type": "code",
   "execution_count": null,
   "id": "22142d2c",
   "metadata": {
    "ExecuteTime": {
     "end_time": "2023-08-21T14:37:16.436779Z",
     "start_time": "2023-08-21T14:37:16.427291Z"
    }
   },
   "outputs": [],
   "source": [
    "# Create a function that takes a dataframe as an input and creates a plot\n",
    "def plot_todo_vs_year(df, ax, color='C0', s=0.5, title=''):\n",
    "    ind = np.zeros(len(df), dtype='bool')\n",
    "    est = pytz.timezone('Africa/Lagos')\n",
    "    df[~ind].plot.scatter('year', 'timeofday', s=s,\n",
    "                          alpha=0.6, ax=ax, color=color)\n",
    "    ax.set_ylim(0, 24)\n",
    "    ax.yaxis.set_major_locator(MaxNLocator(8))\n",
    "    ax.set_yticklabels([datetime.datetime.strptime(\n",
    "        str(int(np.mod(ts, 24))), '%H').strftime('%I %p') for ts in ax.get_yticks()]);\n",
    "    \n",
    "    ax.set_xlabel('')\n",
    "    ax.set_ylabel('')\n",
    "    ax.set_title(title)\n",
    "    ax.grid(ls=':',color='k')\n",
    "    \n",
    "    return ax"
   ]
  },
  {
   "cell_type": "code",
   "execution_count": null,
   "id": "68cef26f",
   "metadata": {
    "ExecuteTime": {
     "end_time": "2023-08-21T14:37:17.192295Z",
     "start_time": "2023-08-21T14:37:16.439488Z"
    }
   },
   "outputs": [],
   "source": [
    "# Plot both received and sent emails\n",
    "fig,ax = plt.subplots(nrows=1,ncols=2,figsize=(15,4))\n",
    "plot_todo_vs_year(sent, ax[0], title='Sent')\n",
    "plot_todo_vs_year(received, ax[1], title='Received');"
   ]
  },
  {
   "cell_type": "code",
   "execution_count": null,
   "id": "7c266b9b",
   "metadata": {
    "ExecuteTime": {
     "end_time": "2021-11-04T13:57:53.565772Z",
     "start_time": "2021-11-04T13:57:53.559620Z"
    }
   },
   "outputs": [],
   "source": [
    "# 3. What is the average number of emails per day?\n",
    "# Create a function that counts the total number of emails per day\n",
    "def plot_number_perday_per_year(df,ax,label=None,dt=0.3,**plot_kwargs):\n",
    "    year = df[df['year'].notna()]['year'].values\n",
    "    T = year.max()-year.min()\n",
    "    bins = int(T/dt)\n",
    "    weights = 1/(np.ones_like(year)*dt*365.25)\n",
    "    ax.hist(year,bins=bins,weights=weights,label=label,**plot_kwargs);\n",
    "    ax.grid(ls=':',color='k')"
   ]
  },
  {
   "cell_type": "code",
   "execution_count": null,
   "id": "25d08877",
   "metadata": {
    "ExecuteTime": {
     "end_time": "2021-11-04T13:57:53.683705Z",
     "start_time": "2021-11-04T13:57:53.568866Z"
    }
   },
   "outputs": [],
   "source": [
    "# Create a function that plots the average number of emails per day\n",
    "def plot_number_perdhour_per_year(df, ax, label=None, dt=1, smooth=False,weight_fun=None, **plot_kwargs):    \n",
    "    tod = df[df['timeofday'].notna()]['timeofday'].values    \n",
    "    year = df[df['year'].notna()]['year'].values    \n",
    "    Ty = year.max() - year.min()    \n",
    "    T = tod.max() - tod.min()    \n",
    "    bins = int(T / dt) \n",
    "    if weight_fun is None:\n",
    "        weights = 1 / (np.ones_like(tod) * Ty * 365.25 / dt) \n",
    "    else:\n",
    "        weights = weight_fun(df) \n",
    "    if smooth:        \n",
    "        hst, xedges = np.histogram(tod, bins=bins, weights=weights);        \n",
    "        x = np.delete(xedges, -1) + 0.5*(xedges[1] - xedges[0])        \n",
    "        hst = ndimage.gaussian_filter(hst, sigma=0.75)        \n",
    "        f = interp1d(x, hst, kind='cubic')        \n",
    "        x = np.linspace(x.min(), x.max(), 10000)        \n",
    "        hst = f(x)        \n",
    "        ax.plot(x, hst, label=label, **plot_kwargs) \n",
    "    else:        \n",
    "        ax.hist(tod, bins=bins, weights=weights, label=label, **plot_kwargs);    \n",
    "        ax.grid(ls=':', color='k')    \n",
    "        orientation = plot_kwargs.get('orientation') \n",
    "        if orientation is None or orientation == 'vertical':        \n",
    "            ax.set_xlim(0, 24)        \n",
    "            ax.xaxis.set_major_locator(MaxNLocator(8))\n",
    "            ax.set_xticklabels([datetime.datetime.strptime(str(int(np.mod(ts, 24))), \"%H\").strftime(\"%I %p\") \n",
    "                                                                          for ts in ax.get_xticks()]); \n",
    "        elif orientation == 'horizontal':        \n",
    "            ax.set_ylim(0, 24)        \n",
    "            ax.yaxis.set_major_locator(MaxNLocator(8))\n",
    "            ax.set_yticklabels([datetime.datetime.strptime(str(int(np.mod(ts,24))), \"%H\").strftime(\"%I %p\")\n",
    "                            for ts in ax.get_yticks()]);"
   ]
  },
  {
   "cell_type": "code",
   "execution_count": null,
   "id": "b2353423",
   "metadata": {
    "ExecuteTime": {
     "end_time": "2021-11-04T13:57:53.700968Z",
     "start_time": "2021-11-04T13:57:53.687010Z"
    }
   },
   "outputs": [],
   "source": [
    "# Create a class that plots the time of the day versus year for all the emails within the given timeframe\n",
    "class TriplePlot:  \n",
    "    def __init__(self):   \n",
    "        gs = gridspec.GridSpec(6, 6)    \n",
    "        self.ax1 = plt.subplot(gs[2:6, :4])    \n",
    "        self.ax2 = plt.subplot(gs[2:6, 4:6], sharey=self.ax1)    \n",
    "        plt.setp(self.ax2.get_yticklabels(), visible=False);    \n",
    "        self.ax3 = plt.subplot(gs[:2, :4])    \n",
    "        plt.setp(self.ax3.get_xticklabels(), visible=False);  \n",
    "        \n",
    "    def plot(self, df, color='darkblue', alpha=0.8, markersize=0.5,yr_bin=0.1, hr_bin=0.5):    \n",
    "        plot_todo_vs_year(df, self.ax1, color=color, s=markersize)    \n",
    "        plot_number_perdhour_per_year(df, self.ax2, dt=hr_bin,color=color, alpha=alpha, orientation='horizontal')    \n",
    "        self.ax2.set_xlabel('Average emails per hour')    \n",
    "        plot_number_perday_per_year(df, self.ax3, dt=yr_bin,color=color, alpha=alpha)    \n",
    "        self.ax3.set_ylabel('Average emails per day')"
   ]
  },
  {
   "cell_type": "code",
   "execution_count": null,
   "id": "78a5c99d",
   "metadata": {
    "ExecuteTime": {
     "end_time": "2021-11-04T13:57:55.460355Z",
     "start_time": "2021-11-04T13:57:53.705649Z"
    }
   },
   "outputs": [],
   "source": [
    "# Instantiate the class to plot the graph\n",
    "import matplotlib.gridspec as gridspec\n",
    "import matplotlib.patches as mpatches\n",
    "plt.figure(figsize=(12,12));\n",
    "tpl = TriplePlot()\n",
    "tpl.plot(received, color='C0', alpha=0.5)\n",
    "tpl.plot(sent, color='C1', alpha=0.5)\n",
    "p1 = mpatches.Patch(color='C0', label='Incoming', alpha=0.5)\n",
    "p2 = mpatches.Patch(color='C1', label='Outgoing', alpha=0.5)\n",
    "plt.legend(handles=[p1, p2], bbox_to_anchor=[1.45, 0.7],fontsize=14, shadow=True);"
   ]
  },
  {
   "cell_type": "code",
   "execution_count": null,
   "id": "ce168de1",
   "metadata": {
    "ExecuteTime": {
     "end_time": "2021-11-04T13:57:55.686017Z",
     "start_time": "2021-11-04T13:57:55.471491Z"
    }
   },
   "outputs": [],
   "source": [
    "# 4. What is the average number of emails per day?\n",
    "counts = dfs.dayofweek.value_counts(sort=False)\n",
    "counts.plot(kind='bar')"
   ]
  },
  {
   "cell_type": "code",
   "execution_count": null,
   "id": "fce4d841",
   "metadata": {
    "ExecuteTime": {
     "end_time": "2021-11-04T13:57:56.069087Z",
     "start_time": "2021-11-04T13:57:55.691449Z"
    }
   },
   "outputs": [],
   "source": [
    "# 5.The most active days for receiving and sending emails separately\n",
    "sdw = sent.groupby('dayofweek').size()/len(sent)\n",
    "rdw = received.groupby('dayofweek').size()/len(received)\n",
    "\n",
    "df_tmp = pd.DataFrame(data={'Outgoing Email':sdw, 'Incoming Email':rdw})\n",
    "df_tmp.plot(kind='bar',rot=45,figsize=(8,5),alpha=0.5)\n",
    "plt.xlabel('');\n",
    "plt.ylabel('Fraction of weekly emails');\n",
    "plt.grid(ls=':',color='k',alpha=0.5)"
   ]
  },
  {
   "cell_type": "code",
   "execution_count": null,
   "id": "f33d74d1",
   "metadata": {
    "ExecuteTime": {
     "end_time": "2021-11-04T13:57:56.180917Z",
     "start_time": "2021-11-04T13:57:56.072521Z"
    }
   },
   "outputs": [],
   "source": [
    "# 6. The most active time of day for email communication\n",
    "import scipy.ndimage\n",
    "from scipy.interpolate import interp1d"
   ]
  },
  {
   "cell_type": "code",
   "execution_count": null,
   "id": "29e3bca4",
   "metadata": {
    "ExecuteTime": {
     "end_time": "2021-11-04T13:57:56.190410Z",
     "start_time": "2021-11-04T13:57:56.185243Z"
    }
   },
   "outputs": [],
   "source": [
    "import warnings\n",
    "warnings.filterwarnings(\"ignore\")"
   ]
  },
  {
   "cell_type": "code",
   "execution_count": null,
   "id": "f0dbd11f",
   "metadata": {
    "ExecuteTime": {
     "end_time": "2021-11-04T13:57:56.625239Z",
     "start_time": "2021-11-04T13:57:56.192810Z"
    }
   },
   "outputs": [],
   "source": [
    "plt.figure(figsize=(8, 5))\n",
    "ax = plt.subplot(111)\n",
    "for ct, dow in enumerate(dfs.dayofweek.cat.categories):\n",
    "    df_r = received[received['dayofweek'] == dow]\n",
    "    weights = np.ones(len(df_r))/len(received)\n",
    "    def wfun(x): return weights\n",
    "    plot_number_perdhour_per_year(\n",
    "        df_r, ax, dt=1, smooth=True, color=f'C{ct}', alpha=0.8, lw=3, label=dow, weight_fun=wfun)\n",
    "\n",
    "    df_s = sent[sent['dayofweek'] == dow]\n",
    "    weights = np.ones(len(df_s)) / len(sent)\n",
    "    def wfun(x): return weights\n",
    "    plot_number_perdhour_per_year(\n",
    "        df_s, ax, dt=1, smooth=True, color=f'C{ct}', alpha=0.8, lw=2, label=dow, ls='--', weight_fun=wfun)\n",
    "    ax.set_ylabel('Fraction of weekly emails per hour')\n",
    "    ax.xaxis.set_major_locator(MaxNLocator(10))\n",
    "    ax.set_xticklabels([datetime.datetime.strptime(\n",
    "        str(int(np.mod(ts, 24))), \"%H\").strftime(\"%I %p\") for ts in ax.get_xticks()])\n",
    "    plt.legend(loc='upper left')\n",
    "    plt.grid(ls=':',color='k',alpha=0.5)"
   ]
  },
  {
   "cell_type": "code",
   "execution_count": null,
   "id": "3b31e5ab-8c0e-45c6-9cc4-af6051162ed7",
   "metadata": {},
   "outputs": [],
   "source": [
    "!pip install wordcloud"
   ]
  },
  {
   "cell_type": "code",
   "execution_count": null,
   "id": "850ade76",
   "metadata": {
    "ExecuteTime": {
     "end_time": "2021-11-04T13:57:56.656846Z",
     "start_time": "2021-11-04T13:57:56.627461Z"
    }
   },
   "outputs": [],
   "source": [
    "# 7. What am I mostly emailing about?\n",
    "from wordcloud import WordCloud"
   ]
  },
  {
   "cell_type": "code",
   "execution_count": null,
   "id": "e0bc9338",
   "metadata": {},
   "outputs": [],
   "source": []
  },
  {
   "cell_type": "code",
   "execution_count": null,
   "id": "9779bc77",
   "metadata": {
    "ExecuteTime": {
     "end_time": "2021-11-04T14:10:19.929261Z",
     "start_time": "2021-11-04T14:10:16.459266Z"
    }
   },
   "outputs": [],
   "source": [
    "#df_no_arxiv = dfs[dfs['from'] != 'no-reply@arXiv.org']\n",
    "text = ' '.join(map(str, sent['subject'].values))\n",
    "stopwords = ['Re', 'Fwd', '3A_']\n",
    "wrd = WordCloud(width=700, height=480, margin=0, collocations=False)\n",
    "for sw in stopwords:    \n",
    "    wrd.stopwords.add(sw)\n",
    "    wordcloud = wrd.generate(text)\n",
    "\n",
    "plt.figure(figsize=(25,15))\n",
    "plt.imshow(wordcloud, interpolation='bilinear')\n",
    "plt.axis(\"off\")\n",
    "plt.margins(x=0, y=0)"
   ]
  },
  {
   "cell_type": "code",
   "execution_count": null,
   "id": "b03dfcbb",
   "metadata": {
    "ExecuteTime": {
     "end_time": "2021-11-04T13:59:44.397350Z",
     "start_time": "2021-11-04T13:59:41.500473Z"
    }
   },
   "outputs": [],
   "source": [
    "df_no_arxiv = dfs[dfs['from'] != 'no-reply@arXiv.org']\n",
    "text = ' '.join(map(str, sent['subject'].values))\n",
    "stopwords = ['Re', 'Fwd', '3A_']\n",
    "wrd = WordCloud(width=700, height=480, margin=0, collocations=False)\n",
    "for sw in stopwords:    \n",
    "    wrd.stopwords.add(sw)\n",
    "    wordcloud = wrd.generate(text)\n",
    "\n",
    "plt.figure(figsize=(25,15))\n",
    "plt.imshow(wordcloud, interpolation='bilinear')\n",
    "plt.axis(\"off\")\n",
    "plt.margins(x=0, y=0)"
   ]
  },
  {
   "cell_type": "code",
   "execution_count": null,
   "id": "4febfb5f",
   "metadata": {
    "ExecuteTime": {
     "end_time": "2021-11-04T14:10:46.035004Z",
     "start_time": "2021-11-04T14:10:43.113149Z"
    }
   },
   "outputs": [],
   "source": [
    "# What I am mostly receiving emails about\n",
    "text = ' '.join(map(str, received['subject'].values))\n",
    "stopwords = ['Re', 'Fwd', '3A_']\n",
    "wrd = WordCloud(width=700, height=480, margin=0, collocations=False)\n",
    "for sw in stopwords:    \n",
    "    wrd.stopwords.add(sw)\n",
    "    wordcloud = wrd.generate(text)\n",
    "\n",
    "plt.figure(figsize=(25,15))\n",
    "plt.imshow(wordcloud, interpolation='bilinear')\n",
    "plt.axis(\"off\")\n",
    "plt.margins(x=0, y=0)"
   ]
  },
  {
   "cell_type": "code",
   "execution_count": null,
   "id": "c91bd250",
   "metadata": {},
   "outputs": [],
   "source": []
  }
 ],
 "metadata": {
  "kernelspec": {
   "display_name": "Python 3 (ipykernel)",
   "language": "python",
   "name": "python3"
  },
  "language_info": {
   "codemirror_mode": {
    "name": "ipython",
    "version": 3
   },
   "file_extension": ".py",
   "mimetype": "text/x-python",
   "name": "python",
   "nbconvert_exporter": "python",
   "pygments_lexer": "ipython3",
   "version": "3.11.7"
  }
 },
 "nbformat": 4,
 "nbformat_minor": 5
}
