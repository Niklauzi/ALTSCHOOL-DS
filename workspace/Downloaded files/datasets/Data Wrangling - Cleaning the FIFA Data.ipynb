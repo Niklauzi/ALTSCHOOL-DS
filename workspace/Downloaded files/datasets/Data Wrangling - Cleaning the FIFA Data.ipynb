{
 "cells": [
  {
   "cell_type": "markdown",
   "id": "e27525d0",
   "metadata": {},
   "source": [
    "0. Most of the time, Data requires cleaning and preparation to ensure that insights gotten from it can be relied upon. there are several reason why data can contain errors:\n"
   ]
  },
  {
   "cell_type": "markdown",
   "id": "8fb86a66",
   "metadata": {},
   "source": [
    "- Typographical Errors:\n",
    "    Transcription Errors,  \n",
    "      Incomplete Data\n",
    "\n",
    "- Missing Values: \n",
    "    Null or NaN Values, \n",
    "    Inconsistent Data\n",
    "\n",
    "- Inconsistent Units: \n",
    "    Inconsistent Formatting, \n",
    "    Outliers\n",
    "\n",
    "- Data Entry Errors: \n",
    "    Genuine Outliers, \n",
    "    Duplications\n",
    "\n",
    "\n",
    "\n",
    "- Incorrect Data Types: \n",
    "    Mixed Data Types,\n",
    "    Inaccurate Sources\n",
    "\n",
    "- Errors in Source Data: \n",
    "    Measurement Errors \n",
    "\n"
   ]
  },
  {
   "cell_type": "code",
   "execution_count": 1,
   "id": "be9a0580",
   "metadata": {},
   "outputs": [],
   "source": [
    "import pandas as pd"
   ]
  },
  {
   "cell_type": "code",
   "execution_count": null,
   "id": "51c874ce",
   "metadata": {},
   "outputs": [],
   "source": [
    "df = pd.read_csv() # load your data"
   ]
  },
  {
   "cell_type": "markdown",
   "id": "45eb2145",
   "metadata": {},
   "source": [
    "1. Check the Data in Columns:\n",
    "\n",
    "Examine the contents of columns 14 and 26 to understand why they have mixed data types. Use df.iloc[:, 14] and df.iloc[:, 26] to inspect the data."
   ]
  },
  {
   "cell_type": "code",
   "execution_count": null,
   "id": "0354ac52",
   "metadata": {
    "scrolled": true
   },
   "outputs": [],
   "source": [
    "df.iloc[:, 14]"
   ]
  },
  {
   "cell_type": "markdown",
   "id": "74183948",
   "metadata": {},
   "source": [
    "The data contained in the Free kick accuracy column should be represented as a numeric type (int or float), pandas represents columns as objects if there are mixed data types (strings, numbers) within a column thus safely infering that these columns are objects. "
   ]
  },
  {
   "cell_type": "markdown",
   "id": "b624657a",
   "metadata": {},
   "source": [
    "more on object data types [https://pandas.pydata.org/docs/reference/arrays.html#objects]"
   ]
  },
  {
   "cell_type": "code",
   "execution_count": null,
   "id": "f89b305f",
   "metadata": {},
   "outputs": [],
   "source": [
    "df.iloc[0, 14]"
   ]
  },
  {
   "cell_type": "markdown",
   "id": "e50e4a43",
   "metadata": {},
   "source": [
    "looking closely, the data in that column is represented as strings"
   ]
  },
  {
   "cell_type": "code",
   "execution_count": null,
   "id": "585d9a20",
   "metadata": {},
   "outputs": [],
   "source": [
    "df.iloc[:, 26]"
   ]
  },
  {
   "cell_type": "markdown",
   "id": "b9420400",
   "metadata": {},
   "source": [
    "2. Specify Data Types Explicitly:\n",
    "\n",
    "When reading the CSV file, explicitly specify the data types for these columns using the dtype parameter in pd.read_csv. For example, if the columns contain numbers, you can set them to a numeric type, reloading the data to correct for the data type reveals something interesting within the data, check within the error message. find the last line of the Traceback."
   ]
  },
  {
   "cell_type": "code",
   "execution_count": null,
   "id": "d974fdac",
   "metadata": {},
   "outputs": [],
   "source": [
    "df2 = pd.read_csv(r\"C:\\Users\\Gideon\\Downloads\\fifa.csv\", dtype={'Free kick accuracy': int, 'Penalties': int})"
   ]
  },
  {
   "cell_type": "code",
   "execution_count": null,
   "id": "b67fa588",
   "metadata": {
    "scrolled": false
   },
   "outputs": [],
   "source": [
    "# find the row with '81+1' as it appears within the columns\n",
    "df[df.iloc[:, 14].isin(['81+1'])]"
   ]
  },
  {
   "cell_type": "markdown",
   "id": "c0450048",
   "metadata": {},
   "source": [
    "- The values like \"79+2\" and \"81+1\" in a FIFA dataset likely represent a player's overall rating and additional attributes or boosts. In FIFA video games, a player's overall rating is often composed of their base attributes plus potential boosts or modifiers. The format \"79+2\" suggests a base rating of 79 with an additional boost of 2.\n",
    "\n",
    "- The additional values (e.g., \"+2\" or \"+1\") are usually modifiers that reflect temporary improvements or boosts to certain attributes. These boosts may be applied based on the player's performance in recent matches, achievements, or other in-game factors.\n",
    "\n",
    "- As for the data type, when you see values like \"79+2\" in a dataset, the column containing these values is likely of type object or string. Pandas might interpret such columns as containing mixed data types if some values are purely numeric, and others have additional characters like '+'. "
   ]
  },
  {
   "cell_type": "markdown",
   "id": "a61f0265",
   "metadata": {},
   "source": [
    "3. Several other columns represent certain observations this way, using the .info() method on the DataFrame will show the data types for all columns in the dataset."
   ]
  },
  {
   "cell_type": "code",
   "execution_count": null,
   "id": "3016c69e",
   "metadata": {},
   "outputs": [],
   "source": [
    "df.info()"
   ]
  },
  {
   "cell_type": "code",
   "execution_count": null,
   "id": "567530a4",
   "metadata": {},
   "outputs": [],
   "source": [
    "# check for the sum of missing values\n",
    "df.isna().sum()"
   ]
  },
  {
   "cell_type": "code",
   "execution_count": null,
   "id": "1c20a3ad",
   "metadata": {},
   "outputs": [],
   "source": [
    "# create a copy of dataframe for manipulation\n",
    "df_copy = df.copy()"
   ]
  },
  {
   "cell_type": "code",
   "execution_count": null,
   "id": "25b5b56b",
   "metadata": {},
   "outputs": [],
   "source": [
    "# take a part of the data without data type issues\n",
    "proper_cols = ['Name', 'Age', 'Nationality', 'Preferred Positions', 'Overall']\n",
    "proper_df = df_copy[proper_cols]"
   ]
  },
  {
   "cell_type": "code",
   "execution_count": null,
   "id": "a569ddba",
   "metadata": {},
   "outputs": [],
   "source": [
    "proper_df"
   ]
  },
  {
   "cell_type": "code",
   "execution_count": null,
   "id": "ef154d7f",
   "metadata": {},
   "outputs": [],
   "source": [
    "# selesct the columns to focus on\n",
    "numeric_df = df_copy.drop(proper_cols, axis=1)"
   ]
  },
  {
   "cell_type": "code",
   "execution_count": null,
   "id": "bb63c82b",
   "metadata": {
    "scrolled": true
   },
   "outputs": [],
   "source": [
    "numeric_df.head()"
   ]
  },
  {
   "cell_type": "code",
   "execution_count": null,
   "id": "0ea4479c",
   "metadata": {},
   "outputs": [],
   "source": [
    "numeric_df.info()"
   ]
  },
  {
   "cell_type": "code",
   "execution_count": null,
   "id": "5d3de460",
   "metadata": {},
   "outputs": [],
   "source": [
    "# Convert numeric columns to numeric type after removing boost values\n",
    "numeric_columns = numeric_columns.apply(lambda x: pd.to_numeric(x.str.split('[+-]').str[0]))"
   ]
  },
  {
   "cell_type": "code",
   "execution_count": null,
   "id": "0d627791",
   "metadata": {},
   "outputs": [],
   "source": [
    "numeric_df.info()"
   ]
  },
  {
   "cell_type": "code",
   "execution_count": null,
   "id": "e93fdf1d",
   "metadata": {},
   "outputs": [],
   "source": [
    "final_df = pd.concat([proper_df, numeric_df], axis=1)"
   ]
  },
  {
   "cell_type": "code",
   "execution_count": null,
   "id": "3084f12e",
   "metadata": {},
   "outputs": [],
   "source": [
    "final_df"
   ]
  },
  {
   "cell_type": "code",
   "execution_count": null,
   "id": "fa89dc4b",
   "metadata": {},
   "outputs": [],
   "source": [
    "final_df.to_csv('final.csv', index=False)"
   ]
  },
  {
   "cell_type": "code",
   "execution_count": null,
   "id": "ca05d3bf",
   "metadata": {},
   "outputs": [],
   "source": [
    "df2 = pd.read_csv('final.csv')"
   ]
  },
  {
   "cell_type": "code",
   "execution_count": null,
   "id": "edd64373",
   "metadata": {
    "scrolled": true
   },
   "outputs": [],
   "source": [
    "df2"
   ]
  },
  {
   "cell_type": "markdown",
   "id": "cf6db13f",
   "metadata": {},
   "source": [
    "Grouping Data"
   ]
  },
  {
   "cell_type": "code",
   "execution_count": null,
   "id": "3a658335",
   "metadata": {},
   "outputs": [],
   "source": [
    "# Group by 'Preferred Positions' and calculate the mean acceleration for each position\n",
    "position_accl = df2.groupby('Preferred Positions')['Acceleration'].mean()\n",
    "\n",
    "# Display the result\n",
    "print(position_accl)\n",
    "\n",
    "# The resulting 'position_accl' Series now contains the mean acceleration"
   ]
  },
  {
   "cell_type": "code",
   "execution_count": null,
   "id": "e73a9f20",
   "metadata": {},
   "outputs": [],
   "source": [
    "# pd.set_option('display.max_rows', None)\n",
    "position_accl"
   ]
  },
  {
   "cell_type": "code",
   "execution_count": null,
   "id": "d12d152e",
   "metadata": {},
   "outputs": [],
   "source": [
    "# Group by 'Nationality' and calculate the mean overall rating for each nationality\n",
    "nationality_mean_overall = df2.groupby('Nationality')['Overall'].mean()\n",
    "\n",
    "# Sort the mean overall ratings in descending order\n",
    "nationality_mean_overall_sorted = nationality_mean_overall.sort_values(ascending=False)\n",
    "\n",
    "# Display the result\n",
    "print(nationality_mean_overall_sorted)\n",
    "\n",
    "# The resulting Series contains the mean overall ratings for each nationality, sorted in descending order."
   ]
  }
 ],
 "metadata": {
  "kernelspec": {
   "display_name": "Python 3 (ipykernel)",
   "language": "python",
   "name": "python3"
  },
  "language_info": {
   "codemirror_mode": {
    "name": "ipython",
    "version": 3
   },
   "file_extension": ".py",
   "mimetype": "text/x-python",
   "name": "python",
   "nbconvert_exporter": "python",
   "pygments_lexer": "ipython3",
   "version": "3.11.4"
  }
 },
 "nbformat": 4,
 "nbformat_minor": 5
}
