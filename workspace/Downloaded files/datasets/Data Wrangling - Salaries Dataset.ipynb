{
 "cells": [
  {
   "cell_type": "code",
   "execution_count": null,
   "id": "c89c5feb",
   "metadata": {},
   "outputs": [],
   "source": [
    "# Importing necessary libraries\n",
    "import pandas as pd"
   ]
  },
  {
   "cell_type": "code",
   "execution_count": null,
   "id": "a911cf4d",
   "metadata": {},
   "outputs": [],
   "source": [
    "# Reading the CSV file into a DataFrame\n",
    "file = r\"C:\\Users\\Gideon\\Downloads\\ds_salaries.csv\"\n",
    "df = pd.read_csv(file)"
   ]
  },
  {
   "cell_type": "code",
   "execution_count": null,
   "id": "70d72426",
   "metadata": {},
   "outputs": [],
   "source": [
    "# Displaying the first few rows of the DataFrame\n",
    "df.head()"
   ]
  },
  {
   "cell_type": "code",
   "execution_count": null,
   "id": "cd09dbbb",
   "metadata": {},
   "outputs": [],
   "source": [
    "# Displaying information about the DataFrame, including data types and non-null counts\n",
    "df.info()"
   ]
  },
  {
   "cell_type": "code",
   "execution_count": null,
   "id": "fd83ac86",
   "metadata": {
    "scrolled": true
   },
   "outputs": [],
   "source": [
    "# Displaying the column names in the DataFrame\n",
    "df.columns"
   ]
  },
  {
   "cell_type": "code",
   "execution_count": null,
   "id": "6fd164e8",
   "metadata": {
    "scrolled": false
   },
   "outputs": [],
   "source": [
    "# Checking the count of missing values in each column\n",
    "df.isna().sum()"
   ]
  },
  {
   "cell_type": "code",
   "execution_count": null,
   "id": "281f5717",
   "metadata": {},
   "outputs": [],
   "source": [
    "# Unique values in the 'work_year' column\n",
    "df.work_year.unique()"
   ]
  },
  {
   "cell_type": "code",
   "execution_count": null,
   "id": "aed06815",
   "metadata": {},
   "outputs": [],
   "source": [
    "# Unique values in the 'experience_level' column\n",
    "df.experience_level.unique()"
   ]
  },
  {
   "cell_type": "markdown",
   "id": "0be9b27f",
   "metadata": {},
   "source": [
    "### Subsetting Data:\n",
    "1. Selecting Specific Columns:\n",
    "\n",
    "Method: df[['column1', 'column2']] or df.loc[:, ['column1', 'column2']]\n",
    "Example:"
   ]
  },
  {
   "cell_type": "code",
   "execution_count": null,
   "id": "8c687372",
   "metadata": {},
   "outputs": [],
   "source": [
    "# 1. Selecting specific columns: 'work_year', 'job_title', 'salary'\n",
    "selected_columns = df[['work_year', 'job_title', 'salary']]"
   ]
  },
  {
   "cell_type": "code",
   "execution_count": null,
   "id": "d17382ae",
   "metadata": {},
   "outputs": [],
   "source": [
    "selected_columns"
   ]
  },
  {
   "cell_type": "markdown",
   "id": "81177930",
   "metadata": {},
   "source": [
    "Difference between a series and a dataframe"
   ]
  },
  {
   "cell_type": "code",
   "execution_count": null,
   "id": "ecea197a",
   "metadata": {},
   "outputs": [],
   "source": [
    "# Difference between a series and a dataframe\n",
    "# (Note: A DataFrame is a 2D table, while a Series is a 1D labeled array.)"
   ]
  },
  {
   "cell_type": "markdown",
   "id": "8184438f",
   "metadata": {},
   "source": [
    "2. Selecting Rows Based on Conditions:\n",
    "\n",
    "Method: Boolean indexing\n",
    "Example:"
   ]
  },
  {
   "cell_type": "code",
   "execution_count": null,
   "id": "9e5ce5e7",
   "metadata": {},
   "outputs": [],
   "source": [
    "# 2. Selecting rows based on conditions (e.g., high salary jobs)\n",
    "high_salary_jobs = df[df['salary_in_usd'] > 80000]"
   ]
  },
  {
   "cell_type": "code",
   "execution_count": null,
   "id": "f6d223eb",
   "metadata": {},
   "outputs": [],
   "source": [
    "high_salary_jobs"
   ]
  },
  {
   "cell_type": "markdown",
   "id": "a11593ae",
   "metadata": {},
   "source": [
    "### Filtering Data:\n",
    "1. Filtering Rows Based on Multiple Conditions:\n",
    "\n",
    "Method: Use logical operators (&, |, ~)\n",
    "Example:"
   ]
  },
  {
   "cell_type": "code",
   "execution_count": null,
   "id": "199cf764",
   "metadata": {},
   "outputs": [],
   "source": [
    "# (e.g., Senior-level jobs with salary > 80000)\n",
    "filtered_data = df[(df['experience_level'] == 'Senior') & (df['salary_in_usd'] > 80000)]"
   ]
  },
  {
   "cell_type": "code",
   "execution_count": null,
   "id": "55cce1e2",
   "metadata": {},
   "outputs": [],
   "source": [
    "filtered_data"
   ]
  },
  {
   "cell_type": "markdown",
   "id": "d04241ed",
   "metadata": {},
   "source": [
    "2. Filtering Rows Based on String Matching:\n",
    "\n",
    "Method: str.contains()\n",
    "Example:"
   ]
  },
  {
   "cell_type": "code",
   "execution_count": null,
   "id": "4f733503",
   "metadata": {},
   "outputs": [],
   "source": [
    "# (e.g., jobs with 'Remote' in employment type)\n",
    "remote_jobs = df[df['employment_type'].str.contains('Remote', case=False, na=False)]"
   ]
  },
  {
   "cell_type": "markdown",
   "id": "1b4b109e",
   "metadata": {},
   "source": [
    "### Grouping Data:\n",
    "1. Grouping by Categorical Variable:\n",
    "\n",
    "Method: groupby()\n",
    "Example:"
   ]
  },
  {
   "cell_type": "code",
   "execution_count": null,
   "id": "175aa4a7",
   "metadata": {},
   "outputs": [],
   "source": [
    "#  (e.g., experience_level)\n",
    "average_salary_by_level = df.groupby('experience_level')['salary_in_usd'].mean()"
   ]
  },
  {
   "cell_type": "markdown",
   "id": "c6b1be6a",
   "metadata": {},
   "source": [
    "2. Aggregating Data within Groups:\n",
    "\n",
    "Method: groupby() with aggregation functions\n",
    "Example:"
   ]
  },
  {
   "cell_type": "code",
   "execution_count": null,
   "id": "a7a750c7",
   "metadata": {},
   "outputs": [],
   "source": [
    "stats_by_job = df.groupby('job_title').agg({'salary_in_usd': ['mean', 'median'], 'work_year': 'count'})"
   ]
  },
  {
   "cell_type": "code",
   "execution_count": null,
   "id": "aafe2804",
   "metadata": {
    "scrolled": true
   },
   "outputs": [],
   "source": [
    "stats_by_job.sort_values(('salary_in_usd', 'mean'), ascending=False)"
   ]
  },
  {
   "cell_type": "markdown",
   "id": "d66f270f",
   "metadata": {},
   "source": [
    "- Mean Salary by Job Title:\n",
    "    The mean salary for each job title gives you an overall idea of the average compensation associated with each position.\n",
    "    \n",
    "- Median Salary by Job Title:\n",
    "    The median salary provides a measure of central tendency that is less affected by outliers. It can be valuable to understand the typical salary distribution within each job title.\n",
    "    \n",
    "- Number of Employees (Work Years) by Job Title:\n",
    "    The count of work years gives insight into how many employees are associated with each job title. This can be crucial for understanding the workforce distribution.\n",
    "    \n",
    "- Comparison of Mean and Median:\n",
    "    The comparison between mean and median salaries can indicate the presence of salary outliers within specific job titles. A significant difference between mean and median might suggest skewed salary distributions.\n",
    "    \n",
    "- Identifying High and Low-Paying Job Titles:\n",
    "    Job titles with a higher mean or median salary might be considered higher-paying positions, while those with lower values could be lower-paying roles.\n",
    "    \n",
    "- Variability in Salaries:\n",
    "    The spread between mean and median, as well as the distribution of work years, can provide insights into the variability of salaries across different job titles.\n",
    "    \n",
    "- Identifying Anomalies or Outliers:\n",
    "    Extreme values in mean or median salaries may indicate anomalies or outliers that could be explored further."
   ]
  },
  {
   "cell_type": "markdown",
   "id": "d1719822",
   "metadata": {},
   "source": [
    "Make the categories in experience level and employment type columns more spelt out, eg MI = mid level/ intermediate."
   ]
  },
  {
   "cell_type": "code",
   "execution_count": null,
   "id": "0babb23d",
   "metadata": {},
   "outputs": [],
   "source": [
    "# Updating categories in 'experience_level' column\n",
    "df['experience_level'] = df['experience_level'].replace('EN','Entry-level/Junior')\n",
    "df['experience_level'] = df['experience_level'].replace('MI','Mid-level/Intermediate')\n",
    "df['experience_level'] = df['experience_level'].replace('SE','Senior-level/Expert')\n",
    "df['experience_level'] = df['experience_level'].replace('EX','Executive-level/Director')"
   ]
  },
  {
   "cell_type": "code",
   "execution_count": null,
   "id": "d13de0d6",
   "metadata": {},
   "outputs": [],
   "source": [
    "# Or Mapping old names to new names for the 'Category' column\n",
    "category_mapping = {'EN': 'Entry-level/Junior', 'MI': 'Mid-level/Intermediate', 'SE': 'Senior-level/Expert'}\n",
    "df['experience_level'] = df['experience_level'].map(category_mapping)"
   ]
  },
  {
   "cell_type": "code",
   "execution_count": null,
   "id": "43bc737a",
   "metadata": {},
   "outputs": [],
   "source": [
    "# Checking unique values and their counts in 'remote_ratio' column\n",
    "df.remote_ratio.unique()"
   ]
  },
  {
   "cell_type": "code",
   "execution_count": null,
   "id": "b1aa6a46",
   "metadata": {},
   "outputs": [],
   "source": [
    "df.remote_ratio.value_counts()"
   ]
  },
  {
   "cell_type": "code",
   "execution_count": null,
   "id": "5d12aaf4",
   "metadata": {},
   "outputs": [],
   "source": [
    "df.employment_type.unique()"
   ]
  },
  {
   "cell_type": "code",
   "execution_count": null,
   "id": "7f08a031",
   "metadata": {},
   "outputs": [],
   "source": [
    "df.employment_type.value_counts()"
   ]
  },
  {
   "cell_type": "markdown",
   "id": "2ed05c90",
   "metadata": {},
   "source": [
    "- TASK: change the variables in the employment type column:\n",
    "    - 'FT' - 'Full time', 'CT'-'Contract', 'PT'-'Part Time', 'FL'-'Freelance'"
   ]
  }
 ],
 "metadata": {
  "kernelspec": {
   "display_name": "Python 3 (ipykernel)",
   "language": "python",
   "name": "python3"
  },
  "language_info": {
   "codemirror_mode": {
    "name": "ipython",
    "version": 3
   },
   "file_extension": ".py",
   "mimetype": "text/x-python",
   "name": "python",
   "nbconvert_exporter": "python",
   "pygments_lexer": "ipython3",
   "version": "3.11.4"
  }
 },
 "nbformat": 4,
 "nbformat_minor": 5
}
