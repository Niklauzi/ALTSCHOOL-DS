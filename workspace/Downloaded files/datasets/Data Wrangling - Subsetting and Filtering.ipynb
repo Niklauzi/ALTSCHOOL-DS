{
 "cells": [
  {
   "cell_type": "code",
   "execution_count": null,
   "id": "c94d6172",
   "metadata": {},
   "outputs": [],
   "source": [
    "# import package\n",
    "import pandas as pd"
   ]
  },
  {
   "cell_type": "code",
   "execution_count": null,
   "id": "076f37c2",
   "metadata": {},
   "outputs": [],
   "source": [
    "# load the data, \n",
    "df = pd.read_csv(data) #replace 'data' with the data source"
   ]
  },
  {
   "cell_type": "code",
   "execution_count": null,
   "id": "dd7618f7",
   "metadata": {},
   "outputs": [],
   "source": [
    "df.head()"
   ]
  },
  {
   "cell_type": "markdown",
   "id": "baead118",
   "metadata": {},
   "source": [
    "An alternative to loading the data"
   ]
  },
  {
   "cell_type": "code",
   "execution_count": null,
   "id": "1c4c8489",
   "metadata": {},
   "outputs": [],
   "source": [
    "location = r'C:\\Users\\Gideon\\Desktop\\From old\\Datasets\\datasets-master\\datasets-master'"
   ]
  },
  {
   "cell_type": "code",
   "execution_count": null,
   "id": "b7e87903",
   "metadata": {},
   "outputs": [],
   "source": [
    "filename = '\\gapminder_with_codes.csv'"
   ]
  },
  {
   "cell_type": "code",
   "execution_count": null,
   "id": "871e1e62",
   "metadata": {},
   "outputs": [],
   "source": [
    "df2 = pd.read_csv(loaction + filename)"
   ]
  },
  {
   "cell_type": "code",
   "execution_count": null,
   "id": "86f66520",
   "metadata": {},
   "outputs": [],
   "source": [
    "df2.head()"
   ]
  },
  {
   "cell_type": "code",
   "execution_count": null,
   "id": "acb4873a",
   "metadata": {
    "scrolled": true
   },
   "outputs": [],
   "source": [
    "# Check columns\n",
    "df.columns"
   ]
  },
  {
   "cell_type": "code",
   "execution_count": null,
   "id": "b2d0a517",
   "metadata": {},
   "outputs": [],
   "source": [
    "# Unique values in 'country' and 'continent'\n",
    "df['country'].unique()"
   ]
  },
  {
   "cell_type": "code",
   "execution_count": null,
   "id": "3f9ab1a3",
   "metadata": {
    "scrolled": true
   },
   "outputs": [],
   "source": [
    "df.continent.unique()"
   ]
  },
  {
   "cell_type": "code",
   "execution_count": null,
   "id": "a8e70337",
   "metadata": {},
   "outputs": [],
   "source": [
    "# Subset for the year 2007\n",
    "df['year'] == 2007"
   ]
  },
  {
   "cell_type": "code",
   "execution_count": null,
   "id": "5c18a71c",
   "metadata": {},
   "outputs": [],
   "source": [
    "subset_temporal = df[df['year'] == 2007]"
   ]
  },
  {
   "cell_type": "code",
   "execution_count": null,
   "id": "d5efb9b1",
   "metadata": {},
   "outputs": [],
   "source": [
    "subset_temporal"
   ]
  },
  {
   "cell_type": "code",
   "execution_count": null,
   "id": "216e18b1",
   "metadata": {},
   "outputs": [],
   "source": [
    "# Subset for the continent 'Asia'\n",
    "subset_geographical = df[df['continent'] == 'Asia']"
   ]
  },
  {
   "cell_type": "code",
   "execution_count": null,
   "id": "d56189a9",
   "metadata": {},
   "outputs": [],
   "source": [
    "subset_geographical"
   ]
  },
  {
   "cell_type": "code",
   "execution_count": null,
   "id": "023ad453",
   "metadata": {},
   "outputs": [],
   "source": [
    "# Subset for India in 2007\n",
    "india07 = df[(df['country'] == 'India') & (df['year'] == 2007)]"
   ]
  },
  {
   "cell_type": "code",
   "execution_count": null,
   "id": "7f878645",
   "metadata": {},
   "outputs": [],
   "source": [
    "india07"
   ]
  },
  {
   "cell_type": "code",
   "execution_count": null,
   "id": "1f5f22bb",
   "metadata": {},
   "outputs": [],
   "source": [
    "# Filter life expectancy > 80 and < 30\n",
    "df[df['lifeExp'] > 80]"
   ]
  },
  {
   "cell_type": "code",
   "execution_count": null,
   "id": "400878bd",
   "metadata": {},
   "outputs": [],
   "source": [
    "df[df['lifeExp'] < 30]"
   ]
  },
  {
   "cell_type": "code",
   "execution_count": null,
   "id": "dcc092ee",
   "metadata": {},
   "outputs": [],
   "source": [
    "# comparism for specific countries\n",
    "df[df['country'].isin(['United States', 'China', 'India'])]"
   ]
  },
  {
   "cell_type": "code",
   "execution_count": null,
   "id": "0573ebcf",
   "metadata": {},
   "outputs": [],
   "source": [
    "# Additional filters for Africa and GDP per capita < 5000\n",
    "africa_less_5000 = df[(df['continent'] == 'Africa') & (df['gdpPercap'] < 5000)]"
   ]
  },
  {
   "cell_type": "code",
   "execution_count": null,
   "id": "ad7ab1be",
   "metadata": {},
   "outputs": [],
   "source": [
    "africa_less_5000[africa_less_5000['year'] == 2007]"
   ]
  },
  {
   "cell_type": "code",
   "execution_count": null,
   "id": "43284851",
   "metadata": {},
   "outputs": [],
   "source": [
    "df[(df['continent'] == 'Africa') | (df['gdpPercap'] < 5000)]"
   ]
  },
  {
   "cell_type": "code",
   "execution_count": null,
   "id": "71b43d68",
   "metadata": {},
   "outputs": [],
   "source": [
    "# Use Case: Analyzing Population Growth in a Specific Decade"
   ]
  },
  {
   "cell_type": "markdown",
   "id": "abcae218",
   "metadata": {},
   "source": [
    "Use Case: Analyzing Population Growth in a Specific Decade\n",
    "\n",
    "In this use case, we will focus on subsetting and filtering the Gapminder dataset to analyze population growth trends in a specific decade for a chosen continent. The goal is to understand how the population has changed over time and identify factors contributing to this change."
   ]
  },
  {
   "cell_type": "code",
   "execution_count": null,
   "id": "880841f8",
   "metadata": {},
   "outputs": [],
   "source": [
    "unique_continents = df.continent.unique()"
   ]
  },
  {
   "cell_type": "code",
   "execution_count": null,
   "id": "f7abb695",
   "metadata": {},
   "outputs": [],
   "source": [
    "selected_continent = 'Africa'\n",
    "\n",
    "continent_data = df[df['continent'].isin([selected_continent])]\n",
    "\n",
    "decade_start = 1997\n",
    "decade_end = 2007\n",
    "\n",
    "decade_data = continent_data[(continent_data['year'] >= decade_start) & (continent_data['year'] <= decade_end)]\n",
    "\n",
    "total_pop_per_country = decade_data.groupby('country')['pop'].sum().reset_index()\n",
    "\n"
   ]
  },
  {
   "cell_type": "code",
   "execution_count": null,
   "id": "f79fb6d5",
   "metadata": {},
   "outputs": [],
   "source": [
    "total_pop_per_country"
   ]
  },
  {
   "cell_type": "code",
   "execution_count": null,
   "id": "8a614848",
   "metadata": {},
   "outputs": [],
   "source": [
    "max_pop_country = total_pop_per_country.loc[total_pop_per_country['pop'].idxmax()]"
   ]
  },
  {
   "cell_type": "code",
   "execution_count": null,
   "id": "9e57f723",
   "metadata": {},
   "outputs": [],
   "source": [
    "# display results\n",
    "\n",
    "print(f\"\\nPopulation Analysis for {selected_continent} in the {decade_start}-{decade_end} Decade:\")\n",
    "print(f\"\\nCountry with the Highes Population: {max_pop_country['country']}\")\n",
    "print(f\"\\n Total Population in {decade_start} - {decade_end}: {max_pop_country['pop']}\")"
   ]
  },
  {
   "cell_type": "code",
   "execution_count": null,
   "id": "11e0e92a",
   "metadata": {},
   "outputs": [],
   "source": []
  }
 ],
 "metadata": {
  "kernelspec": {
   "display_name": "Python 3 (ipykernel)",
   "language": "python",
   "name": "python3"
  },
  "language_info": {
   "codemirror_mode": {
    "name": "ipython",
    "version": 3
   },
   "file_extension": ".py",
   "mimetype": "text/x-python",
   "name": "python",
   "nbconvert_exporter": "python",
   "pygments_lexer": "ipython3",
   "version": "3.11.5"
  },
  "varInspector": {
   "cols": {
    "lenName": 16,
    "lenType": 16,
    "lenVar": 40
   },
   "kernels_config": {
    "python": {
     "delete_cmd_postfix": "",
     "delete_cmd_prefix": "del ",
     "library": "var_list.py",
     "varRefreshCmd": "print(var_dic_list())"
    },
    "r": {
     "delete_cmd_postfix": ") ",
     "delete_cmd_prefix": "rm(",
     "library": "var_list.r",
     "varRefreshCmd": "cat(var_dic_list()) "
    }
   },
   "types_to_exclude": [
    "module",
    "function",
    "builtin_function_or_method",
    "instance",
    "_Feature"
   ],
   "window_display": false
  }
 },
 "nbformat": 4,
 "nbformat_minor": 5
}
