{
 "cells": [
  {
   "cell_type": "code",
   "execution_count": 1,
   "id": "7296c2ab",
   "metadata": {},
   "outputs": [
    {
     "name": "stdout",
     "output_type": "stream",
     "text": [
      "Kpokpe Favour\n"
     ]
    }
   ],
   "source": [
    "name = 'Kpokpe Favour'\n",
    "print(name)"
   ]
  },
  {
   "cell_type": "code",
   "execution_count": 2,
   "id": "2e195ba5",
   "metadata": {},
   "outputs": [
    {
     "data": {
      "text/plain": [
       "13"
      ]
     },
     "execution_count": 2,
     "metadata": {},
     "output_type": "execute_result"
    }
   ],
   "source": [
    "len(name)"
   ]
  },
  {
   "cell_type": "code",
   "execution_count": 3,
   "id": "a80fbdbd",
   "metadata": {},
   "outputs": [
    {
     "data": {
      "text/plain": [
       "10"
      ]
     },
     "execution_count": 3,
     "metadata": {},
     "output_type": "execute_result"
    }
   ],
   "source": [
    "ar = [1,2,3,4,5,6,7,8,9,0]\n",
    "len(ar)\n"
   ]
  },
  {
   "cell_type": "code",
   "execution_count": 15,
   "id": "1e9eb0de",
   "metadata": {},
   "outputs": [
    {
     "data": {
      "text/plain": [
       "'Kpokpe Fav'"
      ]
     },
     "execution_count": 15,
     "metadata": {},
     "output_type": "execute_result"
    }
   ],
   "source": [
    "# Slicing a string\n",
    "name[:-3]"
   ]
  },
  {
   "cell_type": "code",
   "execution_count": 18,
   "id": "32945bbf",
   "metadata": {},
   "outputs": [
    {
     "name": "stdout",
     "output_type": "stream",
     "text": [
      " my name is Kpokpe Favour\n"
     ]
    }
   ],
   "source": [
    "print(f' my name is {name}')"
   ]
  },
  {
   "cell_type": "code",
   "execution_count": 20,
   "id": "95744808",
   "metadata": {},
   "outputs": [
    {
     "name": "stdout",
     "output_type": "stream",
     "text": [
      "my name is Kpokpe Favour\n"
     ]
    }
   ],
   "source": [
    "print('my name is', name)"
   ]
  },
  {
   "cell_type": "code",
   "execution_count": 29,
   "id": "4d001cb7",
   "metadata": {},
   "outputs": [
    {
     "data": {
      "text/plain": [
       "2"
      ]
     },
     "execution_count": 29,
     "metadata": {},
     "output_type": "execute_result"
    }
   ],
   "source": [
    "# intergers\n",
    "6 % 4"
   ]
  },
  {
   "cell_type": "code",
   "execution_count": 32,
   "id": "efab3997",
   "metadata": {},
   "outputs": [],
   "source": [
    "age, networth, name = 26, 500000, 'Kpokpe favour'"
   ]
  },
  {
   "cell_type": "code",
   "execution_count": 33,
   "id": "ebf3b1a7",
   "metadata": {},
   "outputs": [
    {
     "name": "stdout",
     "output_type": "stream",
     "text": [
      "Kpokpe favour is 26 years old, with a networth of $500000\n"
     ]
    }
   ],
   "source": [
    "print(f'{name} is {age} years old, with a networth of ${networth}')"
   ]
  },
  {
   "cell_type": "code",
   "execution_count": null,
   "id": "10d9a1ce",
   "metadata": {},
   "outputs": [],
   "source": []
  }
 ],
 "metadata": {
  "kernelspec": {
   "display_name": "Python 3 (ipykernel)",
   "language": "python",
   "name": "python3"
  },
  "language_info": {
   "codemirror_mode": {
    "name": "ipython",
    "version": 3
   },
   "file_extension": ".py",
   "mimetype": "text/x-python",
   "name": "python",
   "nbconvert_exporter": "python",
   "pygments_lexer": "ipython3",
   "version": "3.11.4"
  }
 },
 "nbformat": 4,
 "nbformat_minor": 5
}
