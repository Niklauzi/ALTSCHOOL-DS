{
 "cells": [
  {
   "cell_type": "markdown",
   "id": "ce5bd1dd",
   "metadata": {},
   "source": [
    "### Context & Roles"
   ]
  },
  {
   "cell_type": "code",
   "execution_count": 1,
   "id": "1e37295f",
   "metadata": {
    "ExecuteTime": {
     "end_time": "2024-05-04T17:37:35.553861Z",
     "start_time": "2024-05-04T17:37:35.548134Z"
    }
   },
   "outputs": [],
   "source": [
    "# Email Marketing Analyst: KPIs, Targets, Bottomlines:Non-Profit/Profit/Social Enterprise \n",
    "# Users voluntarily share their email data\n",
    "# Answer some vital questions: Time, year, sent and received emails"
   ]
  },
  {
   "cell_type": "markdown",
   "id": "7ac490d3",
   "metadata": {
    "ExecuteTime": {
     "end_time": "2024-05-04T18:05:08.531930Z",
     "start_time": "2024-05-04T18:05:08.474619Z"
    }
   },
   "source": [
    "### Activities"
   ]
  },
  {
   "cell_type": "code",
   "execution_count": 2,
   "id": "0520b691",
   "metadata": {
    "ExecuteTime": {
     "end_time": "2024-05-04T17:42:02.050856Z",
     "start_time": "2024-05-04T17:42:02.000582Z"
    }
   },
   "outputs": [],
   "source": [
    "# import your data: \n",
    "# Very crucial: Your data format - is mbox\n",
    "# We need to transform to csv\n",
    "# We need a Python package for this "
   ]
  },
  {
   "cell_type": "code",
   "execution_count": 57,
   "id": "f9747185",
   "metadata": {
    "ExecuteTime": {
     "end_time": "2024-05-04T17:51:53.438250Z",
     "start_time": "2024-05-04T17:51:53.424425Z"
    }
   },
   "outputs": [],
   "source": [
    "# import statement - import a package\n",
    "# The functions/methods are imported into your namespace \n",
    "import mailbox "
   ]
  },
  {
   "cell_type": "code",
   "execution_count": 30,
   "id": "840f7e7b",
   "metadata": {
    "ExecuteTime": {
     "end_time": "2024-05-04T17:45:08.777256Z",
     "start_time": "2024-05-04T17:45:08.759141Z"
    }
   },
   "outputs": [],
   "source": [
    "# Installation of mailbox package\n",
    "#!pip install mailbox"
   ]
  },
  {
   "cell_type": "code",
   "execution_count": 58,
   "id": "699d835f",
   "metadata": {
    "ExecuteTime": {
     "end_time": "2024-05-04T17:46:27.126561Z",
     "start_time": "2024-05-04T17:46:27.094065Z"
    }
   },
   "outputs": [],
   "source": [
    "# Store my gmail mbox file as a variable\n",
    "mboxfile = 'All mail Including Spam and Trash1.mbox'"
   ]
  },
  {
   "cell_type": "code",
   "execution_count": 59,
   "id": "80c0dc1d",
   "metadata": {
    "ExecuteTime": {
     "end_time": "2024-05-04T17:57:38.895430Z",
     "start_time": "2024-05-04T17:57:38.845670Z"
    }
   },
   "outputs": [
    {
     "data": {
      "text/plain": [
       "str"
      ]
     },
     "execution_count": 59,
     "metadata": {},
     "output_type": "execute_result"
    }
   ],
   "source": [
    "type(mboxfile)"
   ]
  },
  {
   "cell_type": "code",
   "execution_count": null,
   "id": "fa5e7043",
   "metadata": {},
   "outputs": [],
   "source": []
  },
  {
   "cell_type": "code",
   "execution_count": 60,
   "id": "825cfe29",
   "metadata": {
    "ExecuteTime": {
     "end_time": "2024-05-04T17:56:40.981755Z",
     "start_time": "2024-05-04T17:56:40.962134Z"
    }
   },
   "outputs": [],
   "source": [
    "# Initialise the gmail files\n",
    "mbox = mailbox.mbox(mboxfile)"
   ]
  },
  {
   "cell_type": "code",
   "execution_count": 61,
   "id": "5dd10ec1",
   "metadata": {
    "ExecuteTime": {
     "end_time": "2024-05-04T17:58:15.178644Z",
     "start_time": "2024-05-04T17:58:15.166620Z"
    }
   },
   "outputs": [
    {
     "data": {
      "text/plain": [
       "mailbox.mbox"
      ]
     },
     "execution_count": 61,
     "metadata": {},
     "output_type": "execute_result"
    }
   ],
   "source": [
    "type(mbox)"
   ]
  },
  {
   "cell_type": "code",
   "execution_count": 62,
   "id": "58bba249",
   "metadata": {
    "ExecuteTime": {
     "end_time": "2024-05-04T18:05:08.422269Z",
     "start_time": "2024-05-04T18:01:34.421375Z"
    }
   },
   "outputs": [
    {
     "name": "stdout",
     "output_type": "stream",
     "text": [
      "X-GM-THRID\n",
      "X-Gmail-Labels\n",
      "Delivered-To\n",
      "Received\n",
      "X-Google-Smtp-Source\n",
      "X-Received\n",
      "ARC-Seal\n",
      "ARC-Message-Signature\n",
      "ARC-Authentication-Results\n",
      "Return-Path\n",
      "Received\n",
      "Received-SPF\n",
      "Authentication-Results\n",
      "Received\n",
      "Received\n",
      "To\n",
      "Subject\n",
      "MIME-Version\n",
      "Content-type\n",
      "From\n",
      "Reply-To\n",
      "Message-ID\n",
      "List-Unsubscribe\n",
      "List-Unsubscribe-Post\n",
      "Feedback-ID\n",
      "Date\n"
     ]
    }
   ],
   "source": [
    "# List the keys in the mbox file\n",
    "for key in mbox[0].keys():\n",
    "    print(key)"
   ]
  },
  {
   "cell_type": "code",
   "execution_count": 64,
   "id": "253ed0a9",
   "metadata": {
    "ExecuteTime": {
     "end_time": "2024-05-04T18:15:41.938191Z",
     "start_time": "2024-05-04T18:15:41.578770Z"
    }
   },
   "outputs": [
    {
     "name": "stderr",
     "output_type": "stream",
     "text": [
      "'ls' is not recognized as an internal or external command,\n",
      "operable program or batch file.\n"
     ]
    }
   ],
   "source": [
    "!ls "
   ]
  },
  {
   "cell_type": "markdown",
   "id": "36668468",
   "metadata": {},
   "source": [
    "### Activities"
   ]
  },
  {
   "cell_type": "code",
   "execution_count": 65,
   "id": "a0535c87",
   "metadata": {},
   "outputs": [],
   "source": [
    "# We want to convert some file to csv\n",
    "# We want to create a dataframe \n",
    "# How do we convert to csv? - To use the csv package"
   ]
  },
  {
   "cell_type": "code",
   "execution_count": 66,
   "id": "028e124e",
   "metadata": {
    "ExecuteTime": {
     "end_time": "2024-05-04T18:18:56.336122Z",
     "start_time": "2024-05-04T18:18:56.328358Z"
    }
   },
   "outputs": [],
   "source": [
    "# import a package \n",
    "import csv "
   ]
  },
  {
   "cell_type": "code",
   "execution_count": 67,
   "id": "44996be0",
   "metadata": {
    "ExecuteTime": {
     "end_time": "2024-05-04T18:37:56.654189Z",
     "start_time": "2024-05-04T18:30:47.537090Z"
    }
   },
   "outputs": [],
   "source": [
    "# create the csv file \n",
    "with open('mailbox.csv', 'w') as outputfile: # the file name, write the file as outputfile\n",
    "    writer = csv.writer(outputfile) # output written into csv\n",
    "    writer.writerow(['subject', 'from', 'date', 'to', 'label', 'thread'])\n",
    "    for message in mbox:\n",
    "        writer.writerow([\n",
    "            message['subject'], message['from'], message['date'],\n",
    "            message['to'], message['X-Gmail-Labels'], message['X-GM-THRID']\n",
    "        ])"
   ]
  },
  {
   "cell_type": "code",
   "execution_count": 68,
   "id": "3c3b9ef7",
   "metadata": {
    "ExecuteTime": {
     "end_time": "2024-05-04T18:39:49.412041Z",
     "start_time": "2024-05-04T18:39:44.330643Z"
    }
   },
   "outputs": [],
   "source": [
    "# import the data analysis package - pandas\n",
    "import pandas as pd "
   ]
  },
  {
   "cell_type": "code",
   "execution_count": 69,
   "id": "814189dc",
   "metadata": {
    "ExecuteTime": {
     "end_time": "2024-05-04T18:40:12.883874Z",
     "start_time": "2024-05-04T18:40:12.594470Z"
    }
   },
   "outputs": [],
   "source": [
    "# create a dataframe\n",
    "gmail_data = pd.read_csv('mailbox.csv')"
   ]
  },
  {
   "cell_type": "code",
   "execution_count": 70,
   "id": "81750a27",
   "metadata": {
    "ExecuteTime": {
     "end_time": "2024-05-04T18:40:34.029979Z",
     "start_time": "2024-05-04T18:40:33.824965Z"
    }
   },
   "outputs": [
    {
     "data": {
      "text/html": [
       "<div>\n",
       "<style scoped>\n",
       "    .dataframe tbody tr th:only-of-type {\n",
       "        vertical-align: middle;\n",
       "    }\n",
       "\n",
       "    .dataframe tbody tr th {\n",
       "        vertical-align: top;\n",
       "    }\n",
       "\n",
       "    .dataframe thead th {\n",
       "        text-align: right;\n",
       "    }\n",
       "</style>\n",
       "<table border=\"1\" class=\"dataframe\">\n",
       "  <thead>\n",
       "    <tr style=\"text-align: right;\">\n",
       "      <th></th>\n",
       "      <th>subject</th>\n",
       "      <th>from</th>\n",
       "      <th>date</th>\n",
       "      <th>to</th>\n",
       "      <th>label</th>\n",
       "      <th>thread</th>\n",
       "    </tr>\n",
       "  </thead>\n",
       "  <tbody>\n",
       "    <tr>\n",
       "      <th>0</th>\n",
       "      <td>=?UTF-8?B?RGlkIFdlIEdvIFRvbyBGYXI/?=</td>\n",
       "      <td>\"Windscribe\" &lt;noreply@windscribe.com&gt;</td>\n",
       "      <td>Thu,  4 Apr 2024 17:14:30 -0400 (EDT)</td>\n",
       "      <td>favourkpokpe@gmail.com</td>\n",
       "      <td>Inbox,Category Promotions,Unread</td>\n",
       "      <td>1795482609448662255</td>\n",
       "    </tr>\n",
       "    <tr>\n",
       "      <th>1</th>\n",
       "      <td>=?UTF-8?Q?Favour,_your_friends_will_love_this_...</td>\n",
       "      <td>Bella from Bolt &lt;nigeria@bolt-rider.com&gt;</td>\n",
       "      <td>Tue, 30 Apr 2024 10:26:29 +0000</td>\n",
       "      <td>favourkpokpe@gmail.com</td>\n",
       "      <td>Inbox,Category Promotions,Unread</td>\n",
       "      <td>1797755020558403754</td>\n",
       "    </tr>\n",
       "    <tr>\n",
       "      <th>2</th>\n",
       "      <td>=?utf-8?Q?The=20business=20of=20jelly=2C=20soc...</td>\n",
       "      <td>=?utf-8?Q?Courier?= &lt;hello@couriermedia.co&gt;</td>\n",
       "      <td>Fri, 10 Nov 2023 10:39:05 +0000</td>\n",
       "      <td>&lt;favourkpokpe@gmail.com&gt;</td>\n",
       "      <td>Inbox,Category Personal,Unread</td>\n",
       "      <td>1782173585939693960</td>\n",
       "    </tr>\n",
       "    <tr>\n",
       "      <th>3</th>\n",
       "      <td>\"Daily General Discussion - April 09, 2024 (U...\"</td>\n",
       "      <td>Reddit &lt;noreply@redditmail.com&gt;</td>\n",
       "      <td>Tue, 9 Apr 2024 20:32:39 +0000</td>\n",
       "      <td>favourkpokpe@gmail.com</td>\n",
       "      <td>Inbox,Category Updates,Unread</td>\n",
       "      <td>1795890620733921690</td>\n",
       "    </tr>\n",
       "    <tr>\n",
       "      <th>4</th>\n",
       "      <td>=?UTF-8?Q?=F0=9F=98=BA_Sam_Altman_is_back?=</td>\n",
       "      <td>Product Hunt Daily &lt;hello@digest.producthunt.com&gt;</td>\n",
       "      <td>Wed, 22 Nov 2023 15:07:38 +0000</td>\n",
       "      <td>favourkpokpe@gmail.com</td>\n",
       "      <td>Inbox,Category Promotions,Unread</td>\n",
       "      <td>1783277193639439309</td>\n",
       "    </tr>\n",
       "  </tbody>\n",
       "</table>\n",
       "</div>"
      ],
      "text/plain": [
       "                                             subject  \\\n",
       "0               =?UTF-8?B?RGlkIFdlIEdvIFRvbyBGYXI/?=   \n",
       "1  =?UTF-8?Q?Favour,_your_friends_will_love_this_...   \n",
       "2  =?utf-8?Q?The=20business=20of=20jelly=2C=20soc...   \n",
       "3  \"Daily General Discussion - April 09, 2024 (U...\"   \n",
       "4        =?UTF-8?Q?=F0=9F=98=BA_Sam_Altman_is_back?=   \n",
       "\n",
       "                                                from  \\\n",
       "0              \"Windscribe\" <noreply@windscribe.com>   \n",
       "1           Bella from Bolt <nigeria@bolt-rider.com>   \n",
       "2        =?utf-8?Q?Courier?= <hello@couriermedia.co>   \n",
       "3                    Reddit <noreply@redditmail.com>   \n",
       "4  Product Hunt Daily <hello@digest.producthunt.com>   \n",
       "\n",
       "                                    date                        to  \\\n",
       "0  Thu,  4 Apr 2024 17:14:30 -0400 (EDT)    favourkpokpe@gmail.com   \n",
       "1        Tue, 30 Apr 2024 10:26:29 +0000    favourkpokpe@gmail.com   \n",
       "2        Fri, 10 Nov 2023 10:39:05 +0000  <favourkpokpe@gmail.com>   \n",
       "3         Tue, 9 Apr 2024 20:32:39 +0000    favourkpokpe@gmail.com   \n",
       "4        Wed, 22 Nov 2023 15:07:38 +0000    favourkpokpe@gmail.com   \n",
       "\n",
       "                              label               thread  \n",
       "0  Inbox,Category Promotions,Unread  1795482609448662255  \n",
       "1  Inbox,Category Promotions,Unread  1797755020558403754  \n",
       "2    Inbox,Category Personal,Unread  1782173585939693960  \n",
       "3     Inbox,Category Updates,Unread  1795890620733921690  \n",
       "4  Inbox,Category Promotions,Unread  1783277193639439309  "
      ]
     },
     "execution_count": 70,
     "metadata": {},
     "output_type": "execute_result"
    }
   ],
   "source": [
    "# the first five rows \n",
    "gmail_data.head()"
   ]
  },
  {
   "cell_type": "code",
   "execution_count": 71,
   "id": "dc7c152d",
   "metadata": {
    "ExecuteTime": {
     "end_time": "2024-05-04T18:43:58.937031Z",
     "start_time": "2024-05-04T18:43:58.780764Z"
    }
   },
   "outputs": [
    {
     "name": "stdout",
     "output_type": "stream",
     "text": [
      "<class 'pandas.core.frame.DataFrame'>\n",
      "RangeIndex: 3400 entries, 0 to 3399\n",
      "Data columns (total 6 columns):\n",
      " #   Column   Non-Null Count  Dtype \n",
      "---  ------   --------------  ----- \n",
      " 0   subject  3397 non-null   object\n",
      " 1   from     3400 non-null   object\n",
      " 2   date     3400 non-null   object\n",
      " 3   to       3400 non-null   object\n",
      " 4   label    3400 non-null   object\n",
      " 5   thread   3400 non-null   int64 \n",
      "dtypes: int64(1), object(5)\n",
      "memory usage: 159.5+ KB\n"
     ]
    }
   ],
   "source": [
    "# Get a concise summary \n",
    "gmail_data.info() "
   ]
  },
  {
   "cell_type": "code",
   "execution_count": 17,
   "id": "e4e63572",
   "metadata": {},
   "outputs": [],
   "source": [
    "# Date column - object - Datetime \n",
    "# Time - Date format is critical "
   ]
  },
  {
   "cell_type": "code",
   "execution_count": 77,
   "id": "98c87069",
   "metadata": {},
   "outputs": [
    {
     "data": {
      "text/plain": [
       "(3400, 6)"
      ]
     },
     "execution_count": 77,
     "metadata": {},
     "output_type": "execute_result"
    }
   ],
   "source": [
    "gmail_data.shape"
   ]
  },
  {
   "cell_type": "code",
   "execution_count": 73,
   "id": "3612a6fa",
   "metadata": {
    "ExecuteTime": {
     "end_time": "2024-05-04T18:52:47.772700Z",
     "start_time": "2024-05-04T18:52:47.731123Z"
    }
   },
   "outputs": [
    {
     "data": {
      "text/plain": [
       "0    Thu,  4 Apr 2024 17:14:30 -0400 (EDT)\n",
       "1          Tue, 30 Apr 2024 10:26:29 +0000\n",
       "Name: date, dtype: object"
      ]
     },
     "execution_count": 73,
     "metadata": {},
     "output_type": "execute_result"
    }
   ],
   "source": [
    "gmail_data['date'].head(2)"
   ]
  },
  {
   "cell_type": "code",
   "execution_count": 74,
   "id": "31851d32",
   "metadata": {
    "ExecuteTime": {
     "end_time": "2024-05-04T18:59:25.727623Z",
     "start_time": "2024-05-04T18:59:25.510183Z"
    }
   },
   "outputs": [],
   "source": [
    "# We need to transform this column data type - EDA\n",
    "gmail_data['date'] = gmail_data['date'].apply(\n",
    "    lambda x: pd.to_datetime(x, errors='coerce', utc=True))"
   ]
  },
  {
   "cell_type": "code",
   "execution_count": 75,
   "id": "ba053139",
   "metadata": {
    "ExecuteTime": {
     "end_time": "2024-05-04T18:59:36.554943Z",
     "start_time": "2024-05-04T18:59:36.541788Z"
    }
   },
   "outputs": [
    {
     "data": {
      "text/plain": [
       "0   2024-04-04 21:14:30+00:00\n",
       "1   2024-04-30 10:26:29+00:00\n",
       "Name: date, dtype: datetime64[ns, UTC]"
      ]
     },
     "execution_count": 75,
     "metadata": {},
     "output_type": "execute_result"
    }
   ],
   "source": [
    "gmail_data['date'].head(2)"
   ]
  },
  {
   "cell_type": "code",
   "execution_count": 76,
   "id": "3893cd66",
   "metadata": {
    "ExecuteTime": {
     "end_time": "2024-05-04T19:00:50.948077Z",
     "start_time": "2024-05-04T19:00:50.886308Z"
    }
   },
   "outputs": [
    {
     "name": "stdout",
     "output_type": "stream",
     "text": [
      "<class 'pandas.core.frame.DataFrame'>\n",
      "RangeIndex: 3400 entries, 0 to 3399\n",
      "Data columns (total 6 columns):\n",
      " #   Column   Non-Null Count  Dtype              \n",
      "---  ------   --------------  -----              \n",
      " 0   subject  3397 non-null   object             \n",
      " 1   from     3400 non-null   object             \n",
      " 2   date     3400 non-null   datetime64[ns, UTC]\n",
      " 3   to       3400 non-null   object             \n",
      " 4   label    3400 non-null   object             \n",
      " 5   thread   3400 non-null   int64              \n",
      "dtypes: datetime64[ns, UTC](1), int64(1), object(4)\n",
      "memory usage: 159.5+ KB\n"
     ]
    }
   ],
   "source": [
    "gmail_data.info()"
   ]
  },
  {
   "cell_type": "code",
   "execution_count": 22,
   "id": "ca65c329",
   "metadata": {
    "ExecuteTime": {
     "end_time": "2024-05-04T19:01:07.496204Z",
     "start_time": "2024-05-04T19:01:07.429357Z"
    }
   },
   "outputs": [
    {
     "data": {
      "text/html": [
       "<div>\n",
       "<style scoped>\n",
       "    .dataframe tbody tr th:only-of-type {\n",
       "        vertical-align: middle;\n",
       "    }\n",
       "\n",
       "    .dataframe tbody tr th {\n",
       "        vertical-align: top;\n",
       "    }\n",
       "\n",
       "    .dataframe thead th {\n",
       "        text-align: right;\n",
       "    }\n",
       "</style>\n",
       "<table border=\"1\" class=\"dataframe\">\n",
       "  <thead>\n",
       "    <tr style=\"text-align: right;\">\n",
       "      <th></th>\n",
       "      <th>subject</th>\n",
       "      <th>from</th>\n",
       "      <th>date</th>\n",
       "      <th>to</th>\n",
       "      <th>label</th>\n",
       "      <th>thread</th>\n",
       "    </tr>\n",
       "  </thead>\n",
       "  <tbody>\n",
       "  </tbody>\n",
       "</table>\n",
       "</div>"
      ],
      "text/plain": [
       "Empty DataFrame\n",
       "Columns: [subject, from, date, to, label, thread]\n",
       "Index: []"
      ]
     },
     "execution_count": 22,
     "metadata": {},
     "output_type": "execute_result"
    }
   ],
   "source": [
    "gmail_data.head()"
   ]
  },
  {
   "cell_type": "code",
   "execution_count": 78,
   "id": "86d12803",
   "metadata": {
    "ExecuteTime": {
     "end_time": "2024-05-04T19:02:24.861336Z",
     "start_time": "2024-05-04T19:02:24.697642Z"
    }
   },
   "outputs": [
    {
     "data": {
      "text/plain": [
       "0       \"Windscribe\" <noreply@windscribe.com>\n",
       "1    Bella from Bolt <nigeria@bolt-rider.com>\n",
       "Name: from, dtype: object"
      ]
     },
     "execution_count": 78,
     "metadata": {},
     "output_type": "execute_result"
    }
   ],
   "source": [
    "# Look at the from column\n",
    "gmail_data['from'].head(2)"
   ]
  },
  {
   "cell_type": "code",
   "execution_count": null,
   "id": "571cf0a9",
   "metadata": {},
   "outputs": [],
   "source": []
  },
  {
   "cell_type": "code",
   "execution_count": null,
   "id": "8672d1f7",
   "metadata": {},
   "outputs": [],
   "source": []
  },
  {
   "cell_type": "code",
   "execution_count": null,
   "id": "f6be8e6b",
   "metadata": {},
   "outputs": [],
   "source": [
    "# Capture, Configure, and Control"
   ]
  },
  {
   "cell_type": "code",
   "execution_count": null,
   "id": "dd2969d2",
   "metadata": {},
   "outputs": [],
   "source": []
  },
  {
   "cell_type": "code",
   "execution_count": null,
   "id": "40d99bf3",
   "metadata": {},
   "outputs": [],
   "source": []
  }
 ],
 "metadata": {
  "kernelspec": {
   "display_name": "Python 3 (ipykernel)",
   "language": "python",
   "name": "python3"
  },
  "language_info": {
   "codemirror_mode": {
    "name": "ipython",
    "version": 3
   },
   "file_extension": ".py",
   "mimetype": "text/x-python",
   "name": "python",
   "nbconvert_exporter": "python",
   "pygments_lexer": "ipython3",
   "version": "3.11.4"
  }
 },
 "nbformat": 4,
 "nbformat_minor": 5
}
