{
 "cells": [
  {
   "cell_type": "markdown",
   "id": "0cd2c258",
   "metadata": {},
   "source": [
    "### Approaching Problem Solving - Data Science Context"
   ]
  },
  {
   "cell_type": "code",
   "execution_count": 2,
   "id": "7eef9d3a",
   "metadata": {},
   "outputs": [],
   "source": [
    "# 1. Understanding the problem - Key questions that need answers, Clear Objectives, Context\n",
    "# 2. Data Collection - Public datasets, APIs, Primary data, Data Quality\n",
    "# 3. Data Preparation - Data Cleaning, Data Transformation, Feature Engineering \n",
    "# 4. Exploratory Data Analysis - Visualize Data, Statistical Analysis"
   ]
  },
  {
   "cell_type": "markdown",
   "id": "046f8e46",
   "metadata": {},
   "source": [
    "### Visualisation Fundamentals "
   ]
  },
  {
   "cell_type": "code",
   "execution_count": 3,
   "id": "ae7400e7",
   "metadata": {},
   "outputs": [],
   "source": [
    "# Why we visualize data\n",
    "\n",
    "# 1. Simplify complex data\n",
    "\n",
    "# 2. Improve data comprehension \n",
    "\n",
    "# 3. Facilitate communication \n",
    "\n",
    "# 4. Enhances data driven decision making\n",
    "\n",
    "# 5. Supports data exploration\n",
    "\n",
    "# 6.Identify patterns & Trends\n",
    "\n",
    "# 7. It helps in storytelling \n",
    "\n",
    "# 8. Insightful Analysis \n",
    "\n",
    "# 9. Accessibility - Different expertise"
   ]
  },
  {
   "cell_type": "code",
   "execution_count": 4,
   "id": "0be43d9f",
   "metadata": {
    "ExecuteTime": {
     "end_time": "2024-05-08T18:03:52.036884Z",
     "start_time": "2024-05-08T18:03:47.992629Z"
    }
   },
   "outputs": [],
   "source": [
    "# import packages \n",
    "import pandas as pd \n",
    "import numpy as np \n",
    "import matplotlib.pyplot as plt\n",
    "import seaborn as sns \n",
    "import statsmodels.api as sm\n",
    "from statsmodels.formula.api import ols"
   ]
  },
  {
   "cell_type": "code",
   "execution_count": 5,
   "id": "df589b3a",
   "metadata": {
    "ExecuteTime": {
     "end_time": "2024-05-08T17:47:54.341879Z",
     "start_time": "2024-05-08T17:47:54.075474Z"
    }
   },
   "outputs": [],
   "source": [
    "# Anscombe's Quartet\n",
    "# Create the data for Anscombe's Quartet\n",
    "data = {\n",
    "    'I': {\n",
    "        'x': [10, 8, 13, 9, 11, 14, 6, 4, 12, 7, 5],\n",
    "        'y': [8.04, 6.95, 7.58, 8.81, 8.33, 9.96, 7.24, 4.26, 10.84, 4.82, 5.68]\n",
    "    },\n",
    "    'II': {\n",
    "        'x': [10, 8, 13, 9, 11, 14, 6, 4, 12, 7, 5],\n",
    "        'y': [9.14, 8.14, 8.74, 8.77, 9.26, 8.10, 6.13, 3.10, 9.13, 7.26, 4.74]\n",
    "    },\n",
    "    'III': {\n",
    "        'x': [10, 8, 13, 9, 11, 14, 6, 4, 12, 7, 5],\n",
    "        'y': [7.46, 6.77, 12.74, 7.11, 7.81, 8.84, 6.08, 5.39, 8.15, 6.42, 5.73]\n",
    "    },\n",
    "    'IV': {\n",
    "        'x': [8, 8, 8, 8, 8, 8, 8, 8, 8, 8, 8],\n",
    "        'y': [6.58, 5.76, 7.71, 8.84, 8.47, 7.04, 5.25, 5.56, 7.91, 6.89, 7.92]\n",
    "    }\n",
    "}\n"
   ]
  },
  {
   "cell_type": "code",
   "execution_count": 6,
   "id": "1907a38e",
   "metadata": {
    "ExecuteTime": {
     "end_time": "2024-05-08T17:47:58.459183Z",
     "start_time": "2024-05-08T17:47:57.915489Z"
    }
   },
   "outputs": [
    {
     "data": {
      "text/plain": [
       "{'I': {'x': [10, 8, 13, 9, 11, 14, 6, 4, 12, 7, 5],\n",
       "  'y': [8.04, 6.95, 7.58, 8.81, 8.33, 9.96, 7.24, 4.26, 10.84, 4.82, 5.68]},\n",
       " 'II': {'x': [10, 8, 13, 9, 11, 14, 6, 4, 12, 7, 5],\n",
       "  'y': [9.14, 8.14, 8.74, 8.77, 9.26, 8.1, 6.13, 3.1, 9.13, 7.26, 4.74]},\n",
       " 'III': {'x': [10, 8, 13, 9, 11, 14, 6, 4, 12, 7, 5],\n",
       "  'y': [7.46, 6.77, 12.74, 7.11, 7.81, 8.84, 6.08, 5.39, 8.15, 6.42, 5.73]},\n",
       " 'IV': {'x': [8, 8, 8, 8, 8, 8, 8, 8, 8, 8, 8],\n",
       "  'y': [6.58, 5.76, 7.71, 8.84, 8.47, 7.04, 5.25, 5.56, 7.91, 6.89, 7.92]}}"
      ]
     },
     "execution_count": 6,
     "metadata": {},
     "output_type": "execute_result"
    }
   ],
   "source": [
    "data "
   ]
  },
  {
   "cell_type": "code",
   "execution_count": 7,
   "id": "0505b9b8",
   "metadata": {
    "ExecuteTime": {
     "end_time": "2024-05-08T17:55:12.026163Z",
     "start_time": "2024-05-08T17:55:11.599891Z"
    }
   },
   "outputs": [
    {
     "name": "stderr",
     "output_type": "stream",
     "text": [
      "C:\\Users\\KLAUS\\reptile\\Lib\\site-packages\\numpy\\lib\\function_base.py:2854: RuntimeWarning: invalid value encountered in divide\n",
      "  c /= stddev[:, None]\n",
      "C:\\Users\\KLAUS\\reptile\\Lib\\site-packages\\numpy\\lib\\function_base.py:2855: RuntimeWarning: invalid value encountered in divide\n",
      "  c /= stddev[None, :]\n"
     ]
    }
   ],
   "source": [
    "# Statistical summaries\n",
    "stats = {}\n",
    "\n",
    "for key in data.keys():\n",
    "    x = np.array(data[key]['x'])\n",
    "    y = np.array(data[key]['y'])\n",
    "    df = pd.DataFrame({'x': x, 'y': y})\n",
    "    model = ols(\"y ~ x\", df).fit()\n",
    "    stats[key] = {\n",
    "        'mean_x': np.mean(x),\n",
    "        'mean_y': np.mean(y),\n",
    "        'variance_x': np.var(x, ddof=1),\n",
    "        'variance_y': np.var(y, ddof=1),\n",
    "        'correlation': np.corrcoef(x, y)[0, 1],\n",
    "        'regression_slope': model.params['x'],\n",
    "        'regression_intercept': model.params['Intercept']\n",
    "    }"
   ]
  },
  {
   "cell_type": "code",
   "execution_count": 8,
   "id": "542a33b9",
   "metadata": {
    "ExecuteTime": {
     "end_time": "2024-05-08T17:55:37.234218Z",
     "start_time": "2024-05-08T17:55:37.221100Z"
    }
   },
   "outputs": [
    {
     "data": {
      "text/plain": [
       "{'I': {'mean_x': 9.0,\n",
       "  'mean_y': 7.500909090909093,\n",
       "  'variance_x': 11.0,\n",
       "  'variance_y': 4.127269090909091,\n",
       "  'correlation': 0.81642051634484,\n",
       "  'regression_slope': 0.5000909090909091,\n",
       "  'regression_intercept': 3.0000909090909076},\n",
       " 'II': {'mean_x': 9.0,\n",
       "  'mean_y': 7.50090909090909,\n",
       "  'variance_x': 11.0,\n",
       "  'variance_y': 4.127629090909091,\n",
       "  'correlation': 0.8162365060002428,\n",
       "  'regression_slope': 0.4999999999999998,\n",
       "  'regression_intercept': 3.000909090909091},\n",
       " 'III': {'mean_x': 9.0,\n",
       "  'mean_y': 7.5,\n",
       "  'variance_x': 11.0,\n",
       "  'variance_y': 4.12262,\n",
       "  'correlation': 0.8162867394895984,\n",
       "  'regression_slope': 0.49972727272727274,\n",
       "  'regression_intercept': 3.002454545454545},\n",
       " 'IV': {'mean_x': 8.0,\n",
       "  'mean_y': 7.084545454545455,\n",
       "  'variance_x': 0.0,\n",
       "  'variance_y': 1.451027272727273,\n",
       "  'correlation': nan,\n",
       "  'regression_slope': 0.8719440559440559,\n",
       "  'regression_intercept': 0.10899300699300699}}"
      ]
     },
     "execution_count": 8,
     "metadata": {},
     "output_type": "execute_result"
    }
   ],
   "source": [
    "stats"
   ]
  },
  {
   "cell_type": "code",
   "execution_count": 17,
   "id": "09952a96",
   "metadata": {
    "ExecuteTime": {
     "end_time": "2024-05-08T17:59:03.346770Z",
     "start_time": "2024-05-08T17:59:03.336055Z"
    }
   },
   "outputs": [],
   "source": [
    "stats_df = pd.DataFrame(stats).T"
   ]
  },
  {
   "cell_type": "code",
   "execution_count": 18,
   "id": "aacbb799",
   "metadata": {
    "ExecuteTime": {
     "end_time": "2024-05-08T17:59:04.814719Z",
     "start_time": "2024-05-08T17:59:04.790912Z"
    }
   },
   "outputs": [
    {
     "data": {
      "text/html": [
       "<div>\n",
       "<style scoped>\n",
       "    .dataframe tbody tr th:only-of-type {\n",
       "        vertical-align: middle;\n",
       "    }\n",
       "\n",
       "    .dataframe tbody tr th {\n",
       "        vertical-align: top;\n",
       "    }\n",
       "\n",
       "    .dataframe thead th {\n",
       "        text-align: right;\n",
       "    }\n",
       "</style>\n",
       "<table border=\"1\" class=\"dataframe\">\n",
       "  <thead>\n",
       "    <tr style=\"text-align: right;\">\n",
       "      <th></th>\n",
       "      <th>mean_x</th>\n",
       "      <th>mean_y</th>\n",
       "      <th>variance_x</th>\n",
       "      <th>variance_y</th>\n",
       "      <th>correlation</th>\n",
       "      <th>regression_slope</th>\n",
       "      <th>regression_intercept</th>\n",
       "    </tr>\n",
       "  </thead>\n",
       "  <tbody>\n",
       "    <tr>\n",
       "      <th>I</th>\n",
       "      <td>9.0</td>\n",
       "      <td>7.500909</td>\n",
       "      <td>11.0</td>\n",
       "      <td>4.127269</td>\n",
       "      <td>0.816421</td>\n",
       "      <td>0.500091</td>\n",
       "      <td>3.000091</td>\n",
       "    </tr>\n",
       "    <tr>\n",
       "      <th>II</th>\n",
       "      <td>9.0</td>\n",
       "      <td>7.500909</td>\n",
       "      <td>11.0</td>\n",
       "      <td>4.127629</td>\n",
       "      <td>0.816237</td>\n",
       "      <td>0.500000</td>\n",
       "      <td>3.000909</td>\n",
       "    </tr>\n",
       "    <tr>\n",
       "      <th>III</th>\n",
       "      <td>9.0</td>\n",
       "      <td>7.500000</td>\n",
       "      <td>11.0</td>\n",
       "      <td>4.122620</td>\n",
       "      <td>0.816287</td>\n",
       "      <td>0.499727</td>\n",
       "      <td>3.002455</td>\n",
       "    </tr>\n",
       "    <tr>\n",
       "      <th>IV</th>\n",
       "      <td>8.0</td>\n",
       "      <td>7.084545</td>\n",
       "      <td>0.0</td>\n",
       "      <td>1.451027</td>\n",
       "      <td>NaN</td>\n",
       "      <td>0.871944</td>\n",
       "      <td>0.108993</td>\n",
       "    </tr>\n",
       "  </tbody>\n",
       "</table>\n",
       "</div>"
      ],
      "text/plain": [
       "     mean_x    mean_y  variance_x  variance_y  correlation  regression_slope  \\\n",
       "I       9.0  7.500909        11.0    4.127269     0.816421          0.500091   \n",
       "II      9.0  7.500909        11.0    4.127629     0.816237          0.500000   \n",
       "III     9.0  7.500000        11.0    4.122620     0.816287          0.499727   \n",
       "IV      8.0  7.084545         0.0    1.451027          NaN          0.871944   \n",
       "\n",
       "     regression_intercept  \n",
       "I                3.000091  \n",
       "II               3.000909  \n",
       "III              3.002455  \n",
       "IV               0.108993  "
      ]
     },
     "execution_count": 18,
     "metadata": {},
     "output_type": "execute_result"
    }
   ],
   "source": [
    "stats_df"
   ]
  },
  {
   "cell_type": "code",
   "execution_count": 19,
   "id": "7d061595",
   "metadata": {
    "ExecuteTime": {
     "end_time": "2024-05-08T18:08:39.816029Z",
     "start_time": "2024-05-08T18:08:32.329903Z"
    }
   },
   "outputs": [
    {
     "data": {
      "image/png": "[encoded data removed]",
      "text/plain": [
       "<Figure size 1000x800 with 4 Axes>"
      ]
     },
     "metadata": {},
     "output_type": "display_data"
    }
   ],
   "source": [
    "# Creating a figure\n",
    "fig, axes = plt.subplots(2, 2, figsize=(10, 8))\n",
    "axes = axes.flatten()\n",
    "\n",
    "for i, key in enumerate(data.keys()):\n",
    "    x = np.array(data[key]['x'])\n",
    "    y = np.array(data[key]['y'])\n",
    "    axes[i].scatter(x, y)\n",
    "    axes[i].set_xlim(0, 20)\n",
    "    axes[i].set_ylim(0, 15)\n",
    "    axes[i].set_title(f'Dataset {key}')\n",
    "    # Plotting the linear regression line\n",
    "    sns.regplot(x=x, y=y, ax=axes[i], ci=None, line_kws={\"color\":\"orange\"})\n",
    "\n",
    "plt.tight_layout()\n",
    "plt.show()"
   ]
  },
  {
   "cell_type": "markdown",
   "id": "b06b445b",
   "metadata": {},
   "source": [
    "### Univariate Plots"
   ]
  },
  {
   "cell_type": "code",
   "execution_count": 12,
   "id": "1c1a554a",
   "metadata": {
    "ExecuteTime": {
     "end_time": "2024-05-08T18:49:24.097122Z",
     "start_time": "2024-05-08T18:49:19.607690Z"
    }
   },
   "outputs": [],
   "source": [
    "# Single variable plots\n",
    "# Bar chart/plot\n",
    "penguins = sns.load_dataset('penguins')"
   ]
  },
  {
   "cell_type": "code",
   "execution_count": 13,
   "id": "06874357",
   "metadata": {
    "ExecuteTime": {
     "end_time": "2024-05-08T19:35:36.965026Z",
     "start_time": "2024-05-08T19:35:36.703360Z"
    }
   },
   "outputs": [
    {
     "data": {
      "text/html": [
       "<div>\n",
       "<style scoped>\n",
       "    .dataframe tbody tr th:only-of-type {\n",
       "        vertical-align: middle;\n",
       "    }\n",
       "\n",
       "    .dataframe tbody tr th {\n",
       "        vertical-align: top;\n",
       "    }\n",
       "\n",
       "    .dataframe thead th {\n",
       "        text-align: right;\n",
       "    }\n",
       "</style>\n",
       "<table border=\"1\" class=\"dataframe\">\n",
       "  <thead>\n",
       "    <tr style=\"text-align: right;\">\n",
       "      <th></th>\n",
       "      <th>species</th>\n",
       "      <th>island</th>\n",
       "      <th>bill_length_mm</th>\n",
       "      <th>bill_depth_mm</th>\n",
       "      <th>flipper_length_mm</th>\n",
       "      <th>body_mass_g</th>\n",
       "      <th>sex</th>\n",
       "    </tr>\n",
       "  </thead>\n",
       "  <tbody>\n",
       "    <tr>\n",
       "      <th>0</th>\n",
       "      <td>Adelie</td>\n",
       "      <td>Torgersen</td>\n",
       "      <td>39.1</td>\n",
       "      <td>18.7</td>\n",
       "      <td>181.0</td>\n",
       "      <td>3750.0</td>\n",
       "      <td>Male</td>\n",
       "    </tr>\n",
       "    <tr>\n",
       "      <th>1</th>\n",
       "      <td>Adelie</td>\n",
       "      <td>Torgersen</td>\n",
       "      <td>39.5</td>\n",
       "      <td>17.4</td>\n",
       "      <td>186.0</td>\n",
       "      <td>3800.0</td>\n",
       "      <td>Female</td>\n",
       "    </tr>\n",
       "    <tr>\n",
       "      <th>2</th>\n",
       "      <td>Adelie</td>\n",
       "      <td>Torgersen</td>\n",
       "      <td>40.3</td>\n",
       "      <td>18.0</td>\n",
       "      <td>195.0</td>\n",
       "      <td>3250.0</td>\n",
       "      <td>Female</td>\n",
       "    </tr>\n",
       "    <tr>\n",
       "      <th>3</th>\n",
       "      <td>Adelie</td>\n",
       "      <td>Torgersen</td>\n",
       "      <td>NaN</td>\n",
       "      <td>NaN</td>\n",
       "      <td>NaN</td>\n",
       "      <td>NaN</td>\n",
       "      <td>NaN</td>\n",
       "    </tr>\n",
       "    <tr>\n",
       "      <th>4</th>\n",
       "      <td>Adelie</td>\n",
       "      <td>Torgersen</td>\n",
       "      <td>36.7</td>\n",
       "      <td>19.3</td>\n",
       "      <td>193.0</td>\n",
       "      <td>3450.0</td>\n",
       "      <td>Female</td>\n",
       "    </tr>\n",
       "  </tbody>\n",
       "</table>\n",
       "</div>"
      ],
      "text/plain": [
       "  species     island  bill_length_mm  bill_depth_mm  flipper_length_mm  \\\n",
       "0  Adelie  Torgersen            39.1           18.7              181.0   \n",
       "1  Adelie  Torgersen            39.5           17.4              186.0   \n",
       "2  Adelie  Torgersen            40.3           18.0              195.0   \n",
       "3  Adelie  Torgersen             NaN            NaN                NaN   \n",
       "4  Adelie  Torgersen            36.7           19.3              193.0   \n",
       "\n",
       "   body_mass_g     sex  \n",
       "0       3750.0    Male  \n",
       "1       3800.0  Female  \n",
       "2       3250.0  Female  \n",
       "3          NaN     NaN  \n",
       "4       3450.0  Female  "
      ]
     },
     "execution_count": 13,
     "metadata": {},
     "output_type": "execute_result"
    }
   ],
   "source": [
    "penguins.head() # first 5 rows"
   ]
  },
  {
   "cell_type": "code",
   "execution_count": 14,
   "id": "5d203b0c",
   "metadata": {
    "ExecuteTime": {
     "end_time": "2024-05-08T18:52:29.380476Z",
     "start_time": "2024-05-08T18:52:29.118893Z"
    }
   },
   "outputs": [
    {
     "data": {
      "image/png": "[encoded data removed]",
      "text/plain": [
       "<Figure size 640x480 with 1 Axes>"
      ]
     },
     "metadata": {},
     "output_type": "display_data"
    }
   ],
   "source": [
    "# Single variable plot\n",
    "penguins['island'].value_counts().head().plot.bar();"
   ]
  },
  {
   "cell_type": "code",
   "execution_count": 15,
   "id": "5852e4ca",
   "metadata": {
    "ExecuteTime": {
     "end_time": "2024-05-08T18:50:34.523720Z",
     "start_time": "2024-05-08T18:50:31.697349Z"
    }
   },
   "outputs": [
    {
     "data": {
      "image/png": "[encoded data removed]",
      "text/plain": [
       "<Figure size 640x480 with 1 Axes>"
      ]
     },
     "metadata": {},
     "output_type": "display_data"
    }
   ],
   "source": [
    "# Uni-variate plot\n",
    "sns.barplot(penguins, x=\"island\", y=\"body_mass_g\");"
   ]
  },
  {
   "cell_type": "code",
   "execution_count": 16,
   "id": "54cb54f4",
   "metadata": {
    "ExecuteTime": {
     "end_time": "2024-05-08T18:49:26.246942Z",
     "start_time": "2024-05-08T18:49:26.208650Z"
    }
   },
   "outputs": [],
   "source": [
    "#sns.get_dataset_names()"
   ]
  },
  {
   "cell_type": "code",
   "execution_count": null,
   "id": "10623d1f",
   "metadata": {},
   "outputs": [],
   "source": []
  }
 ],
 "metadata": {
  "kernelspec": {
   "display_name": "Python 3 (ipykernel)",
   "language": "python",
   "name": "python3"
  },
  "language_info": {
   "codemirror_mode": {
    "name": "ipython",
    "version": 3
   },
   "file_extension": ".py",
   "mimetype": "text/x-python",
   "name": "python",
   "nbconvert_exporter": "python",
   "pygments_lexer": "ipython3",
   "version": "3.11.4"
  }
 },
 "nbformat": 4,
 "nbformat_minor": 5
}
