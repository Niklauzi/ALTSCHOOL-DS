{
 "cells": [
  {
   "cell_type": "markdown",
   "id": "ce5bd1dd",
   "metadata": {},
   "source": [
    "### Context & Roles"
   ]
  },
  {
   "cell_type": "code",
   "execution_count": null,
   "id": "1e37295f",
   "metadata": {
    "ExecuteTime": {
     "end_time": "2024-05-04T17:37:35.553861Z",
     "start_time": "2024-05-04T17:37:35.548134Z"
    }
   },
   "outputs": [],
   "source": [
    "# Email Marketing Analyst: KPIs, Targets, Bottomlines:Non-Profit/Profit/Social Enterprise \n",
    "# Users voluntarily share their email data\n",
    "# Answer some vital questions: Time, year, sent and received emails"
   ]
  },
  {
   "cell_type": "markdown",
   "id": "7ac490d3",
   "metadata": {
    "ExecuteTime": {
     "end_time": "2024-05-04T18:05:08.531930Z",
     "start_time": "2024-05-04T18:05:08.474619Z"
    }
   },
   "source": [
    "### Activities"
   ]
  },
  {
   "cell_type": "code",
   "execution_count": null,
   "id": "0520b691",
   "metadata": {
    "ExecuteTime": {
     "end_time": "2024-05-04T17:42:02.050856Z",
     "start_time": "2024-05-04T17:42:02.000582Z"
    }
   },
   "outputs": [],
   "source": [
    "# import your data: \n",
    "# Very crucial: Your data format - is mbox\n",
    "# We need to transform to csv\n",
    "# We need a Python package for this "
   ]
  },
  {
   "cell_type": "code",
   "execution_count": null,
   "id": "f9747185",
   "metadata": {
    "ExecuteTime": {
     "end_time": "2024-05-04T17:51:53.438250Z",
     "start_time": "2024-05-04T17:51:53.424425Z"
    }
   },
   "outputs": [],
   "source": [
    "# import statement - import a package\n",
    "# The functions/methods are imported into your namespace \n",
    "import mailbox "
   ]
  },
  {
   "cell_type": "code",
   "execution_count": null,
   "id": "840f7e7b",
   "metadata": {
    "ExecuteTime": {
     "end_time": "2024-05-04T17:45:08.777256Z",
     "start_time": "2024-05-04T17:45:08.759141Z"
    }
   },
   "outputs": [],
   "source": [
    "# Installation of mailbox package\n",
    "#!pip install mailbox"
   ]
  },
  {
   "cell_type": "code",
   "execution_count": null,
   "id": "699d835f",
   "metadata": {
    "ExecuteTime": {
     "end_time": "2024-05-04T17:46:27.126561Z",
     "start_time": "2024-05-04T17:46:27.094065Z"
    }
   },
   "outputs": [],
   "source": [
    "# Store my gmail mbox file as a variable\n",
    "mboxfile = 'All mail Including Spam and Trash1.mbox'"
   ]
  },
  {
   "cell_type": "code",
   "execution_count": null,
   "id": "80c0dc1d",
   "metadata": {
    "ExecuteTime": {
     "end_time": "2024-05-04T17:57:38.895430Z",
     "start_time": "2024-05-04T17:57:38.845670Z"
    }
   },
   "outputs": [],
   "source": [
    "type(mboxfile)"
   ]
  },
  {
   "cell_type": "code",
   "execution_count": null,
   "id": "fa5e7043",
   "metadata": {},
   "outputs": [],
   "source": []
  },
  {
   "cell_type": "code",
   "execution_count": null,
   "id": "825cfe29",
   "metadata": {
    "ExecuteTime": {
     "end_time": "2024-05-04T17:56:40.981755Z",
     "start_time": "2024-05-04T17:56:40.962134Z"
    }
   },
   "outputs": [],
   "source": [
    "# Initialise the gmail files\n",
    "mbox = mailbox.mbox(mboxfile)"
   ]
  },
  {
   "cell_type": "code",
   "execution_count": null,
   "id": "5dd10ec1",
   "metadata": {
    "ExecuteTime": {
     "end_time": "2024-05-04T17:58:15.178644Z",
     "start_time": "2024-05-04T17:58:15.166620Z"
    }
   },
   "outputs": [],
   "source": [
    "type(mbox)"
   ]
  },
  {
   "cell_type": "code",
   "execution_count": null,
   "id": "58bba249",
   "metadata": {
    "ExecuteTime": {
     "end_time": "2024-05-04T18:05:08.422269Z",
     "start_time": "2024-05-04T18:01:34.421375Z"
    }
   },
   "outputs": [],
   "source": [
    "# List the keys in the mbox file\n",
    "for key in mbox[0].keys():\n",
    "    print(key)"
   ]
  },
  {
   "cell_type": "code",
   "execution_count": null,
   "id": "253ed0a9",
   "metadata": {
    "ExecuteTime": {
     "end_time": "2024-05-04T18:15:41.938191Z",
     "start_time": "2024-05-04T18:15:41.578770Z"
    }
   },
   "outputs": [],
   "source": [
    "!ls "
   ]
  },
  {
   "cell_type": "markdown",
   "id": "36668468",
   "metadata": {},
   "source": [
    "### Activities"
   ]
  },
  {
   "cell_type": "code",
   "execution_count": null,
   "id": "a0535c87",
   "metadata": {},
   "outputs": [],
   "source": [
    "# We want to convert some file to csv\n",
    "# We want to create a dataframe \n",
    "# How do we convert to csv? - To use the csv package"
   ]
  },
  {
   "cell_type": "code",
   "execution_count": null,
   "id": "028e124e",
   "metadata": {
    "ExecuteTime": {
     "end_time": "2024-05-04T18:18:56.336122Z",
     "start_time": "2024-05-04T18:18:56.328358Z"
    }
   },
   "outputs": [],
   "source": [
    "# import a package \n",
    "import csv "
   ]
  },
  {
   "cell_type": "code",
   "execution_count": null,
   "id": "44996be0",
   "metadata": {
    "ExecuteTime": {
     "end_time": "2024-05-04T18:37:56.654189Z",
     "start_time": "2024-05-04T18:30:47.537090Z"
    }
   },
   "outputs": [],
   "source": [
    "# create the csv file \n",
    "with open('mailbox.csv', 'w') as outputfile: # the file name, write the file as outputfile\n",
    "    writer = csv.writer(outputfile) # output written into csv\n",
    "    writer.writerow(['subject', 'from', 'date', 'to', 'label', 'thread'])\n",
    "    for message in mbox:\n",
    "        writer.writerow([\n",
    "            message['subject'], message['from'], message['date'],\n",
    "            message['to'], message['X-Gmail-Labels'], message['X-GM-THRID']\n",
    "        ])"
   ]
  },
  {
   "cell_type": "code",
   "execution_count": null,
   "id": "3c3b9ef7",
   "metadata": {
    "ExecuteTime": {
     "end_time": "2024-05-04T18:39:49.412041Z",
     "start_time": "2024-05-04T18:39:44.330643Z"
    }
   },
   "outputs": [],
   "source": [
    "# import the data analysis package - pandas\n",
    "import pandas as pd "
   ]
  },
  {
   "cell_type": "code",
   "execution_count": null,
   "id": "814189dc",
   "metadata": {
    "ExecuteTime": {
     "end_time": "2024-05-04T18:40:12.883874Z",
     "start_time": "2024-05-04T18:40:12.594470Z"
    }
   },
   "outputs": [],
   "source": [
    "# create a dataframe\n",
    "gmail_data = pd.read_csv('mailbox.csv')"
   ]
  },
  {
   "cell_type": "code",
   "execution_count": null,
   "id": "81750a27",
   "metadata": {
    "ExecuteTime": {
     "end_time": "2024-05-04T18:40:34.029979Z",
     "start_time": "2024-05-04T18:40:33.824965Z"
    }
   },
   "outputs": [],
   "source": [
    "# the first five rows \n",
    "gmail_data.head()"
   ]
  },
  {
   "cell_type": "code",
   "execution_count": null,
   "id": "dc7c152d",
   "metadata": {
    "ExecuteTime": {
     "end_time": "2024-05-04T18:43:58.937031Z",
     "start_time": "2024-05-04T18:43:58.780764Z"
    }
   },
   "outputs": [],
   "source": [
    "# Get a concise summary \n",
    "gmail_data.info() "
   ]
  },
  {
   "cell_type": "code",
   "execution_count": null,
   "id": "e4e63572",
   "metadata": {},
   "outputs": [],
   "source": [
    "# Date column - object - Datetime \n",
    "# Time - Date format is critical "
   ]
  },
  {
   "cell_type": "code",
   "execution_count": null,
   "id": "31119d58",
   "metadata": {},
   "outputs": [],
   "source": [
    "gmail_data.shape"
   ]
  },
  {
   "cell_type": "code",
   "execution_count": null,
   "id": "3612a6fa",
   "metadata": {
    "ExecuteTime": {
     "end_time": "2024-05-04T18:52:47.772700Z",
     "start_time": "2024-05-04T18:52:47.731123Z"
    }
   },
   "outputs": [],
   "source": [
    "gmail_data['date'].head(2)"
   ]
  },
  {
   "cell_type": "code",
   "execution_count": null,
   "id": "31851d32",
   "metadata": {
    "ExecuteTime": {
     "end_time": "2024-05-04T18:59:25.727623Z",
     "start_time": "2024-05-04T18:59:25.510183Z"
    }
   },
   "outputs": [],
   "source": [
    "# We need to transform this column data type - EDA\n",
    "gmail_data['date'] = gmail_data['date'].apply(\n",
    "    lambda x: pd.to_datetime(x, errors='coerce', utc=True))"
   ]
  },
  {
   "cell_type": "code",
   "execution_count": null,
   "id": "ba053139",
   "metadata": {
    "ExecuteTime": {
     "end_time": "2024-05-04T18:59:36.554943Z",
     "start_time": "2024-05-04T18:59:36.541788Z"
    }
   },
   "outputs": [],
   "source": [
    "gmail_data['date'].head(2)"
   ]
  },
  {
   "cell_type": "code",
   "execution_count": null,
   "id": "3893cd66",
   "metadata": {
    "ExecuteTime": {
     "end_time": "2024-05-04T19:00:50.948077Z",
     "start_time": "2024-05-04T19:00:50.886308Z"
    }
   },
   "outputs": [],
   "source": [
    "gmail_data.info()"
   ]
  },
  {
   "cell_type": "code",
   "execution_count": null,
   "id": "ca65c329",
   "metadata": {
    "ExecuteTime": {
     "end_time": "2024-05-04T19:01:07.496204Z",
     "start_time": "2024-05-04T19:01:07.429357Z"
    }
   },
   "outputs": [],
   "source": [
    "gmail_data.head()"
   ]
  },
  {
   "cell_type": "code",
   "execution_count": null,
   "id": "86d12803",
   "metadata": {
    "ExecuteTime": {
     "end_time": "2024-05-04T19:02:24.861336Z",
     "start_time": "2024-05-04T19:02:24.697642Z"
    }
   },
   "outputs": [],
   "source": [
    "# Look at the from column\n",
    "gmail_data['from'].head(2)"
   ]
  },
  {
   "cell_type": "code",
   "execution_count": null,
   "id": "571cf0a9",
   "metadata": {},
   "outputs": [],
   "source": []
  },
  {
   "cell_type": "code",
   "execution_count": null,
   "id": "8672d1f7",
   "metadata": {},
   "outputs": [],
   "source": []
  },
  {
   "cell_type": "code",
   "execution_count": null,
   "id": "f6be8e6b",
   "metadata": {},
   "outputs": [],
   "source": [
    "# Capture, Configure, and Control"
   ]
  },
  {
   "cell_type": "code",
   "execution_count": null,
   "id": "dd2969d2",
   "metadata": {},
   "outputs": [],
   "source": []
  },
  {
   "cell_type": "code",
   "execution_count": null,
   "id": "40d99bf3",
   "metadata": {},
   "outputs": [],
   "source": []
  }
 ],
 "metadata": {
  "kernelspec": {
   "display_name": "Python 3 (ipykernel)",
   "language": "python",
   "name": "python3"
  },
  "language_info": {
   "codemirror_mode": {
    "name": "ipython",
    "version": 3
   },
   "file_extension": ".py",
   "mimetype": "text/x-python",
   "name": "python",
   "nbconvert_exporter": "python",
   "pygments_lexer": "ipython3",
   "version": "3.11.4"
  }
 },
 "nbformat": 4,
 "nbformat_minor": 5
}
