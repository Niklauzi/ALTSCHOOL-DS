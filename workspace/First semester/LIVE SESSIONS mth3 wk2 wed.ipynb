{
 "cells": [
  {
   "cell_type": "code",
   "execution_count": 19,
   "id": "7d0abafa",
   "metadata": {},
   "outputs": [],
   "source": [
    "import numpy as np"
   ]
  },
  {
   "cell_type": "code",
   "execution_count": 20,
   "id": "35f51917",
   "metadata": {},
   "outputs": [],
   "source": [
    "import pandas as pd"
   ]
  },
  {
   "cell_type": "code",
   "execution_count": null,
   "id": "1b48a105",
   "metadata": {},
   "outputs": [],
   "source": []
  },
  {
   "cell_type": "code",
   "execution_count": 21,
   "id": "587e905d",
   "metadata": {},
   "outputs": [],
   "source": [
    "supermarket_Data = [\n",
    "    {'transactionID': 1, 'product': 'milk', 'price': 3},\n",
    "    {'transactionID': 2, 'product': 'groceries', 'price': 6},\n",
    "    {'transactionID': 3, 'product': None, 'price': 9},\n",
    "    {'transactionID': 4, 'product': 'bread', 'price': 12},\n",
    "    {'transactionID': 5, 'product': 'whiskey', 'price': 15},\n",
    "    {'transactionID': 5, 'product': 'whiskey', 'price': 15},\n",
    "    {'transactionID': 1, 'product': 'milk', 'price': 3},\n",
    "    \n",
    "    \n",
    "]"
   ]
  },
  {
   "cell_type": "code",
   "execution_count": 22,
   "id": "9d95747d",
   "metadata": {},
   "outputs": [],
   "source": [
    "#total number of orders\n",
    "\n",
    "count = len(supermarket_Data)"
   ]
  },
  {
   "cell_type": "code",
   "execution_count": 23,
   "id": "347e6115",
   "metadata": {},
   "outputs": [
    {
     "data": {
      "text/plain": [
       "7"
      ]
     },
     "execution_count": 23,
     "metadata": {},
     "output_type": "execute_result"
    }
   ],
   "source": [
    "count"
   ]
  },
  {
   "cell_type": "code",
   "execution_count": 24,
   "id": "8f2defcc",
   "metadata": {},
   "outputs": [],
   "source": [
    "#average order value\n",
    "totalP = 0\n",
    "for price in supermarket_Data:\n",
    "    totalP += price['price']\n",
    "average = totalP / count\n"
   ]
  },
  {
   "cell_type": "code",
   "execution_count": 25,
   "id": "6938a828",
   "metadata": {},
   "outputs": [
    {
     "data": {
      "text/plain": [
       "9.0"
      ]
     },
     "execution_count": 25,
     "metadata": {},
     "output_type": "execute_result"
    }
   ],
   "source": [
    "average"
   ]
  },
  {
   "cell_type": "code",
   "execution_count": 26,
   "id": "07d179b2",
   "metadata": {},
   "outputs": [],
   "source": [
    "total_order_value = 0\n",
    "product_counts = {}"
   ]
  },
  {
   "cell_type": "code",
   "execution_count": 27,
   "id": "d748db09",
   "metadata": {},
   "outputs": [],
   "source": [
    "# total order value\n",
    "for order in supermarket_Data:\n",
    "    total_order_value += order['price']\n",
    "    product = order['product']\n",
    "    if product in product_counts:\n",
    "        product_counts[product] += 1\n",
    "    else:\n",
    "        product_counts[product] = 1\n"
   ]
  },
  {
   "cell_type": "code",
   "execution_count": 28,
   "id": "ef3bbf36",
   "metadata": {},
   "outputs": [
    {
     "data": {
      "text/plain": [
       "{'milk': 2, 'groceries': 1, None: 1, 'bread': 1, 'whiskey': 2}"
      ]
     },
     "execution_count": 28,
     "metadata": {},
     "output_type": "execute_result"
    }
   ],
   "source": [
    "product_counts"
   ]
  },
  {
   "cell_type": "markdown",
   "id": "e3dcf2fa",
   "metadata": {},
   "source": [
    "Data Cleaning:\n",
    "\n",
    "Problem: Your dataset has misssing values in a column, write a python script to identify and can't the missing values in that column."
   ]
  },
  {
   "cell_type": "code",
   "execution_count": 29,
   "id": "233205aa",
   "metadata": {},
   "outputs": [],
   "source": [
    "supermarket_Data = [\n",
    "    {'transactionID': 1, 'product': 'milk', 'price': 3},\n",
    "    {'transactionID': 2, 'product': 'groceries', 'price': 6},\n",
    "    {'transactionID': 3, 'product': None, 'price': 9},\n",
    "    {'transactionID': 4, 'product': 'bread', 'price': 12},\n",
    "    {'transactionID': 5, 'product': 'whiskey', 'price': 15},\n",
    "    {'transactionID': 5, 'product': 'whiskey', 'price': 15},\n",
    "    {'transactionID': 8, 'product': None, 'price': 2}, \n",
    "    \n",
    "]"
   ]
  },
  {
   "cell_type": "code",
   "execution_count": 30,
   "id": "5e77dd46",
   "metadata": {},
   "outputs": [],
   "source": [
    "colum_to_check = 'product'\n",
    "missing_count = 0"
   ]
  },
  {
   "cell_type": "code",
   "execution_count": 31,
   "id": "27703b69",
   "metadata": {},
   "outputs": [],
   "source": [
    "for transaction in supermarket_Data:\n",
    "    if transaction[colum_to_check] == None:\n",
    "        missing_count += 1"
   ]
  },
  {
   "cell_type": "code",
   "execution_count": 32,
   "id": "a5115cdb",
   "metadata": {},
   "outputs": [
    {
     "data": {
      "text/plain": [
       "2"
      ]
     },
     "execution_count": 32,
     "metadata": {},
     "output_type": "execute_result"
    }
   ],
   "source": [
    "missing_count"
   ]
  },
  {
   "cell_type": "code",
   "execution_count": 33,
   "id": "45e79175",
   "metadata": {},
   "outputs": [
    {
     "name": "stdout",
     "output_type": "stream",
     "text": [
      "{'transactionID': 3, 'product': None, 'price': 9}\n",
      "{'transactionID': 8, 'product': None, 'price': 2}\n"
     ]
    }
   ],
   "source": [
    "transactions_with_None = []\n",
    "\n",
    "for transaction in supermarket_Data:\n",
    "    if transaction[colum_to_check] == None:\n",
    "        transactions_with_None.append(transaction)\n",
    "for transaction in transactions_with_None:\n",
    "    print(transaction)"
   ]
  },
  {
   "cell_type": "code",
   "execution_count": 34,
   "id": "98e81503",
   "metadata": {},
   "outputs": [
    {
     "data": {
      "text/plain": [
       "[{'transactionID': 3, 'product': None, 'price': 9},\n",
       " {'transactionID': 8, 'product': None, 'price': 2}]"
      ]
     },
     "execution_count": 34,
     "metadata": {},
     "output_type": "execute_result"
    }
   ],
   "source": [
    "transactions_with_None"
   ]
  },
  {
   "cell_type": "code",
   "execution_count": null,
   "id": "e4ef15a6",
   "metadata": {},
   "outputs": [],
   "source": []
  },
  {
   "cell_type": "markdown",
   "id": "77d5fd81",
   "metadata": {},
   "source": [
    "Data Preprocessing:\n",
    "\n",
    "Problem: You have a dataset problem with a 'date' column in the format 'yyyy-mm-dd'. write a python function to extract the year and month from the date and store them in seperate lists."
   ]
  },
  {
   "cell_type": "code",
   "execution_count": 35,
   "id": "ba2e5828",
   "metadata": {},
   "outputs": [],
   "source": [
    "dataset = [\n",
    "    {'ID': 1, 'Date': '2023-04-15', 'Value': 42},\n",
    "    {'ID': 2, 'Date': '2023-05-20', 'Value': 56},\n",
    "    {'ID': 3, 'Date': '2023-04-02', 'Value': 34},\n",
    "    {'ID': 4, 'Date': '2023-06-10', 'Value': 78},\n",
    "    {'ID': 5, 'Date': '2023-05-12', 'Value': 65},\n",
    "]"
   ]
  },
  {
   "cell_type": "code",
   "execution_count": 36,
   "id": "78cdaf6e",
   "metadata": {},
   "outputs": [],
   "source": [
    "def extract_year_and_month(dataset, date_column):\n",
    "    years = []\n",
    "    months = []\n",
    "    \n",
    "    for entry in dataset:\n",
    "        date = entry.get(date_column)\n",
    "        if date:\n",
    "            year, month, _ = date.split('-')\n",
    "            years.append(year)\n",
    "            months.append(month)\n",
    "    return years, months"
   ]
  },
  {
   "cell_type": "code",
   "execution_count": 37,
   "id": "525ea667",
   "metadata": {},
   "outputs": [],
   "source": [
    "date = '2023-11-15-20:15'\n",
    "year, month, _, _ = date.split('-')"
   ]
  },
  {
   "cell_type": "code",
   "execution_count": 38,
   "id": "82913a01",
   "metadata": {},
   "outputs": [],
   "source": [
    "years, months = extract_year_and_month(dataset, 'Date')"
   ]
  },
  {
   "cell_type": "code",
   "execution_count": 39,
   "id": "1d5c569a",
   "metadata": {},
   "outputs": [
    {
     "name": "stdout",
     "output_type": "stream",
     "text": [
      "Years: ['2023', '2023', '2023', '2023', '2023']\n",
      "Months: ['04', '05', '04', '06', '05']\n"
     ]
    }
   ],
   "source": [
    "print(f'Years: {years}')\n",
    "print(f'Months: {months}')"
   ]
  },
  {
   "cell_type": "code",
   "execution_count": null,
   "id": "5263853c",
   "metadata": {},
   "outputs": [],
   "source": []
  },
  {
   "cell_type": "markdown",
   "id": "6bb31b4b",
   "metadata": {},
   "source": [
    "Data Filtering and Transformation:\n",
    "\n",
    "Problem: You have a list of student records as dictionaries. Filter the records of students who scored above a certain threshold and calculate their final grades."
   ]
  },
  {
   "cell_type": "code",
   "execution_count": 40,
   "id": "5eb878ac",
   "metadata": {},
   "outputs": [],
   "source": [
    "student_records = [\n",
    "    {'ID': 1, 'Name': 'Alice', 'Math_Score': 85, 'English_Score': 78},\n",
    "    {'ID': 2, 'Name': 'Bob', 'Math_Score': 92, 'English_Score': 88},\n",
    "    {'ID': 3, 'Name': 'Charlie', 'Math_Score': 78, 'English_Score': 95},\n",
    "    {'ID': 4, 'Name': 'David', 'Math_Score': 65, 'English_Score': 72},\n",
    "    {'ID': 5, 'Name': 'Eve', 'Math_Score': 89, 'English_Score': 91},\n",
    "]\n",
    "threshold = 80"
   ]
  },
  {
   "cell_type": "code",
   "execution_count": 41,
   "id": "82366b2b",
   "metadata": {},
   "outputs": [],
   "source": [
    "student_score_atleast_80 = []"
   ]
  },
  {
   "cell_type": "code",
   "execution_count": 42,
   "id": "a44aae29",
   "metadata": {},
   "outputs": [],
   "source": [
    "for student in student_records:\n",
    "    if student['Math_Score'] and student['English_Score'] > threshold:\n",
    "        student_score_atleast_80.append(student)\n",
    "        "
   ]
  },
  {
   "cell_type": "code",
   "execution_count": 43,
   "id": "b039459e",
   "metadata": {},
   "outputs": [
    {
     "data": {
      "text/plain": [
       "[{'ID': 2, 'Name': 'Bob', 'Math_Score': 92, 'English_Score': 88},\n",
       " {'ID': 3, 'Name': 'Charlie', 'Math_Score': 78, 'English_Score': 95},\n",
       " {'ID': 5, 'Name': 'Eve', 'Math_Score': 89, 'English_Score': 91}]"
      ]
     },
     "execution_count": 43,
     "metadata": {},
     "output_type": "execute_result"
    }
   ],
   "source": [
    "student_score_atleast_80"
   ]
  },
  {
   "cell_type": "code",
   "execution_count": null,
   "id": "339ccbd4",
   "metadata": {},
   "outputs": [],
   "source": []
  },
  {
   "cell_type": "code",
   "execution_count": 44,
   "id": "58fe8838",
   "metadata": {},
   "outputs": [],
   "source": [
    "for student in student_score_atleast_80:\n",
    "    student['total_Score'] = student['Math_Score'] + student['English_Score']"
   ]
  },
  {
   "cell_type": "code",
   "execution_count": 47,
   "id": "cc3c2e82",
   "metadata": {},
   "outputs": [
    {
     "data": {
      "text/plain": [
       "[{'ID': 2,\n",
       "  'Name': 'Bob',\n",
       "  'Math_Score': 92,\n",
       "  'English_Score': 88,\n",
       "  'total_Score': 180},\n",
       " {'ID': 3,\n",
       "  'Name': 'Charlie',\n",
       "  'Math_Score': 78,\n",
       "  'English_Score': 95,\n",
       "  'total_Score': 173},\n",
       " {'ID': 5,\n",
       "  'Name': 'Eve',\n",
       "  'Math_Score': 89,\n",
       "  'English_Score': 91,\n",
       "  'total_Score': 180}]"
      ]
     },
     "execution_count": 47,
     "metadata": {},
     "output_type": "execute_result"
    }
   ],
   "source": [
    "student_score_atleast_80"
   ]
  },
  {
   "cell_type": "code",
   "execution_count": null,
   "id": "cbad0213",
   "metadata": {},
   "outputs": [],
   "source": []
  },
  {
   "cell_type": "code",
   "execution_count": null,
   "id": "81927899",
   "metadata": {},
   "outputs": [],
   "source": []
  },
  {
   "cell_type": "code",
   "execution_count": null,
   "id": "62af31c8",
   "metadata": {},
   "outputs": [],
   "source": []
  },
  {
   "cell_type": "code",
   "execution_count": null,
   "id": "447a32ba",
   "metadata": {},
   "outputs": [],
   "source": []
  },
  {
   "cell_type": "code",
   "execution_count": null,
   "id": "4cd0d528",
   "metadata": {},
   "outputs": [],
   "source": []
  }
 ],
 "metadata": {
  "kernelspec": {
   "display_name": "Python 3 (ipykernel)",
   "language": "python",
   "name": "python3"
  },
  "language_info": {
   "codemirror_mode": {
    "name": "ipython",
    "version": 3
   },
   "file_extension": ".py",
   "mimetype": "text/x-python",
   "name": "python",
   "nbconvert_exporter": "python",
   "pygments_lexer": "ipython3",
   "version": "3.11.4"
  }
 },
 "nbformat": 4,
 "nbformat_minor": 5
}
