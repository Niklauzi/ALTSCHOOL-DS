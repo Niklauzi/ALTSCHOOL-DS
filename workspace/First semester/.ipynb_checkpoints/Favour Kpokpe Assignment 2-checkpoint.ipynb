{
 "cells": [
  {
   "cell_type": "code",
   "execution_count": null,
   "id": "7c89c171",
   "metadata": {},
   "outputs": [],
   "source": [
    "monthly_sales = [120, 135, 150, 145, 155, 160, 170, 180, 190, 200, 210, 220]"
   ]
  },
  {
   "cell_type": "code",
   "execution_count": null,
   "id": "e849a87d",
   "metadata": {},
   "outputs": [],
   "source": [
    "# ASSIGNMENT 2\n",
    "\n",
    "1. From the list (monthly_sales) abolve,\n",
    "- create four seperate lists frm the list for each quarter namely: q1, q2, q3, q4.\n",
    "- report what quarter had the highest amount in total revenue,\n",
    "- report the lowest."
   ]
  },
  {
   "cell_type": "code",
   "execution_count": null,
   "id": "e7d3e0fb",
   "metadata": {},
   "outputs": [],
   "source": [
    "# Split the monthly sales into four separate lists for each quarter\n",
    "Q1 = monthly_sales[:3]\n",
    "Q2 = monthly_sales[3:6]\n",
    "Q3 = monthly_sales[6:9]\n",
    "Q4 = monthly_sales[9:]\n",
    "\n",
    "#  Calculating the total revenue for each quarter\n",
    "TQ1 = sum(Q1)\n",
    "TQ2 = sum(Q2)\n",
    "TQ3 = sum(Q3)\n",
    "TQ4 = sum(Q4)\n",
    "\n",
    "# Determine the quarter with the highest and lowest total revenue\n",
    "quarters = ['Q1', 'Q2', 'Q3', 'Q4']\n",
    "quarter_totals = [TQ1, TQ2, TQ3, TQ4]\n",
    "\n",
    "max_quarter = quarters[quarter_totals.index(max(quarter_totals))]\n",
    "min_quarter = quarters[quarter_totals.index(min(quarter_totals))]\n",
    "\n",
    "# Results\n",
    "print(\"Total Revenue by Quarter:\")\n",
    "print(f\"{quarters[0]}: {TQ1}\")\n",
    "print(f\"{quarters[1]}: {TQ2}\")\n",
    "print(f\"{quarters[2]}: {TQ3}\")\n",
    "print(f\"{quarters[3]}: {TQ4}\")\n",
    "\n",
    "print(f\"The quarter with the highest total revenue is {max_quarter}.\")\n",
    "print(f\"The quarter with the lowest total revenue is {min_quarter}.\")\n"
   ]
  },
  {
   "cell_type": "code",
   "execution_count": null,
   "id": "58657646",
   "metadata": {},
   "outputs": [],
   "source": []
  },
  {
   "cell_type": "code",
   "execution_count": null,
   "id": "e0fe0317",
   "metadata": {},
   "outputs": [],
   "source": [
    "by = 'jkl'"
   ]
  },
  {
   "cell_type": "code",
   "execution_count": null,
   "id": "d55df117",
   "metadata": {},
   "outputs": [],
   "source": [
    "print(by)\n"
   ]
  },
  {
   "cell_type": "code",
   "execution_count": null,
   "id": "fc710d88",
   "metadata": {},
   "outputs": [],
   "source": []
  },
  {
   "cell_type": "code",
   "execution_count": null,
   "id": "a55f5352",
   "metadata": {},
   "outputs": [],
   "source": []
  },
  {
   "cell_type": "code",
   "execution_count": null,
   "id": "86de177b",
   "metadata": {},
   "outputs": [],
   "source": []
  }
 ],
 "metadata": {
  "kernelspec": {
   "display_name": "Python 3 (ipykernel)",
   "language": "python",
   "name": "python3"
  },
  "language_info": {
   "codemirror_mode": {
    "name": "ipython",
    "version": 3
   },
   "file_extension": ".py",
   "mimetype": "text/x-python",
   "name": "python",
   "nbconvert_exporter": "python",
   "pygments_lexer": "ipython3",
   "version": "3.11.4"
  }
 },
 "nbformat": 4,
 "nbformat_minor": 5
}
