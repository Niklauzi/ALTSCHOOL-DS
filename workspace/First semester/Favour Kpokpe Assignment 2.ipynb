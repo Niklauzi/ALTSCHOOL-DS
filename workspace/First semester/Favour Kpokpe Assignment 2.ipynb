{
 "cells": [
  {
   "cell_type": "code",
   "execution_count": null,
   "id": "7c89c171",
   "metadata": {},
   "outputs": [],
   "source": []
  },
  {
   "cell_type": "markdown",
   "id": "03c0428a",
   "metadata": {},
   "source": [
    "# ASSIGNMENT 2\n",
    "\n",
    "1. From the list (monthly_sales) below,\n",
    "- create four seperate lists frm the list for each quarter namely: q1, q2, q3, q4.\n",
    "- report what quarter had the highest amount in total revenue,\n",
    "- report the lowest."
   ]
  },
  {
   "cell_type": "code",
   "execution_count": 1,
   "id": "e7d3e0fb",
   "metadata": {
    "tags": []
   },
   "outputs": [
    {
     "name": "stdout",
     "output_type": "stream",
     "text": [
      "Total Revenue by Quarter:\n",
      "Q1: 405\n",
      "Q2: 460\n",
      "Q3: 540\n",
      "Q4: 630\n",
      "The quarter with the highest total revenue is Q4.\n",
      "The quarter with the lowest total revenue is Q1.\n"
     ]
    }
   ],
   "source": [
    "monthly_sales = [120, 135, 150, 145, 155, 160, 170, 180, 190, 200, 210, 220]\n",
    "\n",
    "# Split the monthly sales into four separate lists for each quarter\n",
    "Q1 = monthly_sales[:3]\n",
    "Q2 = monthly_sales[3:6]\n",
    "Q3 = monthly_sales[6:9]\n",
    "Q4 = monthly_sales[9:]\n",
    "\n",
    "#  Calculating the total revenue for each quarter\n",
    "TQ1 = sum(Q1)\n",
    "TQ2 = sum(Q2)\n",
    "TQ3 = sum(Q3)\n",
    "TQ4 = sum(Q4)\n",
    "\n",
    "# Determine the quarter with the highest and lowest total revenue\n",
    "quarters = ['Q1', 'Q2', 'Q3', 'Q4']\n",
    "quarter_totals = [TQ1, TQ2, TQ3, TQ4]\n",
    "\n",
    "max_quarter = quarters[quarter_totals.index(max(quarter_totals))]\n",
    "min_quarter = quarters[quarter_totals.index(min(quarter_totals))]\n",
    "\n",
    "# Results\n",
    "print(\"Total Revenue by Quarter:\")\n",
    "print(f\"{quarters[0]}: {TQ1}\")\n",
    "print(f\"{quarters[1]}: {TQ2}\")\n",
    "print(f\"{quarters[2]}: {TQ3}\")\n",
    "print(f\"{quarters[3]}: {TQ4}\")\n",
    "\n",
    "print(f\"The quarter with the highest total revenue is {max_quarter}.\")\n",
    "print(f\"The quarter with the lowest total revenue is {min_quarter}.\")\n"
   ]
  },
  {
   "cell_type": "markdown",
   "id": "99410e7c",
   "metadata": {},
   "source": [
    "2. Store the names of a few of your friends in a list called names.\n",
    "\n",
    "* Print each person’s name by accessing each element in the list, one at a time.\n",
    "\n",
    "* Start with the list you created, but instead of just printing each person’s name, print a message to them. The text of each message should be the same, but each message should be personalized with the person’s name. hint(use may use f-strings)"
   ]
  },
  {
   "cell_type": "code",
   "execution_count": 7,
   "id": "e0fe0317",
   "metadata": {},
   "outputs": [
    {
     "name": "stdout",
     "output_type": "stream",
     "text": [
      "Printing names:\n",
      "Favour\n",
      "Gideon\n",
      "Alex\n",
      "vwegba\n",
      "Kolos\n",
      "Nathaniel\n",
      "Ruess\n",
      "\n",
      "Printing individual messages here:\n",
      "Hello, Favour! You are a great friend.\n",
      "Hello, Gideon! You are a great friend.\n",
      "Hello, Alex! You are a great friend.\n",
      "Hello, vwegba! You are a great friend.\n",
      "Hello, Kolos! You are a great friend.\n",
      "Hello, Nathaniel! You are a great friend.\n",
      "Hello, Ruess! You are a great friend.\n"
     ]
    }
   ],
   "source": [
    "# Create a list of your friends' names\n",
    "geng = [\"Favour\", \"Gideon\", \"Alex\", \"vwegba\", \"Kolos\", \"Nathaniel\", \"Ruess\"]\n",
    "\n",
    "# Printing each names\n",
    "print(\"Printing names:\")\n",
    "for gee in geng:\n",
    "    print(gee)\n",
    "\n",
    "# Print personalized messages using f-strings\n",
    "print(\"\\nPrinting individual messages here:\")\n",
    "\n",
    "for gee in geng:\n",
    "    personal_message = f\"Hello, {gee}! You are a great friend.\"\n",
    "    print(personal_message)\n"
   ]
  },
  {
   "cell_type": "markdown",
   "id": "3691a674",
   "metadata": {},
   "source": [
    "3. You are managing a list of students' names in your class.\n",
    "* Create a list called student_names containing the following student names as strings: 'Alice', 'Bob', 'Charlie', 'David', 'Eve'.\n",
    "- Use the student_names list from the list above for the following operations:\n",
    "  - a. Print the number of students in the class (the length of the list).\n",
    "  - b. Print the first and last student names in the list.\n",
    "  - c. Charlie has left the class. Remove his name from the list.\n",
    "  - d. A new student, \"Frank,\" has joined the class. Add his name to the list.\n",
    "  - e. The class has been dissolved, and you need to remove all student names from the list.\n"
   ]
  },
  {
   "cell_type": "code",
   "execution_count": 8,
   "id": "e090f6dc",
   "metadata": {},
   "outputs": [
    {
     "name": "stdout",
     "output_type": "stream",
     "text": [
      "a. The number of students in the class is: 5\n",
      "b. The first student in the class is: Alice\n",
      "   The last student in the class is: Eve\n",
      "c. Charlie has left the class. The updated list is: ['Alice', 'Bob', 'David', 'Eve']\n",
      "d. Frank has joined the class. The updated list is: ['Alice', 'Bob', 'David', 'Eve', 'Frank']\n",
      "e. The class has been dissolved. The list is now empty: []\n"
     ]
    }
   ],
   "source": [
    "# list of student names\n",
    "student_names = ['Alice', 'Bob', 'Charlie', 'David', 'Eve']\n",
    "\n",
    "# a. Number of students in the class\n",
    "num_students = len(student_names)\n",
    "print(f\"a. The number of students in the class is: {num_students}\")\n",
    "\n",
    "# b. First and Last student names in the list\n",
    "first_student = student_names[0]\n",
    "last_student = student_names[-1]\n",
    "print(f\"b. The first student in the class is: {first_student}\")\n",
    "print(f\"   The last student in the class is: {last_student}\")\n",
    "\n",
    "# c. Remove Charlie's name from the list\n",
    "if 'Charlie' in student_names:\n",
    "    student_names.remove('Charlie')\n",
    "print(f\"c. Charlie has left the class. The updated list is: {student_names}\")\n",
    "\n",
    "# d. A new student, \"Frank,\" has joined the class. Adding Frank to the list\n",
    "student_names.append(\"Frank\")\n",
    "print(f\"d. Frank has joined the class. The updated list is: {student_names}\")\n",
    "\n",
    "# e. The class has been dissolved, Removing all student names from the list\n",
    "student_names.clear()\n",
    "print(f\"e. The class has been dissolved. The list is now empty: {student_names}\")\n"
   ]
  },
  {
   "cell_type": "code",
   "execution_count": null,
   "id": "1c6bcf41",
   "metadata": {},
   "outputs": [],
   "source": []
  }
 ],
 "metadata": {
  "kernelspec": {
   "display_name": "Python 3 (ipykernel)",
   "language": "python",
   "name": "python3"
  },
  "language_info": {
   "codemirror_mode": {
    "name": "ipython",
    "version": 3
   },
   "file_extension": ".py",
   "mimetype": "text/x-python",
   "name": "python",
   "nbconvert_exporter": "python",
   "pygments_lexer": "ipython3",
   "version": "3.11.4"
  }
 },
 "nbformat": 4,
 "nbformat_minor": 5
}
