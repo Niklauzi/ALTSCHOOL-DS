{
 "cells": [
  {
   "cell_type": "code",
   "execution_count": 1,
   "id": "e7141138",
   "metadata": {},
   "outputs": [
    {
     "name": "stdout",
     "output_type": "stream",
     "text": [
      "\n",
      "Please wait a moment while I gather a list of all available modules...\n",
      "\n"
     ]
    },
    {
     "name": "stderr",
     "output_type": "stream",
     "text": [
      "WARNING: AstropyDeprecationWarning: The private astropy._erfa module has been made into its own package, pyerfa, which is a dependency of astropy and can be imported directly using \"import erfa\" [astropy._erfa]\n",
      "Matplotlib is building the font cache; this may take a moment.\n",
      "C:\\Users\\KLAUS\\reptile\\Lib\\site-packages\\paramiko\\transport.py:219: CryptographyDeprecationWarning: Blowfish has been deprecated\n",
      "  \"class\": algorithms.Blowfish,\n",
      "C:\\Users\\KLAUS\\reptile\\Lib\\site-packages\\nltk\\twitter\\__init__.py:20: UserWarning: The twython library has not been installed. Some functionality from the twitter package will not be available.\n",
      "  warnings.warn(\n",
      "C:\\Users\\KLAUS\\reptile\\Lib\\pkgutil.py:92: NumbaPendingDeprecationWarning: \u001b[1mThe 'pycc' module is pending deprecation. Replacement technology is being developed.\n",
      "\n",
      "Pending Deprecation in Numba 0.57.0. For more information please see: https://numba.readthedocs.io/en/stable/reference/deprecation.html#deprecation-of-the-numba-pycc-module\u001b[0m\n",
      "  __import__(info.name)\n",
      "C:\\Users\\KLAUS\\reptile\\Lib\\pkgutil.py:92: UserWarning: The numpy.array_api submodule is still experimental. See NEP 47.\n",
      "  __import__(info.name)\n",
      "C:\\Users\\KLAUS\\reptile\\Lib\\site-packages\\_distutils_hack\\__init__.py:33: UserWarning: Setuptools is replacing distutils.\n",
      "  warnings.warn(\"Setuptools is replacing distutils.\")\n",
      "No QCoreApplication instance found. Application patches not applied. You have to call load_stylesheet function after instantiation of QApplication to take effect. \n",
      "Neither PyTorch nor TensorFlow >= 2.0 have been found.Models won't be available and only tokenizers, configurationand file/data utilities can be used.\n",
      "C:\\Users\\KLAUS\\reptile\\Lib\\pkgutil.py:107: VisibleDeprecationWarning:\n",
      "\n",
      "zmq.eventloop.minitornado is deprecated in pyzmq 14.0 and will be removed.\n",
      "    Install tornado itself to use zmq with the tornado IOLoop.\n",
      "    \n",
      "\n"
     ]
    },
    {
     "name": "stdout",
     "output_type": "stream",
     "text": [
      "IPython             concurrent          mdurl               smtpd\n",
      "OpenSSL             conda               menuinst            smtplib\n",
      "PIL                 conda_build         mimetypes           snappy\n",
      "PyQt5               conda_content_trust mistune             sndhdr\n",
      "TBB                 conda_env           mkl                 sniffio\n",
      "__future__          conda_index         mkl_fft             snowballstemmer\n",
      "__hello__           conda_libmamba_solver mkl_random          socket\n",
      "__phello__          conda_pack          mmap                socketserver\n",
      "_abc                conda_package_handling mmapfile            socks\n",
      "_aix_support        conda_package_streaming mmsystem            sockshandler\n",
      "_argon2_cffi_bindings conda_token         modulefinder        sortedcontainers\n",
      "_ast                conda_verify        more_itertools      soupsieve\n",
      "_asyncio            configparser        mpmath              sphinx\n",
      "_bisect             constantly          msgpack             spyder\n",
      "_black_version      contextlib          msilib              spyder_kernels\n",
      "_blake2             contextvars         msvcrt              sqlalchemy\n",
      "_bootsubprocess     contourpy           multidict           sqlite3\n",
      "_bz2                cookiecutter        multipledispatch    sre_compile\n",
      "_cffi_backend       copy                multiprocessing     sre_constants\n",
      "_codecs             copyreg             munkres             sre_parse\n",
      "_codecs_cn          cpuinfo             mypy_extensions     ssl\n",
      "_codecs_hk          crypt               nacl                sspi\n",
      "_codecs_iso2022     cryptography        navigator_updater   sspicon\n",
      "_codecs_jp          cssselect           nbclassic           stack_data\n",
      "_codecs_kr          csv                 nbclient            stat\n",
      "_codecs_tw          ctypes              nbconvert           statistics\n",
      "_collections        curl                nbformat            statsmodels\n",
      "_collections_abc    curses              nest_asyncio        string\n",
      "_compat_pickle      cwp                 netbios             stringprep\n",
      "_compression        cycler              netrc               struct\n",
      "_contextvars        cytoolz             networkx            subprocess\n",
      "_csv                daal4py             nltk                sunau\n",
      "_ctypes             dask                nntplib             sympy\n",
      "_ctypes_test        data_mod            notebook            symtable\n",
      "_datetime           dataclasses         notebook_shim       sys\n",
      "_decimal            datashader          nt                  sysconfig\n",
      "_distutils_hack     datashape           ntpath              tables\n",
      "_elementtree        datetime            ntsecuritycon       tabnanny\n",
      "_functools          dateutil            nturl2path          tabulate\n",
      "_hashlib            dbi                 numba               tarfile\n",
      "_heapq              dbm                 numbergen           tbb\n",
      "_imp                dde                 numbers             tblib\n",
      "_io                 debugpy             numexpr             telnetlib\n",
      "_json               decimal             numpy               tempfile\n",
      "_locale             decorator           numpydoc            tenacity\n",
      "_lsprof             defusedxml          odbc                terminado\n",
      "_lzma               diff_match_patch    onedal              test\n",
      "_markupbase         difflib             opcode              test_pycosat\n",
      "_md5                dill                openpyxl            text_unidecode\n",
      "_msi                dis                 operator            textdistance\n",
      "_multibytecodec     distributed         optparse            textwrap\n",
      "_multiprocessing    distutils           os                  this\n",
      "_nsis               docstring_to_markdown packaging           threading\n",
      "_opcode             doctest             pandas              threadpoolctl\n",
      "_operator           docutils            pandocfilters       three_merge\n",
      "_osx_support        done                panel               tifffile\n",
      "_overlapped         email               param               time\n",
      "_pickle             encodings           paramiko            timeit\n",
      "_plotly_future_     ensurepip           parsel              timer\n",
      "_plotly_utils       entrypoints         parso               tinycss2\n",
      "_py_abc             enum                partd               tkinter\n",
      "_pydecimal          erfa                past                tldextract\n",
      "_pyio               errno               pathlib             tlz\n",
      "_pyrsistent_version et_xmlfile          pathspec            token\n",
      "_pytest             executing           patsy               tokenize\n",
      "_queue              fastjsonschema      pdb                 toml\n",
      "_random             faulthandler        pep8                tomlkit\n",
      "_sha1               filecmp             perfmon             tomllib\n",
      "_sha256             fileinput           pexpect             toolz\n",
      "_sha3               filelock            pickle              tornado\n",
      "_sha512             flake8              pickleshare         tqdm\n",
      "_signal             flask               pickletools         trace\n",
      "_sitebuiltins       fnmatch             pip                 traceback\n",
      "_socket             fontTools           pipes               tracemalloc\n",
      "_sqlite3            fractions           pkg_resources       traitlets\n",
      "_sre                frozenlist          pkginfo             transformers\n",
      "_ssl                fsspec              pkgutil             tty\n",
      "_stat               ftplib              platform            turtle\n",
      "_statistics         functools           platformdirs        turtledemo\n",
      "_string             future              plistlib            twisted\n",
      "_strptime           gc                  plotly              types\n",
      "_struct             genericpath         pluggy              typing\n",
      "_symtable           gensim              ply                 typing_extensions\n",
      "_system_path        getopt              pooch               uc_micro\n",
      "_testbuffer         getpass             poplib              ujson\n",
      "_testcapi           gettext             posixpath           unicodedata\n",
      "_testconsole        glob                poyo                unidecode\n",
      "_testimportmultiple glob2               pprint              unittest\n",
      "_testinternalcapi   graphlib            profile             urllib\n",
      "_testmultiphase     greenlet            prometheus_client   urllib3\n",
      "_thread             gzip                prompt_toolkit      uu\n",
      "_threading_local    h5py                protego             uuid\n",
      "_tkinter            hashlib             pstats              venv\n",
      "_tokenize           heapdict            psutil              w3lib\n",
      "_tracemalloc        heapq               pty                 warnings\n",
      "_typing             hmac                ptyprocess          watchdog\n",
      "_uuid               holoviews           pure_eval           wave\n",
      "_warnings           html                pvectorc            wcwidth\n",
      "_weakref            http                py                  weakref\n",
      "_weakrefset         hvplot              py_compile          webbrowser\n",
      "_win32sysloader     hyperlink           pyarrow             webencodings\n",
      "_winapi             idlelib             pyasn1              websocket\n",
      "_winxptheme         idna                pyasn1_modules      werkzeug\n",
      "_xxsubinterpreters  imagecodecs         pyclbr              whatthepatch\n",
      "_yaml               imageio             pycodestyle         wheel\n",
      "_zoneinfo           imagesize           pycosat             widgetsnbextension\n",
      "abc                 imaplib             pycparser           win2kras\n",
      "adodbapi            imblearn            pyct                win32api\n",
      "afxres              imghdr              pycurl              win32clipboard\n",
      "aifc                imp                 pydispatch          win32com\n",
      "aiobotocore         importlib           pydoc               win32con\n",
      "aiofiles            importlib_metadata  pydoc_data          win32console\n",
      "aiohttp             incremental         pydocstyle          win32cred\n",
      "aioitertools        inflection          pyexpat             win32crypt\n",
      "aiosignal           iniconfig           pyflakes            win32cryptcon\n",
      "aiosqlite           inspect             pygments            win32ctypes\n",
      "alabaster           intake              pylab               win32event\n",
      "anaconda_catalogs   intervaltree        pylint              win32evtlog\n",
      "anaconda_navigator  io                  pylint_venv         win32evtlogutil\n",
      "anaconda_project    ipaddress           pyls_spyder         win32file\n",
      "antigravity         ipykernel           pylsp               win32gui\n",
      "anyio               ipykernel_launcher  pylsp_black         win32gui_struct\n",
      "appdirs             ipython_genutils    pylsp_jsonrpc       win32help\n",
      "argon2              ipywidgets          pyodbc              win32inet\n",
      "argparse            isapi               pyparsing           win32inetcon\n",
      "array               isort               pyrsistent          win32job\n",
      "arrow               isympy              pytest              win32lz\n",
      "ast                 itemadapter         pythoncom           win32net\n",
      "astroid             itemloaders         pythonjsonlogger    win32netcon\n",
      "astropy             itertools           pytoolconfig        win32pdh\n",
      "asttokens           itsdangerous        pytz                win32pdhquery\n",
      "async_timeout       jedi                pyviz_comms         win32pdhutil\n",
      "asynchat            jellyfish           pywin               win32pipe\n",
      "asyncio             jinja2              pywin32_bootstrap   win32print\n",
      "asyncore            jinja2_time         pywin32_testutil    win32process\n",
      "atexit              jmespath            pywintypes          win32profile\n",
      "atomicwrites        joblib              pywt                win32ras\n",
      "attr                json                qdarkstyle          win32rcparser\n",
      "attrs               json5               qstylizer           win32security\n",
      "audioop             jsonpatch           qtawesome           win32service\n",
      "automat             jsonpointer         qtconsole           win32serviceutil\n",
      "autopep8            jsonschema          qtpy                win32timezone\n",
      "babel               jupyter             queue               win32trace\n",
      "backcall            jupyter_client      queuelib            win32traceutil\n",
      "backports           jupyter_console     quopri              win32transaction\n",
      "base64              jupyter_core        random              win32ts\n",
      "bcrypt              jupyter_events      rasutil             win32ui\n",
      "bdb                 jupyter_server      re                  win32uiole\n",
      "binaryornot         jupyter_server_fileid regcheck            win32verstamp\n",
      "binascii            jupyter_server_ydoc regex               win32wnet\n",
      "binstar_client      jupyter_ydoc        regutil             win_inet_pton\n",
      "bisect              jupyterlab          repo_cli            winerror\n",
      "black               jupyterlab_plotly   reprlib             winioctlcon\n",
      "blackd              jupyterlab_pygments requests            winnt\n",
      "bleach              jupyterlab_server   requests_file       winperf\n",
      "blib2to3            jupyterlab_widgets  requests_toolbelt   winpty\n",
      "bokeh               jwt                 rfc3339_validator   winreg\n",
      "boltons             keyring             rfc3986_validator   winsound\n",
      "boto3               keyword             rlcompleter         winxpgui\n",
      "botocore            kiwisolver          rope                winxptheme\n",
      "bottleneck          lazy_loader         rtree               wrapt\n",
      "brotli              lazy_object_proxy   ruamel_yaml         wsgiref\n",
      "bs4                 lib2to3             runpy               xarray\n",
      "builtins            libarchive          s3fs                xdrlib\n",
      "bz2                 libfuturize         s3transfer          xlwings\n",
      "cProfile            libmambapy          sacremoses          xml\n",
      "calendar            libpasteurize       sched               xmlrpc\n",
      "certifi             lief                scipy               xxlimited\n",
      "cffi                linecache           scrapy              xxlimited_35\n",
      "cgi                 linkify_it          seaborn             xxsubtype\n",
      "cgitb               llvmlite            secrets             xyzservices\n",
      "chardet             lmdb                select              y_py\n",
      "charset_normalizer  locale              selectors           yaml\n",
      "chunk               locket              send2trash          yapf\n",
      "click               logging             service_identity    yapftests\n",
      "cloudpickle         lxml                servicemanager      yarl\n",
      "clyent              lz4                 setuptools          ypy_websocket\n",
      "cmath               lzma                shelve              zict\n",
      "cmd                 mailbox             shlex               zipapp\n",
      "code                mailcap             shutil              zipfile\n",
      "codecs              markdown            signal              zipimport\n",
      "codeop              markdown_it         sipbuild            zipp\n",
      "collections         markupsafe          site                zlib\n",
      "colorama            marshal             six                 zmq\n",
      "colorcet            math                skimage             zoneinfo\n",
      "colorsys            matplotlib          sklearn             zope\n",
      "comm                matplotlib_inline   sklearnex           zstandard\n",
      "commctrl            mccabe              slugify             \n",
      "compileall          mdit_py_plugins     smart_open          \n",
      "\n",
      "Enter any module name to get more help.  Or, type \"modules spam\" to search\n",
      "for modules whose name or summary contain the string \"spam\".\n",
      "\n"
     ]
    }
   ],
   "source": [
    "help('modules')"
   ]
  },
  {
   "cell_type": "code",
   "execution_count": 1,
   "id": "13ef26cf",
   "metadata": {},
   "outputs": [],
   "source": [
    "import math"
   ]
  },
  {
   "cell_type": "code",
   "execution_count": 2,
   "id": "830f0feb",
   "metadata": {},
   "outputs": [
    {
     "data": {
      "text/plain": [
       "float"
      ]
     },
     "execution_count": 2,
     "metadata": {},
     "output_type": "execute_result"
    }
   ],
   "source": [
    "type(math.pi)"
   ]
  },
  {
   "cell_type": "code",
   "execution_count": 3,
   "id": "32abc26d",
   "metadata": {},
   "outputs": [
    {
     "data": {
      "text/plain": [
       "-54.56924413126439"
      ]
     },
     "execution_count": 3,
     "metadata": {},
     "output_type": "execute_result"
    }
   ],
   "source": [
    "math.degrees(math.cos(60))"
   ]
  },
  {
   "cell_type": "code",
   "execution_count": 4,
   "id": "556087ac",
   "metadata": {},
   "outputs": [
    {
     "data": {
      "text/plain": [
       "-0.9880316240928618"
      ]
     },
     "execution_count": 4,
     "metadata": {},
     "output_type": "execute_result"
    }
   ],
   "source": [
    "math.sin(30)"
   ]
  },
  {
   "cell_type": "code",
   "execution_count": 5,
   "id": "af6f4911",
   "metadata": {},
   "outputs": [],
   "source": [
    "# numpy vs in-built python lists\n",
    "\n",
    "height = [1.8, 2.0, 1.5, 2.1]\n",
    "weight = [45.5, 78.5, 67.7, 56.1]\n",
    "\n",
    "# bmi = weight/ height**2"
   ]
  },
  {
   "cell_type": "code",
   "execution_count": 6,
   "id": "8b44d113",
   "metadata": {},
   "outputs": [
    {
     "data": {
      "text/plain": [
       "14.04"
      ]
     },
     "execution_count": 6,
     "metadata": {},
     "output_type": "execute_result"
    }
   ],
   "source": [
    "round(weight[0]/ height[0]**2, 2)"
   ]
  },
  {
   "cell_type": "code",
   "execution_count": 7,
   "id": "1f37f305",
   "metadata": {},
   "outputs": [],
   "source": [
    "bmi = [round (w/h**2, 2) for w,h in zip(weight, height)]"
   ]
  },
  {
   "cell_type": "code",
   "execution_count": 8,
   "id": "6e6a58d6",
   "metadata": {},
   "outputs": [
    {
     "data": {
      "text/plain": [
       "[14.04, 19.62, 30.09, 12.72]"
      ]
     },
     "execution_count": 8,
     "metadata": {},
     "output_type": "execute_result"
    }
   ],
   "source": [
    "bmi"
   ]
  },
  {
   "cell_type": "code",
   "execution_count": null,
   "id": "0529b1a7",
   "metadata": {},
   "outputs": [],
   "source": []
  },
  {
   "cell_type": "code",
   "execution_count": 9,
   "id": "1ce7ade4",
   "metadata": {},
   "outputs": [
    {
     "name": "stdout",
     "output_type": "stream",
     "text": [
      "Requirement already satisfied: numpy in c:\\users\\klaus\\reptile\\lib\\site-packages (1.24.3)\n",
      "Note: you may need to restart the kernel to use updated packages.\n"
     ]
    }
   ],
   "source": [
    "pip install numpy"
   ]
  },
  {
   "cell_type": "code",
   "execution_count": 10,
   "id": "3b790aff",
   "metadata": {},
   "outputs": [],
   "source": [
    "import numpy as np"
   ]
  },
  {
   "cell_type": "code",
   "execution_count": 11,
   "id": "0a101316",
   "metadata": {},
   "outputs": [],
   "source": [
    "from numpy import array"
   ]
  },
  {
   "cell_type": "code",
   "execution_count": 12,
   "id": "c6c5b114",
   "metadata": {},
   "outputs": [],
   "source": [
    "np_height = np.array(height)\n",
    "np_weight = np.array(weight)"
   ]
  },
  {
   "cell_type": "code",
   "execution_count": 13,
   "id": "1cd2a634",
   "metadata": {},
   "outputs": [
    {
     "data": {
      "text/plain": [
       "array([1.8, 2. , 1.5, 2.1])"
      ]
     },
     "execution_count": 13,
     "metadata": {},
     "output_type": "execute_result"
    }
   ],
   "source": [
    "np_height\n"
   ]
  },
  {
   "cell_type": "code",
   "execution_count": 14,
   "id": "832e85a3",
   "metadata": {},
   "outputs": [
    {
     "data": {
      "text/plain": [
       "array([45.5, 78.5, 67.7, 56.1])"
      ]
     },
     "execution_count": 14,
     "metadata": {},
     "output_type": "execute_result"
    }
   ],
   "source": [
    "np_weight"
   ]
  },
  {
   "cell_type": "code",
   "execution_count": 15,
   "id": "a099f6b1",
   "metadata": {},
   "outputs": [],
   "source": [
    "np_bmi = np.around(np_weight/ (np_height **2), 2)"
   ]
  },
  {
   "cell_type": "code",
   "execution_count": 18,
   "id": "95c78254",
   "metadata": {},
   "outputs": [
    {
     "data": {
      "text/plain": [
       "array([14.04, 19.62, 30.09, 12.72])"
      ]
     },
     "execution_count": 18,
     "metadata": {},
     "output_type": "execute_result"
    }
   ],
   "source": [
    "np_bmi"
   ]
  },
  {
   "cell_type": "code",
   "execution_count": 19,
   "id": "45fb4142",
   "metadata": {},
   "outputs": [
    {
     "data": {
      "text/plain": [
       "[14.04, 19.62, 30.09, 12.72]"
      ]
     },
     "execution_count": 19,
     "metadata": {},
     "output_type": "execute_result"
    }
   ],
   "source": [
    "bmi"
   ]
  },
  {
   "cell_type": "code",
   "execution_count": 20,
   "id": "70d3523d",
   "metadata": {},
   "outputs": [
    {
     "data": {
      "text/plain": [
       "14.04"
      ]
     },
     "execution_count": 20,
     "metadata": {},
     "output_type": "execute_result"
    }
   ],
   "source": [
    "#indexing the array\n",
    "np_bmi[0]"
   ]
  },
  {
   "cell_type": "code",
   "execution_count": 23,
   "id": "d680352c",
   "metadata": {},
   "outputs": [
    {
     "data": {
      "text/plain": [
       "array([19.62, 30.09])"
      ]
     },
     "execution_count": 23,
     "metadata": {},
     "output_type": "execute_result"
    }
   ],
   "source": [
    "#slicing the array\n",
    "np_bmi[1:3]"
   ]
  },
  {
   "cell_type": "code",
   "execution_count": 22,
   "id": "48414087",
   "metadata": {},
   "outputs": [
    {
     "data": {
      "text/plain": [
       "array([12.72])"
      ]
     },
     "execution_count": 22,
     "metadata": {},
     "output_type": "execute_result"
    }
   ],
   "source": [
    "np_bmi[3:]"
   ]
  },
  {
   "cell_type": "code",
   "execution_count": 24,
   "id": "5b4cc93c",
   "metadata": {},
   "outputs": [
    {
     "data": {
      "text/plain": [
       "19.1175"
      ]
     },
     "execution_count": 24,
     "metadata": {},
     "output_type": "execute_result"
    }
   ],
   "source": [
    "np_bmi.mean()"
   ]
  },
  {
   "cell_type": "code",
   "execution_count": 25,
   "id": "54bc6951",
   "metadata": {},
   "outputs": [
    {
     "data": {
      "text/plain": [
       "6.843925682676573"
      ]
     },
     "execution_count": 25,
     "metadata": {},
     "output_type": "execute_result"
    }
   ],
   "source": [
    "np_bmi.std()"
   ]
  },
  {
   "cell_type": "code",
   "execution_count": 26,
   "id": "d5a303d9",
   "metadata": {},
   "outputs": [
    {
     "data": {
      "text/plain": [
       "6.843925682676573"
      ]
     },
     "execution_count": 26,
     "metadata": {},
     "output_type": "execute_result"
    }
   ],
   "source": [
    "np.std(np_bmi)"
   ]
  },
  {
   "cell_type": "code",
   "execution_count": 31,
   "id": "28a37fa5",
   "metadata": {},
   "outputs": [
    {
     "data": {
      "text/plain": [
       "16.83"
      ]
     },
     "execution_count": 31,
     "metadata": {},
     "output_type": "execute_result"
    }
   ],
   "source": [
    "np.median(np_bmi)"
   ]
  },
  {
   "cell_type": "code",
   "execution_count": 32,
   "id": "69f47387",
   "metadata": {},
   "outputs": [
    {
     "data": {
      "text/plain": [
       "(4,)"
      ]
     },
     "execution_count": 32,
     "metadata": {},
     "output_type": "execute_result"
    }
   ],
   "source": [
    "np_bmi.shape"
   ]
  },
  {
   "cell_type": "code",
   "execution_count": 33,
   "id": "eb81db57",
   "metadata": {},
   "outputs": [
    {
     "data": {
      "text/plain": [
       "numpy.ndarray"
      ]
     },
     "execution_count": 33,
     "metadata": {},
     "output_type": "execute_result"
    }
   ],
   "source": [
    "type(np_bmi)"
   ]
  },
  {
   "cell_type": "code",
   "execution_count": 37,
   "id": "1e864ee6",
   "metadata": {},
   "outputs": [],
   "source": [
    "multi_array = np.array([[14.04, 19.62, 30.09,12.72],\n",
    "                        [14.04, 19.62, 30.09, 12.72],\n",
    "                        [14.04, 19.62, 30.09, 12.72],\n",
    "                       [14.04, 19.62, 30.09, 12.72]])"
   ]
  },
  {
   "cell_type": "code",
   "execution_count": 38,
   "id": "b64bdff2",
   "metadata": {},
   "outputs": [
    {
     "data": {
      "text/plain": [
       "(4, 4)"
      ]
     },
     "execution_count": 38,
     "metadata": {},
     "output_type": "execute_result"
    }
   ],
   "source": [
    "multi_array.shape"
   ]
  },
  {
   "cell_type": "code",
   "execution_count": null,
   "id": "e63c8e04",
   "metadata": {},
   "outputs": [],
   "source": []
  },
  {
   "cell_type": "code",
   "execution_count": null,
   "id": "a10b92c3",
   "metadata": {},
   "outputs": [],
   "source": []
  },
  {
   "cell_type": "code",
   "execution_count": null,
   "id": "106bc381",
   "metadata": {},
   "outputs": [],
   "source": []
  },
  {
   "cell_type": "code",
   "execution_count": null,
   "id": "3d93e255",
   "metadata": {},
   "outputs": [],
   "source": []
  },
  {
   "cell_type": "code",
   "execution_count": null,
   "id": "329b330a",
   "metadata": {},
   "outputs": [],
   "source": []
  },
  {
   "cell_type": "code",
   "execution_count": null,
   "id": "c2f81da5",
   "metadata": {},
   "outputs": [],
   "source": []
  },
  {
   "cell_type": "code",
   "execution_count": null,
   "id": "185c8b15",
   "metadata": {},
   "outputs": [],
   "source": []
  },
  {
   "cell_type": "code",
   "execution_count": null,
   "id": "fa254b60",
   "metadata": {},
   "outputs": [],
   "source": []
  },
  {
   "cell_type": "code",
   "execution_count": null,
   "id": "1f70441e",
   "metadata": {},
   "outputs": [],
   "source": []
  }
 ],
 "metadata": {
  "kernelspec": {
   "display_name": "Python 3 (ipykernel)",
   "language": "python",
   "name": "python3"
  },
  "language_info": {
   "codemirror_mode": {
    "name": "ipython",
    "version": 3
   },
   "file_extension": ".py",
   "mimetype": "text/x-python",
   "name": "python",
   "nbconvert_exporter": "python",
   "pygments_lexer": "ipython3",
   "version": "3.11.4"
  }
 },
 "nbformat": 4,
 "nbformat_minor": 5
}
