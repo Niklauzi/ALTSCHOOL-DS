{
 "cells": [
  {
   "cell_type": "code",
   "execution_count": 5,
   "id": "fc72c837",
   "metadata": {},
   "outputs": [],
   "source": [
    "# data types\n",
    "# integers\n",
    "\n",
    "age = 12;\n"
   ]
  },
  {
   "cell_type": "code",
   "execution_count": 7,
   "id": "06ee56c8",
   "metadata": {},
   "outputs": [
    {
     "name": "stdout",
     "output_type": "stream",
     "text": [
      "12\n"
     ]
    }
   ],
   "source": [
    "print(age)"
   ]
  },
  {
   "cell_type": "code",
   "execution_count": 8,
   "id": "f1c1a824",
   "metadata": {},
   "outputs": [
    {
     "data": {
      "text/plain": [
       "int"
      ]
     },
     "execution_count": 8,
     "metadata": {},
     "output_type": "execute_result"
    }
   ],
   "source": [
    "type(age)"
   ]
  },
  {
   "cell_type": "code",
   "execution_count": 16,
   "id": "3b445cfc",
   "metadata": {},
   "outputs": [],
   "source": [
    "# strings\n",
    "\n",
    "favour = \"Billionaire at 27\";\n"
   ]
  },
  {
   "cell_type": "code",
   "execution_count": 17,
   "id": "a1e0176c",
   "metadata": {},
   "outputs": [
    {
     "name": "stdout",
     "output_type": "stream",
     "text": [
      "Billionaire at 27\n"
     ]
    }
   ],
   "source": [
    "print(favour)"
   ]
  },
  {
   "cell_type": "code",
   "execution_count": 18,
   "id": "509dc306",
   "metadata": {},
   "outputs": [
    {
     "data": {
      "text/plain": [
       "str"
      ]
     },
     "execution_count": 18,
     "metadata": {},
     "output_type": "execute_result"
    }
   ],
   "source": [
    "type(favour)"
   ]
  },
  {
   "cell_type": "code",
   "execution_count": 21,
   "id": "8169bae4",
   "metadata": {},
   "outputs": [],
   "source": [
    "# floats\n",
    "\n",
    "favourNetworth = 50000000.500\n"
   ]
  },
  {
   "cell_type": "code",
   "execution_count": 22,
   "id": "f3493ddc",
   "metadata": {},
   "outputs": [
    {
     "name": "stdout",
     "output_type": "stream",
     "text": [
      "50000000.5\n"
     ]
    }
   ],
   "source": [
    "print(favourNetworth)\n"
   ]
  },
  {
   "cell_type": "code",
   "execution_count": 23,
   "id": "0b926ca2",
   "metadata": {},
   "outputs": [
    {
     "data": {
      "text/plain": [
       "float"
      ]
     },
     "execution_count": 23,
     "metadata": {},
     "output_type": "execute_result"
    }
   ],
   "source": [
    "type(favourNetworth)"
   ]
  },
  {
   "cell_type": "code",
   "execution_count": 28,
   "id": "99ef5f49",
   "metadata": {},
   "outputs": [],
   "source": [
    "# booleans\n",
    "\n",
    "active = True\n"
   ]
  },
  {
   "cell_type": "code",
   "execution_count": 29,
   "id": "77af794e",
   "metadata": {},
   "outputs": [
    {
     "name": "stdout",
     "output_type": "stream",
     "text": [
      "True\n"
     ]
    }
   ],
   "source": [
    "print(active) "
   ]
  },
  {
   "cell_type": "code",
   "execution_count": 30,
   "id": "3d567b9d",
   "metadata": {},
   "outputs": [
    {
     "data": {
      "text/plain": [
       "bool"
      ]
     },
     "execution_count": 30,
     "metadata": {},
     "output_type": "execute_result"
    }
   ],
   "source": [
    "type(active)"
   ]
  },
  {
   "cell_type": "code",
   "execution_count": 2,
   "id": "14eb1b8c",
   "metadata": {},
   "outputs": [],
   "source": [
    "# Data structures"
   ]
  },
  {
   "cell_type": "code",
   "execution_count": 32,
   "id": "79664825",
   "metadata": {},
   "outputs": [],
   "source": [
    "# Lists\n",
    "shopping_lists = ['Favour', 'millionaire', 'BMW', 'mansion', 'SUVs']"
   ]
  },
  {
   "cell_type": "code",
   "execution_count": 33,
   "id": "b5f1e7af",
   "metadata": {},
   "outputs": [
    {
     "data": {
      "text/plain": [
       "list"
      ]
     },
     "execution_count": 33,
     "metadata": {},
     "output_type": "execute_result"
    }
   ],
   "source": [
    "type(shopping_lists)"
   ]
  },
  {
   "cell_type": "code",
   "execution_count": 34,
   "id": "7f07e470",
   "metadata": {},
   "outputs": [
    {
     "name": "stdout",
     "output_type": "stream",
     "text": [
      "['Favour', 'millionaire', 'BMW', 'mansion', 'SUVs']\n"
     ]
    }
   ],
   "source": [
    "print(shopping_lists)"
   ]
  },
  {
   "cell_type": "code",
   "execution_count": 35,
   "id": "e7d16f79",
   "metadata": {},
   "outputs": [
    {
     "name": "stdout",
     "output_type": "stream",
     "text": [
      "BMW\n"
     ]
    }
   ],
   "source": [
    "print(shopping_lists[2])"
   ]
  },
  {
   "cell_type": "code",
   "execution_count": 36,
   "id": "a3ef4b60",
   "metadata": {},
   "outputs": [],
   "source": [
    "# tuples\n",
    "guests = ('Favour', 'millionaire', 'BMW', 'mansion', 'SUVs')"
   ]
  },
  {
   "cell_type": "code",
   "execution_count": 37,
   "id": "07060e42",
   "metadata": {},
   "outputs": [
    {
     "data": {
      "text/plain": [
       "tuple"
      ]
     },
     "execution_count": 37,
     "metadata": {},
     "output_type": "execute_result"
    }
   ],
   "source": [
    "type(guests)"
   ]
  },
  {
   "cell_type": "code",
   "execution_count": 55,
   "id": "a97806ae",
   "metadata": {},
   "outputs": [],
   "source": [
    "# dictionaries\n",
    "\n",
    "shoppinglists_prices = { 'House': 505000, 'Car': 50000, 'trip': 40000, 'Postion': 'CEO'}"
   ]
  },
  {
   "cell_type": "code",
   "execution_count": 39,
   "id": "211c8189",
   "metadata": {},
   "outputs": [
    {
     "data": {
      "text/plain": [
       "dict"
      ]
     },
     "execution_count": 39,
     "metadata": {},
     "output_type": "execute_result"
    }
   ],
   "source": [
    "type(shoppinglists_prices)"
   ]
  },
  {
   "cell_type": "code",
   "execution_count": 56,
   "id": "7b546bfc",
   "metadata": {},
   "outputs": [
    {
     "name": "stdout",
     "output_type": "stream",
     "text": [
      "{'House': 505000, 'Car': 50000, 'trip': 40000, 'Postion': 'CEO'}\n"
     ]
    }
   ],
   "source": [
    "print(shoppinglists_prices)"
   ]
  },
  {
   "cell_type": "code",
   "execution_count": 57,
   "id": "fd2c1425",
   "metadata": {},
   "outputs": [
    {
     "name": "stdout",
     "output_type": "stream",
     "text": [
      "CEO\n"
     ]
    }
   ],
   "source": [
    "print(shoppinglists_prices['Postion'])"
   ]
  },
  {
   "cell_type": "code",
   "execution_count": null,
   "id": "c324ba6d",
   "metadata": {},
   "outputs": [],
   "source": []
  }
 ],
 "metadata": {
  "kernelspec": {
   "display_name": "Python 3 (ipykernel)",
   "language": "python",
   "name": "python3"
  },
  "language_info": {
   "codemirror_mode": {
    "name": "ipython",
    "version": 3
   },
   "file_extension": ".py",
   "mimetype": "text/x-python",
   "name": "python",
   "nbconvert_exporter": "python",
   "pygments_lexer": "ipython3",
   "version": "3.11.4"
  }
 },
 "nbformat": 4,
 "nbformat_minor": 5
}
