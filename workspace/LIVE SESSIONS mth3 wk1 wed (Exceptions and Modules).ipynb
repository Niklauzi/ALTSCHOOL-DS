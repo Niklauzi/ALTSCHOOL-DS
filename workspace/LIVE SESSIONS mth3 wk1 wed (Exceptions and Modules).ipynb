{
 "cells": [
  {
   "cell_type": "code",
   "execution_count": 1,
   "id": "1ad114d4",
   "metadata": {},
   "outputs": [
    {
     "name": "stdout",
     "output_type": "stream",
     "text": [
      "Enter your age: 15\n",
      "Minor\n"
     ]
    }
   ],
   "source": [
    "import data_mod"
   ]
  },
  {
   "cell_type": "code",
   "execution_count": 1,
   "id": "957a910d",
   "metadata": {},
   "outputs": [
    {
     "name": "stdout",
     "output_type": "stream",
     "text": [
      "Requirement already satisfied: numpy in c:\\users\\klaus\\reptile\\lib\\site-packages (1.24.3)Note: you may need to restart the kernel to use updated packages.\n",
      "\n"
     ]
    }
   ],
   "source": [
    "pip install numpy"
   ]
  },
  {
   "cell_type": "code",
   "execution_count": null,
   "id": "91e93b65",
   "metadata": {},
   "outputs": [],
   "source": [
    "pip install jupyter_contrib_nbextensions"
   ]
  },
  {
   "cell_type": "code",
   "execution_count": null,
   "id": "01a50233",
   "metadata": {},
   "outputs": [],
   "source": []
  },
  {
   "cell_type": "code",
   "execution_count": null,
   "id": "680f6e8f",
   "metadata": {},
   "outputs": [],
   "source": []
  },
  {
   "cell_type": "code",
   "execution_count": 8,
   "id": "3b1602a8",
   "metadata": {},
   "outputs": [
    {
     "name": "stdout",
     "output_type": "stream",
     "text": [
      "Enter a list of float values separated by commas: 4,6\n",
      "10.0\n"
     ]
    }
   ],
   "source": [
    " from data_mod import calculate_sum"
   ]
  },
  {
   "cell_type": "code",
   "execution_count": 2,
   "id": "f2d3913a",
   "metadata": {},
   "outputs": [],
   "source": [
    "# result = calculate_sum([4, 4, 5, 4])\n",
    "# print(result)"
   ]
  },
  {
   "cell_type": "code",
   "execution_count": null,
   "id": "8de9e443",
   "metadata": {},
   "outputs": [],
   "source": [
    "# try, except"
   ]
  },
  {
   "cell_type": "code",
   "execution_count": 7,
   "id": "4958662d",
   "metadata": {},
   "outputs": [
    {
     "name": "stdout",
     "output_type": "stream",
     "text": [
      "Enter a number: 543\n",
      "Odd\n"
     ]
    }
   ],
   "source": [
    "num = input('Enter a number: ')\n",
    "try:\n",
    "    num = float(num)\n",
    "    if num % 2 == 0:\n",
    "        res = 'Even'\n",
    "    else:\n",
    "        res = 'Odd'\n",
    "except:\n",
    "    print(f'{num} is not a number, try again')\n",
    "print(res)"
   ]
  },
  {
   "cell_type": "code",
   "execution_count": 1,
   "id": "9e432d5f",
   "metadata": {},
   "outputs": [],
   "source": [
    "def triangle_type(a,b,c):\n",
    "    if a and b and c != 0:\n",
    "        if a == b == c:\n",
    "            return 'equilateral triangle'\n",
    "        elif a == b or a == c or c == b:\n",
    "            return 'isosceles triangle'\n",
    "        else:\n",
    "            return 'scalence triangle'\n",
    "    else:\n",
    "        return ' cannot have a zero side'\n",
    "    "
   ]
  },
  {
   "cell_type": "code",
   "execution_count": 4,
   "id": "e924699f",
   "metadata": {},
   "outputs": [
    {
     "data": {
      "text/plain": [
       "'equilateral triangle'"
      ]
     },
     "execution_count": 4,
     "metadata": {},
     "output_type": "execute_result"
    }
   ],
   "source": [
    "triangle_type(5,5,5.0)"
   ]
  },
  {
   "cell_type": "code",
   "execution_count": 5,
   "id": "86a4bd86",
   "metadata": {},
   "outputs": [],
   "source": [
    "def is_prime(num):\n",
    "    if num < 2:\n",
    "        return False\n",
    "    for i in range(2, int(num ** 0.5) + 1 ):\n",
    "        if num % i == 0:\n",
    "            return False\n",
    "    return True"
   ]
  },
  {
   "cell_type": "code",
   "execution_count": 7,
   "id": "45d40cdb",
   "metadata": {},
   "outputs": [],
   "source": [
    "prime_numbers = [number for number in range(1, 51) if is_prime(number)]"
   ]
  },
  {
   "cell_type": "code",
   "execution_count": 8,
   "id": "7f6fba40",
   "metadata": {},
   "outputs": [
    {
     "data": {
      "text/plain": [
       "[2, 3, 5, 7, 11, 13, 17, 19, 23, 29, 31, 37, 41, 43, 47]"
      ]
     },
     "execution_count": 8,
     "metadata": {},
     "output_type": "execute_result"
    }
   ],
   "source": [
    "prime_numbers"
   ]
  },
  {
   "cell_type": "code",
   "execution_count": null,
   "id": "108f6fe0",
   "metadata": {},
   "outputs": [],
   "source": []
  }
 ],
 "metadata": {
  "kernelspec": {
   "display_name": "Python 3 (ipykernel)",
   "language": "python",
   "name": "python3"
  },
  "language_info": {
   "codemirror_mode": {
    "name": "ipython",
    "version": 3
   },
   "file_extension": ".py",
   "mimetype": "text/x-python",
   "name": "python",
   "nbconvert_exporter": "python",
   "pygments_lexer": "ipython3",
   "version": "3.11.4"
  }
 },
 "nbformat": 4,
 "nbformat_minor": 5
}
