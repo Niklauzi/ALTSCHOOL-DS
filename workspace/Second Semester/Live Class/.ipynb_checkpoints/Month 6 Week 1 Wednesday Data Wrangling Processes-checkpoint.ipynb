{
 "cells": [
  {
   "cell_type": "markdown",
   "id": "273978b4",
   "metadata": {},
   "source": [
    "- Subseting and Sorting Data\n",
    "- Grouping Data\n",
    "- Data Types\n",
    "- Handling Missing Data\n",
    "- Duplicates\n",
    "- Outliers"
   ]
  },
  {
   "cell_type": "code",
   "execution_count": 1,
   "id": "2f180e34",
   "metadata": {},
   "outputs": [],
   "source": [
    "# loading the package\n",
    "import pandas as pd"
   ]
  },
  {
   "cell_type": "code",
   "execution_count": 2,
   "id": "ca07bbf9",
   "metadata": {},
   "outputs": [],
   "source": [
    "file = r'C:\\Users\\KLAUS\\Desktop\\JUPYTER\\ALTSCHOOL-DS\\workspace\\Downloaded files\\datasets\\afcon-2023-final-squads-list.csv'"
   ]
  },
  {
   "cell_type": "code",
   "execution_count": 3,
   "id": "8bf3f47b",
   "metadata": {},
   "outputs": [],
   "source": [
    "# load the data\n",
    "df = pd.read_csv(file)"
   ]
  },
  {
   "cell_type": "code",
   "execution_count": 4,
   "id": "0485cd85",
   "metadata": {},
   "outputs": [
    {
     "data": {
      "text/html": [
       "<div>\n",
       "<style scoped>\n",
       "    .dataframe tbody tr th:only-of-type {\n",
       "        vertical-align: middle;\n",
       "    }\n",
       "\n",
       "    .dataframe tbody tr th {\n",
       "        vertical-align: top;\n",
       "    }\n",
       "\n",
       "    .dataframe thead th {\n",
       "        text-align: right;\n",
       "    }\n",
       "</style>\n",
       "<table border=\"1\" class=\"dataframe\">\n",
       "  <thead>\n",
       "    <tr style=\"text-align: right;\">\n",
       "      <th></th>\n",
       "      <th>shirt_no.</th>\n",
       "      <th>name</th>\n",
       "      <th>jersey_name</th>\n",
       "      <th>position</th>\n",
       "      <th>birthdate</th>\n",
       "      <th>team</th>\n",
       "      <th>club</th>\n",
       "      <th>club_country</th>\n",
       "    </tr>\n",
       "  </thead>\n",
       "  <tbody>\n",
       "    <tr>\n",
       "      <th>0</th>\n",
       "      <td>1</td>\n",
       "      <td>Signori Dominique Nymi António</td>\n",
       "      <td>Dominique</td>\n",
       "      <td>GK</td>\n",
       "      <td>25.07.1994</td>\n",
       "      <td>Angola</td>\n",
       "      <td>Etoile Carouge</td>\n",
       "      <td>Angola</td>\n",
       "    </tr>\n",
       "    <tr>\n",
       "      <th>1</th>\n",
       "      <td>2</td>\n",
       "      <td>Nurio Domingos Matias Fortuna</td>\n",
       "      <td>Nurio</td>\n",
       "      <td>DF</td>\n",
       "      <td>24.03.1995</td>\n",
       "      <td>Angola</td>\n",
       "      <td>Gent KK</td>\n",
       "      <td>Angola</td>\n",
       "    </tr>\n",
       "    <tr>\n",
       "      <th>2</th>\n",
       "      <td>3</td>\n",
       "      <td>Buatu Mananga Jonathan</td>\n",
       "      <td>Buatu</td>\n",
       "      <td>DF</td>\n",
       "      <td>27.09.1993</td>\n",
       "      <td>Angola</td>\n",
       "      <td>Valencinnes</td>\n",
       "      <td>Angola</td>\n",
       "    </tr>\n",
       "    <tr>\n",
       "      <th>3</th>\n",
       "      <td>4</td>\n",
       "      <td>Keliano Manuel</td>\n",
       "      <td>Keliano</td>\n",
       "      <td>MF</td>\n",
       "      <td>16.01.2003</td>\n",
       "      <td>Angola</td>\n",
       "      <td>Estrela da Amadora</td>\n",
       "      <td>Angola</td>\n",
       "    </tr>\n",
       "    <tr>\n",
       "      <th>4</th>\n",
       "      <td>5</td>\n",
       "      <td>Joaquim Marcos Cunga Balanga</td>\n",
       "      <td>Kinito</td>\n",
       "      <td>DF</td>\n",
       "      <td>13.03.1998</td>\n",
       "      <td>Angola</td>\n",
       "      <td>Atletico Petroleos de Luanda\\n</td>\n",
       "      <td>Angola</td>\n",
       "    </tr>\n",
       "    <tr>\n",
       "      <th>5</th>\n",
       "      <td>6</td>\n",
       "      <td>Kialonda Gaspar</td>\n",
       "      <td>Gaspar</td>\n",
       "      <td>DF</td>\n",
       "      <td>27.09.1997</td>\n",
       "      <td>Angola</td>\n",
       "      <td>Estrela da Amadora</td>\n",
       "      <td>Angola</td>\n",
       "    </tr>\n",
       "    <tr>\n",
       "      <th>6</th>\n",
       "      <td>7</td>\n",
       "      <td>Deivi Miguel Vieira</td>\n",
       "      <td>Gilberto</td>\n",
       "      <td>FW</td>\n",
       "      <td>10.03.2001</td>\n",
       "      <td>Angola</td>\n",
       "      <td>Atlético Petróleos de Luand\\n</td>\n",
       "      <td>Angola</td>\n",
       "    </tr>\n",
       "    <tr>\n",
       "      <th>7</th>\n",
       "      <td>8</td>\n",
       "      <td>Benedito Mambuene Mukendi</td>\n",
       "      <td>Beni</td>\n",
       "      <td>MF</td>\n",
       "      <td>21.05.2002</td>\n",
       "      <td>Angola</td>\n",
       "      <td>Casa Pia FC</td>\n",
       "      <td>Angola</td>\n",
       "    </tr>\n",
       "    <tr>\n",
       "      <th>8</th>\n",
       "      <td>9</td>\n",
       "      <td>Ambrósini António Cabaça\\nSalvador</td>\n",
       "      <td>Zini</td>\n",
       "      <td>FW</td>\n",
       "      <td>03.07.2002</td>\n",
       "      <td>Angola</td>\n",
       "      <td>AEK FC</td>\n",
       "      <td>Angola</td>\n",
       "    </tr>\n",
       "    <tr>\n",
       "      <th>9</th>\n",
       "      <td>10</td>\n",
       "      <td>Jacinto Muondo Dala</td>\n",
       "      <td>Gelson</td>\n",
       "      <td>FW</td>\n",
       "      <td>13.07.1996</td>\n",
       "      <td>Angola</td>\n",
       "      <td>Al Wakrah</td>\n",
       "      <td>Angola</td>\n",
       "    </tr>\n",
       "    <tr>\n",
       "      <th>10</th>\n",
       "      <td>11</td>\n",
       "      <td>Felicio Mendes Joao</td>\n",
       "      <td>Milson</td>\n",
       "      <td>FW</td>\n",
       "      <td>12.10.1999</td>\n",
       "      <td>Angola</td>\n",
       "      <td>Maccabi Tel Aviv</td>\n",
       "      <td>Angola</td>\n",
       "    </tr>\n",
       "    <tr>\n",
       "      <th>11</th>\n",
       "      <td>12</td>\n",
       "      <td>Aldo Geraldo Manuel Monteiro</td>\n",
       "      <td>Kadu</td>\n",
       "      <td>GK</td>\n",
       "      <td>30.11.1994</td>\n",
       "      <td>Angola</td>\n",
       "      <td>Oliveira do Hospital</td>\n",
       "      <td>Angola</td>\n",
       "    </tr>\n",
       "    <tr>\n",
       "      <th>12</th>\n",
       "      <td>13</td>\n",
       "      <td>Corte Real Carneiro Augusto\\nDe Jesus</td>\n",
       "      <td>To Carneiro</td>\n",
       "      <td>DF</td>\n",
       "      <td>05.11.1995</td>\n",
       "      <td>Angola</td>\n",
       "      <td>Atletico petrolios</td>\n",
       "      <td>Angola</td>\n",
       "    </tr>\n",
       "    <tr>\n",
       "      <th>13</th>\n",
       "      <td>14</td>\n",
       "      <td>Loide Antonio Augusto</td>\n",
       "      <td>Loide</td>\n",
       "      <td>DF</td>\n",
       "      <td>26.02.2000</td>\n",
       "      <td>Angola</td>\n",
       "      <td>Alanyaspor</td>\n",
       "      <td>Angola</td>\n",
       "    </tr>\n",
       "    <tr>\n",
       "      <th>14</th>\n",
       "      <td>15</td>\n",
       "      <td>Zito André Sebastiao Luvumbo</td>\n",
       "      <td>Luvumbo</td>\n",
       "      <td>FW</td>\n",
       "      <td>09.03.2002</td>\n",
       "      <td>Angola</td>\n",
       "      <td>Cagliari</td>\n",
       "      <td>Angola</td>\n",
       "    </tr>\n",
       "    <tr>\n",
       "      <th>15</th>\n",
       "      <td>16</td>\n",
       "      <td>Alfredo Kulembe Ribeiro</td>\n",
       "      <td>Fredy</td>\n",
       "      <td>MF</td>\n",
       "      <td>27.03.1990</td>\n",
       "      <td>Angola</td>\n",
       "      <td>Eyupspor</td>\n",
       "      <td>Angola</td>\n",
       "    </tr>\n",
       "    <tr>\n",
       "      <th>16</th>\n",
       "      <td>17</td>\n",
       "      <td>Bruno L. Pinto De Almeida Paz</td>\n",
       "      <td>Bruno Paz</td>\n",
       "      <td>MF</td>\n",
       "      <td>23.04.1998</td>\n",
       "      <td>Angola</td>\n",
       "      <td>Konyasport</td>\n",
       "      <td>Angola</td>\n",
       "    </tr>\n",
       "    <tr>\n",
       "      <th>17</th>\n",
       "      <td>18</td>\n",
       "      <td>Jérémie Bela</td>\n",
       "      <td>Bela</td>\n",
       "      <td>FW</td>\n",
       "      <td>08.04.1993</td>\n",
       "      <td>Angola</td>\n",
       "      <td>Clermont Foot</td>\n",
       "      <td>France</td>\n",
       "    </tr>\n",
       "    <tr>\n",
       "      <th>18</th>\n",
       "      <td>19</td>\n",
       "      <td>Cristovao Paciencia</td>\n",
       "      <td>Mabululu</td>\n",
       "      <td>FW</td>\n",
       "      <td>01.06.1992</td>\n",
       "      <td>Angola</td>\n",
       "      <td>Al Ittihad Alexandria</td>\n",
       "      <td>Angola</td>\n",
       "    </tr>\n",
       "    <tr>\n",
       "      <th>19</th>\n",
       "      <td>20</td>\n",
       "      <td>Valdmiro Tualungo Paulo\\nLameira</td>\n",
       "      <td>Estrela</td>\n",
       "      <td>MF</td>\n",
       "      <td>22.09.1995</td>\n",
       "      <td>Angola</td>\n",
       "      <td>Erzurumspor</td>\n",
       "      <td>Angola</td>\n",
       "    </tr>\n",
       "    <tr>\n",
       "      <th>20</th>\n",
       "      <td>21</td>\n",
       "      <td>Eddie Marcos Melo Afonso</td>\n",
       "      <td>Eddie</td>\n",
       "      <td>DF</td>\n",
       "      <td>07.03.1994</td>\n",
       "      <td>Angola</td>\n",
       "      <td>atletico petroleos de luanda\\n</td>\n",
       "      <td>Angola</td>\n",
       "    </tr>\n",
       "    <tr>\n",
       "      <th>21</th>\n",
       "      <td>22</td>\n",
       "      <td>Adilson Da Cruz Cipriano</td>\n",
       "      <td>Neblu</td>\n",
       "      <td>GK</td>\n",
       "      <td>16.12.1993</td>\n",
       "      <td>Angola</td>\n",
       "      <td>Clube Desportivo 1 de Agosto\\n</td>\n",
       "      <td>Angola</td>\n",
       "    </tr>\n",
       "    <tr>\n",
       "      <th>22</th>\n",
       "      <td>23</td>\n",
       "      <td>Manuel Luis Da Silva Cafumana</td>\n",
       "      <td>Show</td>\n",
       "      <td>MF</td>\n",
       "      <td>06.03.1999</td>\n",
       "      <td>Angola</td>\n",
       "      <td>Macabi Haifa</td>\n",
       "      <td>Angola</td>\n",
       "    </tr>\n",
       "    <tr>\n",
       "      <th>23</th>\n",
       "      <td>24</td>\n",
       "      <td>Francisco Pedro Mangala</td>\n",
       "      <td>Gelson</td>\n",
       "      <td>GK</td>\n",
       "      <td>08.07.1999</td>\n",
       "      <td>Angola</td>\n",
       "      <td>GD Interclube</td>\n",
       "      <td>Angola</td>\n",
       "    </tr>\n",
       "    <tr>\n",
       "      <th>24</th>\n",
       "      <td>25</td>\n",
       "      <td>Inacio Miguel Ferreira Dos\\nSantos</td>\n",
       "      <td>Inácio</td>\n",
       "      <td>DF</td>\n",
       "      <td>12.12.1995</td>\n",
       "      <td>Angola</td>\n",
       "      <td>atletico petroleos de luanda\\n</td>\n",
       "      <td>Angola</td>\n",
       "    </tr>\n",
       "    <tr>\n",
       "      <th>25</th>\n",
       "      <td>26</td>\n",
       "      <td>Laurindo Dilson Maria Aurelio</td>\n",
       "      <td>Depu</td>\n",
       "      <td>FW</td>\n",
       "      <td>08.01.2000</td>\n",
       "      <td>Angola</td>\n",
       "      <td>Gil Vicente</td>\n",
       "      <td>Angola</td>\n",
       "    </tr>\n",
       "    <tr>\n",
       "      <th>26</th>\n",
       "      <td>27</td>\n",
       "      <td>Francisco Gonçalves Sacalumbo</td>\n",
       "      <td>Banza</td>\n",
       "      <td>FW</td>\n",
       "      <td>17.12.1998</td>\n",
       "      <td>Angola</td>\n",
       "      <td>Anorthosis</td>\n",
       "      <td>Angola</td>\n",
       "    </tr>\n",
       "    <tr>\n",
       "      <th>27</th>\n",
       "      <td>1</td>\n",
       "      <td>Moustafa Zeghba</td>\n",
       "      <td>ZEGHBA</td>\n",
       "      <td>GK</td>\n",
       "      <td>21.11.1990</td>\n",
       "      <td>Algeria</td>\n",
       "      <td>Damac F.C</td>\n",
       "      <td>Arabie Saoudite</td>\n",
       "    </tr>\n",
       "    <tr>\n",
       "      <th>28</th>\n",
       "      <td>2</td>\n",
       "      <td>Aissa Mandi</td>\n",
       "      <td>MANDI</td>\n",
       "      <td>DF</td>\n",
       "      <td>22.10.1991</td>\n",
       "      <td>Algeria</td>\n",
       "      <td>VILLARREAL CF</td>\n",
       "      <td>Espagne</td>\n",
       "    </tr>\n",
       "    <tr>\n",
       "      <th>29</th>\n",
       "      <td>3</td>\n",
       "      <td>Kevin Daniel Guiton Van\\nKerkhouf</td>\n",
       "      <td>Guiton</td>\n",
       "      <td>DF</td>\n",
       "      <td>14.03.1996</td>\n",
       "      <td>Algeria</td>\n",
       "      <td>F.C.Metz</td>\n",
       "      <td>France</td>\n",
       "    </tr>\n",
       "  </tbody>\n",
       "</table>\n",
       "</div>"
      ],
      "text/plain": [
       "    shirt_no.                                   name  jersey_name position  \\\n",
       "0           1         Signori Dominique Nymi António    Dominique       GK   \n",
       "1           2          Nurio Domingos Matias Fortuna        Nurio       DF   \n",
       "2           3                 Buatu Mananga Jonathan        Buatu       DF   \n",
       "3           4                         Keliano Manuel      Keliano       MF   \n",
       "4           5           Joaquim Marcos Cunga Balanga       Kinito       DF   \n",
       "5           6                        Kialonda Gaspar       Gaspar       DF   \n",
       "6           7                    Deivi Miguel Vieira     Gilberto       FW   \n",
       "7           8              Benedito Mambuene Mukendi         Beni       MF   \n",
       "8           9     Ambrósini António Cabaça\\nSalvador         Zini       FW   \n",
       "9          10                    Jacinto Muondo Dala       Gelson       FW   \n",
       "10         11                    Felicio Mendes Joao       Milson       FW   \n",
       "11         12           Aldo Geraldo Manuel Monteiro         Kadu       GK   \n",
       "12         13  Corte Real Carneiro Augusto\\nDe Jesus  To Carneiro       DF   \n",
       "13         14                  Loide Antonio Augusto        Loide       DF   \n",
       "14         15           Zito André Sebastiao Luvumbo      Luvumbo       FW   \n",
       "15         16                Alfredo Kulembe Ribeiro        Fredy       MF   \n",
       "16         17          Bruno L. Pinto De Almeida Paz    Bruno Paz       MF   \n",
       "17         18                           Jérémie Bela         Bela       FW   \n",
       "18         19                    Cristovao Paciencia     Mabululu       FW   \n",
       "19         20       Valdmiro Tualungo Paulo\\nLameira      Estrela       MF   \n",
       "20         21               Eddie Marcos Melo Afonso        Eddie       DF   \n",
       "21         22               Adilson Da Cruz Cipriano        Neblu       GK   \n",
       "22         23          Manuel Luis Da Silva Cafumana         Show       MF   \n",
       "23         24                Francisco Pedro Mangala       Gelson       GK   \n",
       "24         25     Inacio Miguel Ferreira Dos\\nSantos       Inácio       DF   \n",
       "25         26          Laurindo Dilson Maria Aurelio         Depu       FW   \n",
       "26         27          Francisco Gonçalves Sacalumbo        Banza       FW   \n",
       "27          1                        Moustafa Zeghba       ZEGHBA       GK   \n",
       "28          2                            Aissa Mandi        MANDI       DF   \n",
       "29          3      Kevin Daniel Guiton Van\\nKerkhouf       Guiton       DF   \n",
       "\n",
       "     birthdate     team                            club     club_country  \n",
       "0   25.07.1994   Angola                  Etoile Carouge           Angola  \n",
       "1   24.03.1995   Angola                         Gent KK           Angola  \n",
       "2   27.09.1993   Angola                     Valencinnes           Angola  \n",
       "3   16.01.2003   Angola              Estrela da Amadora           Angola  \n",
       "4   13.03.1998   Angola  Atletico Petroleos de Luanda\\n           Angola  \n",
       "5   27.09.1997   Angola              Estrela da Amadora           Angola  \n",
       "6   10.03.2001   Angola   Atlético Petróleos de Luand\\n           Angola  \n",
       "7   21.05.2002   Angola                     Casa Pia FC           Angola  \n",
       "8   03.07.2002   Angola                          AEK FC           Angola  \n",
       "9   13.07.1996   Angola                       Al Wakrah           Angola  \n",
       "10  12.10.1999   Angola                Maccabi Tel Aviv           Angola  \n",
       "11  30.11.1994   Angola            Oliveira do Hospital           Angola  \n",
       "12  05.11.1995   Angola              Atletico petrolios           Angola  \n",
       "13  26.02.2000   Angola                      Alanyaspor           Angola  \n",
       "14  09.03.2002   Angola                        Cagliari           Angola  \n",
       "15  27.03.1990   Angola                        Eyupspor           Angola  \n",
       "16  23.04.1998   Angola                      Konyasport           Angola  \n",
       "17  08.04.1993   Angola                   Clermont Foot           France  \n",
       "18  01.06.1992   Angola           Al Ittihad Alexandria           Angola  \n",
       "19  22.09.1995   Angola                     Erzurumspor           Angola  \n",
       "20  07.03.1994   Angola  atletico petroleos de luanda\\n           Angola  \n",
       "21  16.12.1993   Angola  Clube Desportivo 1 de Agosto\\n           Angola  \n",
       "22  06.03.1999   Angola                    Macabi Haifa           Angola  \n",
       "23  08.07.1999   Angola                   GD Interclube           Angola  \n",
       "24  12.12.1995   Angola  atletico petroleos de luanda\\n           Angola  \n",
       "25  08.01.2000   Angola                     Gil Vicente           Angola  \n",
       "26  17.12.1998   Angola                      Anorthosis           Angola  \n",
       "27  21.11.1990  Algeria                       Damac F.C  Arabie Saoudite  \n",
       "28  22.10.1991  Algeria                   VILLARREAL CF          Espagne  \n",
       "29  14.03.1996  Algeria                        F.C.Metz           France  "
      ]
     },
     "execution_count": 4,
     "metadata": {},
     "output_type": "execute_result"
    }
   ],
   "source": [
    "df.head(30)"
   ]
  },
  {
   "cell_type": "markdown",
   "id": "0986b510",
   "metadata": {},
   "source": [
    "- Subseting and Sorting Data"
   ]
  },
  {
   "cell_type": "code",
   "execution_count": null,
   "id": "ea9e87f6",
   "metadata": {
    "scrolled": true
   },
   "outputs": [],
   "source": [
    "# take a part of the dataframe: rows, columns\n",
    "# iloc, loc, dot, square brackets\n",
    "\n",
    "# df.iloc[rows, columns]\n",
    "df.iloc[0:27, :]"
   ]
  },
  {
   "cell_type": "code",
   "execution_count": null,
   "id": "061a99da",
   "metadata": {},
   "outputs": [],
   "source": [
    "df.iloc[0:27, [1, 4, 5]]"
   ]
  },
  {
   "cell_type": "code",
   "execution_count": null,
   "id": "706a5aaa",
   "metadata": {},
   "outputs": [],
   "source": [
    "df.loc[0:27, ['team', 'club_country']]"
   ]
  },
  {
   "cell_type": "code",
   "execution_count": null,
   "id": "373b2465",
   "metadata": {
    "scrolled": true
   },
   "outputs": [],
   "source": [
    "print(df.shape)\n",
    "df.info()"
   ]
  },
  {
   "cell_type": "code",
   "execution_count": null,
   "id": "3b862203",
   "metadata": {},
   "outputs": [],
   "source": [
    "df.describe(include='all')"
   ]
  },
  {
   "cell_type": "code",
   "execution_count": null,
   "id": "4a9da06d",
   "metadata": {
    "scrolled": true
   },
   "outputs": [],
   "source": [
    "from datetime import datetime\n",
    "df['birthdate'] = pd.to_datetime(df['birthdate'], errors='coerce') #format=\"%Y-%m.%d\")#1994-07-25\n",
    "\n",
    "df['age'] = (datetime.now() - df['birthdate']).dt.days//365"
   ]
  },
  {
   "cell_type": "code",
   "execution_count": null,
   "id": "d20b9af8",
   "metadata": {
    "scrolled": true
   },
   "outputs": [],
   "source": [
    "df.head()"
   ]
  },
  {
   "cell_type": "code",
   "execution_count": null,
   "id": "9447c792",
   "metadata": {},
   "outputs": [],
   "source": [
    "# count number of defenders\n",
    "df[df.position == 'DF']"
   ]
  },
  {
   "cell_type": "markdown",
   "id": "b113d86a",
   "metadata": {},
   "source": [
    "- Grouping Data"
   ]
  },
  {
   "cell_type": "code",
   "execution_count": null,
   "id": "4cd6845f",
   "metadata": {},
   "outputs": [],
   "source": [
    "# Aggregate Data, Apply Functions, Data Exploration\n",
    "# groupby"
   ]
  },
  {
   "cell_type": "code",
   "execution_count": null,
   "id": "f4b4d55f",
   "metadata": {
    "scrolled": false
   },
   "outputs": [],
   "source": [
    "df.groupby('team')['age'].max().sort_values(ascending = False)"
   ]
  },
  {
   "cell_type": "code",
   "execution_count": null,
   "id": "12feadac",
   "metadata": {},
   "outputs": [],
   "source": [
    "df.groupby('team')['age'].min().sort_values(ascending = True)"
   ]
  },
  {
   "cell_type": "code",
   "execution_count": null,
   "id": "40c90aee",
   "metadata": {
    "scrolled": true
   },
   "outputs": [],
   "source": [
    "df[df.age == 40]"
   ]
  },
  {
   "cell_type": "code",
   "execution_count": null,
   "id": "9a50bde9",
   "metadata": {
    "scrolled": true
   },
   "outputs": [],
   "source": [
    "df.age.min()"
   ]
  },
  {
   "cell_type": "code",
   "execution_count": null,
   "id": "6e5b3a42",
   "metadata": {},
   "outputs": [],
   "source": [
    "df[df.age == df.age.min()]"
   ]
  },
  {
   "cell_type": "markdown",
   "id": "9cb1ff80",
   "metadata": {},
   "source": [
    "- Data Types"
   ]
  },
  {
   "cell_type": "code",
   "execution_count": null,
   "id": "e3b1e56e",
   "metadata": {},
   "outputs": [],
   "source": [
    "df.info()"
   ]
  },
  {
   "cell_type": "code",
   "execution_count": null,
   "id": "ccccea04",
   "metadata": {},
   "outputs": [],
   "source": [
    "# handling missing values\n",
    "\n",
    "# isna() isnull() notnull()\n",
    "\n",
    "df.isna().sum()"
   ]
  },
  {
   "cell_type": "code",
   "execution_count": null,
   "id": "b16f639e",
   "metadata": {},
   "outputs": [],
   "source": [
    "# for those players without a club. \n",
    "df.club.fillna('Free Agents', inplace=True)"
   ]
  },
  {
   "cell_type": "markdown",
   "id": "20e8af85",
   "metadata": {},
   "source": [
    "after executing this line of code, any missing values in the 'club' column of the DataFrame df will be replaced with 'Free Agents', and the changes will be applied directly to df"
   ]
  },
  {
   "cell_type": "code",
   "execution_count": null,
   "id": "ca73f926",
   "metadata": {},
   "outputs": [],
   "source": [
    "df.isna().sum()"
   ]
  },
  {
   "cell_type": "code",
   "execution_count": null,
   "id": "2080245f",
   "metadata": {},
   "outputs": [],
   "source": [
    "df.club_country.fillna('No Clubs', inplace=True)"
   ]
  },
  {
   "cell_type": "code",
   "execution_count": null,
   "id": "3abaaa96",
   "metadata": {},
   "outputs": [],
   "source": [
    "df.isnull().sum()"
   ]
  },
  {
   "cell_type": "code",
   "execution_count": 1,
   "id": "f47b95a8",
   "metadata": {
    "scrolled": true
   },
   "outputs": [
    {
     "ename": "NameError",
     "evalue": "name 'df' is not defined",
     "output_type": "error",
     "traceback": [
      "\u001b[1;31m---------------------------------------------------------------------------\u001b[0m",
      "\u001b[1;31mNameError\u001b[0m                                 Traceback (most recent call last)",
      "Cell \u001b[1;32mIn[1], line 3\u001b[0m\n\u001b[0;32m      1\u001b[0m \u001b[38;5;66;03m# duplicate values\u001b[39;00m\n\u001b[1;32m----> 3\u001b[0m df[df\u001b[38;5;241m.\u001b[39mduplicated(subset\u001b[38;5;241m=\u001b[39m\u001b[38;5;124m'\u001b[39m\u001b[38;5;124mjersey_name\u001b[39m\u001b[38;5;124m'\u001b[39m)]\n",
      "\u001b[1;31mNameError\u001b[0m: name 'df' is not defined"
     ]
    }
   ],
   "source": [
    "# duplicate values\n",
    "\n",
    "df[df.duplicated(subset='jersey_name')]"
   ]
  },
  {
   "cell_type": "code",
   "execution_count": null,
   "id": "522dd479",
   "metadata": {},
   "outputs": [],
   "source": [
    "df[df.duplicated(subset='birthdate')]"
   ]
  },
  {
   "cell_type": "code",
   "execution_count": null,
   "id": "66dd3365",
   "metadata": {},
   "outputs": [],
   "source": [
    "df[df.birthdate == '1998-03-13']"
   ]
  },
  {
   "cell_type": "code",
   "execution_count": null,
   "id": "1e23a6ad",
   "metadata": {},
   "outputs": [],
   "source": [
    "df['club'] = df['club'].str.strip()"
   ]
  },
  {
   "cell_type": "code",
   "execution_count": null,
   "id": "5b19a1c8",
   "metadata": {
    "scrolled": true
   },
   "outputs": [],
   "source": [
    "df[df.birthdate == '1998-03-13']"
   ]
  },
  {
   "cell_type": "code",
   "execution_count": null,
   "id": "24323cd3",
   "metadata": {
    "scrolled": false
   },
   "outputs": [],
   "source": [
    "df.age.describe()"
   ]
  },
  {
   "cell_type": "markdown",
   "id": "846e1410",
   "metadata": {},
   "source": [
    "- Variance: Variance is the average of the squared differences from the Mean. It gives an idea of how much the data values differ from the mean. Mathematically, it's calculated as follows:\n",
    "\n",
    "  - Calculate the mean (average) of the dataset.\n",
    "   - Subtract the mean from each data point, square the result.\n",
    "    - Find the average of those squared differences."
   ]
  },
  {
   "cell_type": "code",
   "execution_count": null,
   "id": "80a9ed98",
   "metadata": {},
   "outputs": [],
   "source": [
    "age_list = df.age.tolist()"
   ]
  },
  {
   "cell_type": "code",
   "execution_count": null,
   "id": "55071ac6",
   "metadata": {},
   "outputs": [],
   "source": [
    "df.age.mean()"
   ]
  },
  {
   "cell_type": "code",
   "execution_count": null,
   "id": "47656a56",
   "metadata": {},
   "outputs": [],
   "source": [
    "age_list"
   ]
  },
  {
   "cell_type": "code",
   "execution_count": null,
   "id": "92941605",
   "metadata": {},
   "outputs": [],
   "source": [
    "age_no_var = [29, 29, 29, 29, 29, 29, 29, 29, 29]\n",
    "import numpy as np\n",
    "data = np.array([age_no_var])\n",
    "no_var = np.var(data)\n",
    "print(no_var)"
   ]
  },
  {
   "cell_type": "code",
   "execution_count": null,
   "id": "b59dcab6",
   "metadata": {},
   "outputs": [],
   "source": [
    "data = np.array([age_list])\n",
    "var = np.var(data)\n",
    "print(var)"
   ]
  },
  {
   "cell_type": "markdown",
   "id": "81a62016",
   "metadata": {},
   "source": [
    "- What is standard deviation?\n",
    "\n",
    "    A measure of how dispersed the data is in relation to the mean\n",
    "    - Step 1: Find the mean.\n",
    "    - Step 2: For each data point, find the square of its distance to the mean.\n",
    "    - Step 3: Sum the values from Step 2.\n",
    "    - Step 4: Divide by the number of data points.\n",
    "    - Step 5: Take the square root\n",
    "    "
   ]
  },
  {
   "cell_type": "code",
   "execution_count": null,
   "id": "409a0e76",
   "metadata": {},
   "outputs": [],
   "source": [
    "df.age.std()"
   ]
  },
  {
   "cell_type": "code",
   "execution_count": null,
   "id": "187ac13e",
   "metadata": {},
   "outputs": [],
   "source": [
    "df.age.hist(bins=10)"
   ]
  },
  {
   "cell_type": "markdown",
   "id": "1be06ad3",
   "metadata": {},
   "source": [
    "-  1 Standard Deviation from the Mean: 68 percent.\n",
    "-  2 Standard Deviations from the Mean: 95 percent.\n",
    "-  3 Standard Deviations from the Mean: 99.7 percent."
   ]
  },
  {
   "cell_type": "code",
   "execution_count": null,
   "id": "1f34ac95",
   "metadata": {},
   "outputs": [],
   "source": [
    "# outliers \n",
    "\n",
    "mean = round(df.age.mean(), 2)\n",
    "std = round(df.age.std(), 2)"
   ]
  },
  {
   "cell_type": "code",
   "execution_count": null,
   "id": "490a637c",
   "metadata": {},
   "outputs": [],
   "source": [
    "print(mean)\n",
    "print(std)"
   ]
  },
  {
   "cell_type": "code",
   "execution_count": null,
   "id": "514437b7",
   "metadata": {},
   "outputs": [],
   "source": [
    "one_std = (mean+std, mean-std)"
   ]
  },
  {
   "cell_type": "code",
   "execution_count": null,
   "id": "ae94ebb5",
   "metadata": {},
   "outputs": [],
   "source": [
    "one_std"
   ]
  },
  {
   "cell_type": "code",
   "execution_count": null,
   "id": "3ce75e43",
   "metadata": {},
   "outputs": [],
   "source": [
    "two_std = (mean+(std*2), mean-(std*2))"
   ]
  },
  {
   "cell_type": "code",
   "execution_count": null,
   "id": "bec9aaaf",
   "metadata": {},
   "outputs": [],
   "source": [
    "two_std"
   ]
  },
  {
   "cell_type": "code",
   "execution_count": null,
   "id": "5280bd1e",
   "metadata": {},
   "outputs": [],
   "source": [
    "three_std = (mean+(std*3), mean-(std*3))"
   ]
  },
  {
   "cell_type": "code",
   "execution_count": null,
   "id": "ffbd308b",
   "metadata": {},
   "outputs": [],
   "source": [
    "three_std"
   ]
  },
  {
   "cell_type": "code",
   "execution_count": null,
   "id": "a8247182",
   "metadata": {},
   "outputs": [],
   "source": [
    "def remove_outliers(df, column, threshold=3):\n",
    "    mean = df[column].mean()\n",
    "    std_dev = df[column].std()\n",
    "    \n",
    "    lower_bound = mean - threshold * std_dev #PEMDAS\n",
    "    upper_bound = mean + threshold * std_dev\n",
    "    # remove outliers\n",
    "    \n",
    "    df = df[(df[column]>= lower_bound) & (df[column]<= upper_bound)]\n",
    "    return df\n"
   ]
  },
  {
   "cell_type": "code",
   "execution_count": null,
   "id": "31de47b9",
   "metadata": {},
   "outputs": [],
   "source": [
    "df_cleaned = remove_outliers(df, 'age', 2)"
   ]
  },
  {
   "cell_type": "code",
   "execution_count": null,
   "id": "9d7b96be",
   "metadata": {},
   "outputs": [],
   "source": [
    "df_cleaned.shape"
   ]
  },
  {
   "cell_type": "code",
   "execution_count": null,
   "id": "f0e2dda3",
   "metadata": {},
   "outputs": [],
   "source": [
    "removed_rows = df[~df.index.isin(df_cleaned.index)]"
   ]
  },
  {
   "cell_type": "code",
   "execution_count": null,
   "id": "1fb01cbf",
   "metadata": {
    "scrolled": true
   },
   "outputs": [],
   "source": [
    "removed_rows"
   ]
  },
  {
   "cell_type": "code",
   "execution_count": null,
   "id": "9831f62c",
   "metadata": {},
   "outputs": [],
   "source": [
    "# Treating outliers using the IQR (interquartile range)\n",
    "import pandas as pd\n",
    "path = r\"C:\\Users\\Gideon\\Desktop\\winequality-red.csv\"\n",
    "wine_data = pd.read_csv(path)\n",
    "\n",
    "wine_data.head()"
   ]
  },
  {
   "cell_type": "code",
   "execution_count": null,
   "id": "65259762",
   "metadata": {},
   "outputs": [],
   "source": [
    "wine_data.info()"
   ]
  },
  {
   "cell_type": "code",
   "execution_count": null,
   "id": "716e9337",
   "metadata": {},
   "outputs": [],
   "source": [
    "import matplotlib.pyplot as plt\n",
    "import seaborn as sns"
   ]
  },
  {
   "cell_type": "code",
   "execution_count": null,
   "id": "7c6fa574",
   "metadata": {},
   "outputs": [],
   "source": [
    "# checking for outliers\n",
    "plt.figure(figsize= (18, 20)) # set figure size\n",
    "for i in range(len(wine_data.columns)):\n",
    "    plt.subplot(4, 3, i+1) # creates a subplot\n",
    "    sns.boxplot(x = wine_data.iloc[:, i])\n",
    "    plt.xlabel(wine_data.columns[i], size=15)"
   ]
  },
  {
   "cell_type": "code",
   "execution_count": null,
   "id": "81056949",
   "metadata": {},
   "outputs": [],
   "source": [
    "print(wine_data['sulphates'].quantile(0.25))\n",
    "print(wine_data['sulphates'].quantile(0.75))"
   ]
  },
  {
   "cell_type": "code",
   "execution_count": null,
   "id": "45dd0783",
   "metadata": {},
   "outputs": [],
   "source": [
    "wine_data['sulphates'].plot(kind='density')"
   ]
  },
  {
   "cell_type": "code",
   "execution_count": null,
   "id": "524de687",
   "metadata": {},
   "outputs": [],
   "source": [
    "def Outliers(df, col):\n",
    "    IQ1 = df[col].quantile(0.25)\n",
    "    IQ3 = df[col].quantile(0.75)\n",
    "    IQR = IQ3 - IQ1\n",
    "    \n",
    "    lower_bound = IQ1 - 1.5 * IQR\n",
    "    upper_bound = IQ3 + 1.5 * IQR\n",
    "    index = df.index[(df[col] < lower_bound) | (df[col] > upper_bound)]\n",
    "    return index"
   ]
  },
  {
   "cell_type": "code",
   "execution_count": null,
   "id": "195fbba8",
   "metadata": {},
   "outputs": [],
   "source": [
    "wine_data.index"
   ]
  },
  {
   "cell_type": "code",
   "execution_count": null,
   "id": "689ae49e",
   "metadata": {},
   "outputs": [],
   "source": [
    "wine_data.shape"
   ]
  },
  {
   "cell_type": "code",
   "execution_count": null,
   "id": "7a4d743b",
   "metadata": {
    "scrolled": true
   },
   "outputs": [],
   "source": [
    "index = []\n",
    "for i in wine_data.columns:\n",
    "    index.extend(Outliers(wine_data, i))\n",
    "index = set(index)\n",
    "#print(index)\n",
    "print(f'Total number of outliers are {len(index)}')\n",
    "\n",
    "# dropping all the outliers\n",
    "wine_data.drop(index, inplace=True, axis=0)\n",
    "wine_data.shape"
   ]
  },
  {
   "cell_type": "code",
   "execution_count": null,
   "id": "38abd8e0",
   "metadata": {},
   "outputs": [],
   "source": [
    "wine_data.columns"
   ]
  },
  {
   "cell_type": "code",
   "execution_count": null,
   "id": "2c52dc8b",
   "metadata": {},
   "outputs": [],
   "source": [
    "!pip install scipy"
   ]
  },
  {
   "cell_type": "code",
   "execution_count": null,
   "id": "7019a4f3",
   "metadata": {},
   "outputs": [],
   "source": [
    "# 3. using the z-score\n",
    "\n",
    "from scipy import stats\n",
    "z_scores = stats.zscore(wine_data['chlorides'])"
   ]
  },
  {
   "cell_type": "code",
   "execution_count": null,
   "id": "84a82472",
   "metadata": {},
   "outputs": [],
   "source": [
    "print(z_scores)"
   ]
  },
  {
   "cell_type": "code",
   "execution_count": null,
   "id": "c551feb2",
   "metadata": {},
   "outputs": [],
   "source": [
    "threshold = 0.5\n",
    "\n",
    "df_filtered = wine_data['chlorides'][(z_scores < threshold)]"
   ]
  },
  {
   "cell_type": "code",
   "execution_count": null,
   "id": "093094bb",
   "metadata": {},
   "outputs": [],
   "source": [
    "df_filtered"
   ]
  },
  {
   "cell_type": "code",
   "execution_count": null,
   "id": "8ae92f00",
   "metadata": {},
   "outputs": [],
   "source": [
    "plt.figure(figsize= (18, 20)) # set figure size\n",
    "for i in range(len(wine_data.columns)):\n",
    "    plt.subplot(4, 3, i+1) # creates a subplot\n",
    "    sns.kdeplot(x = wine_data.iloc[:, i])\n",
    "    plt.xlabel(wine_data.columns[i], size=15)"
   ]
  },
  {
   "cell_type": "code",
   "execution_count": null,
   "id": "f5d945f9",
   "metadata": {},
   "outputs": [],
   "source": []
  }
 ],
 "metadata": {
  "kernelspec": {
   "display_name": "Python 3 (ipykernel)",
   "language": "python",
   "name": "python3"
  },
  "language_info": {
   "codemirror_mode": {
    "name": "ipython",
    "version": 3
   },
   "file_extension": ".py",
   "mimetype": "text/x-python",
   "name": "python",
   "nbconvert_exporter": "python",
   "pygments_lexer": "ipython3",
   "version": "3.11.4"
  }
 },
 "nbformat": 4,
 "nbformat_minor": 5
}
