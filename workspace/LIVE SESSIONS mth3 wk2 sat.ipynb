{
 "cells": [
  {
   "cell_type": "code",
   "execution_count": 49,
   "id": "5b3abd75",
   "metadata": {},
   "outputs": [],
   "source": [
    "#import pandas as pd"
   ]
  },
  {
   "cell_type": "code",
   "execution_count": 50,
   "id": "bedd24b0",
   "metadata": {},
   "outputs": [],
   "source": [
    "import numpy as np"
   ]
  },
  {
   "cell_type": "code",
   "execution_count": 51,
   "id": "572208a0",
   "metadata": {},
   "outputs": [
    {
     "data": {
      "text/plain": [
       "array([[45, 85, 96],\n",
       "       [74, 87, 32],\n",
       "       [81, 45, 36]])"
      ]
     },
     "execution_count": 51,
     "metadata": {},
     "output_type": "execute_result"
    }
   ],
   "source": [
    "ratings = np.array([[45, 85, 96], [74, 87, 32], [81, 45, 36]])\n",
    "ratings"
   ]
  },
  {
   "cell_type": "code",
   "execution_count": 52,
   "id": "6593dcba",
   "metadata": {},
   "outputs": [
    {
     "data": {
      "text/plain": [
       "(3, 3)"
      ]
     },
     "execution_count": 52,
     "metadata": {},
     "output_type": "execute_result"
    }
   ],
   "source": [
    "ratings.shape"
   ]
  },
  {
   "cell_type": "code",
   "execution_count": 53,
   "id": "f23df520",
   "metadata": {},
   "outputs": [],
   "source": [
    "ones = np.ones((5, 3))"
   ]
  },
  {
   "cell_type": "code",
   "execution_count": 54,
   "id": "68813068",
   "metadata": {},
   "outputs": [
    {
     "data": {
      "text/plain": [
       "array([[1., 1., 1.],\n",
       "       [1., 1., 1.],\n",
       "       [1., 1., 1.],\n",
       "       [1., 1., 1.],\n",
       "       [1., 1., 1.]])"
      ]
     },
     "execution_count": 54,
     "metadata": {},
     "output_type": "execute_result"
    }
   ],
   "source": [
    "ones"
   ]
  },
  {
   "cell_type": "code",
   "execution_count": 55,
   "id": "b2d69320",
   "metadata": {},
   "outputs": [
    {
     "data": {
      "text/plain": [
       "array([[45, 85, 96],\n",
       "       [74, 87, 32],\n",
       "       [81, 45, 36]])"
      ]
     },
     "execution_count": 55,
     "metadata": {},
     "output_type": "execute_result"
    }
   ],
   "source": [
    "ratings"
   ]
  },
  {
   "cell_type": "code",
   "execution_count": 56,
   "id": "e3046911",
   "metadata": {},
   "outputs": [
    {
     "data": {
      "text/plain": [
       "array([45, 85, 96])"
      ]
     },
     "execution_count": 56,
     "metadata": {},
     "output_type": "execute_result"
    }
   ],
   "source": [
    "ratings[0, :]"
   ]
  },
  {
   "cell_type": "code",
   "execution_count": 57,
   "id": "677af909",
   "metadata": {},
   "outputs": [
    {
     "data": {
      "text/plain": [
       "array([45, 74, 81])"
      ]
     },
     "execution_count": 57,
     "metadata": {},
     "output_type": "execute_result"
    }
   ],
   "source": [
    "ratings[:, 0]"
   ]
  },
  {
   "cell_type": "code",
   "execution_count": 58,
   "id": "213fe0f0",
   "metadata": {},
   "outputs": [
    {
     "data": {
      "text/plain": [
       "array([[0, 2, 8, 2, 7],\n",
       "       [1, 8, 0, 1, 7],\n",
       "       [2, 4, 1, 0, 2]])"
      ]
     },
     "execution_count": 58,
     "metadata": {},
     "output_type": "execute_result"
    }
   ],
   "source": [
    "np.random.randint(0, 10, (3,5))"
   ]
  },
  {
   "cell_type": "code",
   "execution_count": 59,
   "id": "0e7aba1b",
   "metadata": {},
   "outputs": [
    {
     "data": {
      "text/plain": [
       "array([[45, 85, 96],\n",
       "       [74, 87, 32],\n",
       "       [81, 45, 36]])"
      ]
     },
     "execution_count": 59,
     "metadata": {},
     "output_type": "execute_result"
    }
   ],
   "source": [
    "ratings"
   ]
  },
  {
   "cell_type": "code",
   "execution_count": 60,
   "id": "71702269",
   "metadata": {},
   "outputs": [
    {
     "data": {
      "text/plain": [
       "array([[45, 85],\n",
       "       [74, 87]])"
      ]
     },
     "execution_count": 60,
     "metadata": {},
     "output_type": "execute_result"
    }
   ],
   "source": [
    "ratings[0:2, 0:2]"
   ]
  },
  {
   "cell_type": "code",
   "execution_count": 61,
   "id": "eeec1da9",
   "metadata": {},
   "outputs": [
    {
     "data": {
      "text/plain": [
       "array([85, 96, 74, 87, 81])"
      ]
     },
     "execution_count": 61,
     "metadata": {},
     "output_type": "execute_result"
    }
   ],
   "source": [
    "ratings[ratings > 50]"
   ]
  },
  {
   "cell_type": "code",
   "execution_count": 62,
   "id": "e67fd12d",
   "metadata": {},
   "outputs": [],
   "source": [
    "#appending and extra row\n",
    "\n",
    "ratings_extra_row = np.append(ratings, [[84, 98, 97]], axis=0)"
   ]
  },
  {
   "cell_type": "code",
   "execution_count": 63,
   "id": "adff2e12",
   "metadata": {},
   "outputs": [
    {
     "data": {
      "text/plain": [
       "array([[45, 85, 96],\n",
       "       [74, 87, 32],\n",
       "       [81, 45, 36],\n",
       "       [84, 98, 97]])"
      ]
     },
     "execution_count": 63,
     "metadata": {},
     "output_type": "execute_result"
    }
   ],
   "source": [
    "ratings_extra_row"
   ]
  },
  {
   "cell_type": "code",
   "execution_count": 66,
   "id": "90a0a4ae",
   "metadata": {},
   "outputs": [],
   "source": [
    "ratings_extra_row2 = np.insert(ratings_extra_row, 0, [88, 78, 56])"
   ]
  },
  {
   "cell_type": "code",
   "execution_count": 67,
   "id": "b0672dab",
   "metadata": {},
   "outputs": [
    {
     "data": {
      "text/plain": [
       "array([88, 78, 56, 45, 85, 96, 74, 87, 32, 81, 45, 36, 84, 98, 97])"
      ]
     },
     "execution_count": 67,
     "metadata": {},
     "output_type": "execute_result"
    }
   ],
   "source": [
    "ratings_extra_row2"
   ]
  },
  {
   "cell_type": "code",
   "execution_count": 69,
   "id": "d939a208",
   "metadata": {},
   "outputs": [
    {
     "data": {
      "text/plain": [
       "array([[88, 78, 56],\n",
       "       [45, 85, 96],\n",
       "       [74, 87, 32],\n",
       "       [81, 45, 36],\n",
       "       [84, 98, 97]])"
      ]
     },
     "execution_count": 69,
     "metadata": {},
     "output_type": "execute_result"
    }
   ],
   "source": [
    "ratings_extra_row2.reshape((5,3))"
   ]
  },
  {
   "cell_type": "code",
   "execution_count": 93,
   "id": "5aa79308",
   "metadata": {},
   "outputs": [],
   "source": [
    "ratings_del_row = np.delete(ratings_extra_row2, [2], axis = 0)"
   ]
  },
  {
   "cell_type": "code",
   "execution_count": 80,
   "id": "0a5dd932",
   "metadata": {},
   "outputs": [
    {
     "data": {
      "text/plain": [
       "array([88, 78, 45, 85, 96, 74, 87, 32, 81, 45, 36, 84, 98, 97])"
      ]
     },
     "execution_count": 80,
     "metadata": {},
     "output_type": "execute_result"
    }
   ],
   "source": [
    "ratings_del_row"
   ]
  },
  {
   "cell_type": "code",
   "execution_count": 82,
   "id": "0a1f1989",
   "metadata": {},
   "outputs": [],
   "source": [
    "ratings_extra_row2 = ratings_extra_row2.reshape((5,3))"
   ]
  },
  {
   "cell_type": "code",
   "execution_count": 83,
   "id": "90f3ad07",
   "metadata": {},
   "outputs": [
    {
     "data": {
      "text/plain": [
       "array([[88, 78, 56],\n",
       "       [45, 85, 96],\n",
       "       [74, 87, 32],\n",
       "       [81, 45, 36],\n",
       "       [84, 98, 97]])"
      ]
     },
     "execution_count": 83,
     "metadata": {},
     "output_type": "execute_result"
    }
   ],
   "source": [
    "ratings_extra_row2"
   ]
  },
  {
   "cell_type": "code",
   "execution_count": 85,
   "id": "b870e74a",
   "metadata": {},
   "outputs": [
    {
     "data": {
      "text/plain": [
       "array([222, 226, 193, 162, 279])"
      ]
     },
     "execution_count": 85,
     "metadata": {},
     "output_type": "execute_result"
    }
   ],
   "source": [
    "ratings_extra_row2.sum(axis=1)"
   ]
  },
  {
   "cell_type": "code",
   "execution_count": 86,
   "id": "0210095c",
   "metadata": {},
   "outputs": [
    {
     "data": {
      "text/plain": [
       "array([372, 393, 317])"
      ]
     },
     "execution_count": 86,
     "metadata": {},
     "output_type": "execute_result"
    }
   ],
   "source": [
    "ratings_extra_row2.sum(axis=0)"
   ]
  },
  {
   "cell_type": "code",
   "execution_count": 88,
   "id": "c15e847b",
   "metadata": {},
   "outputs": [],
   "source": [
    "sales = np.arange(1,13).reshape(4,3)"
   ]
  },
  {
   "cell_type": "code",
   "execution_count": 89,
   "id": "31b5162a",
   "metadata": {},
   "outputs": [
    {
     "data": {
      "text/plain": [
       "array([[ 1,  2,  3],\n",
       "       [ 4,  5,  6],\n",
       "       [ 7,  8,  9],\n",
       "       [10, 11, 12]])"
      ]
     },
     "execution_count": 89,
     "metadata": {},
     "output_type": "execute_result"
    }
   ],
   "source": [
    "sales"
   ]
  },
  {
   "cell_type": "code",
   "execution_count": 94,
   "id": "a4c1afe9",
   "metadata": {},
   "outputs": [
    {
     "data": {
      "text/plain": [
       "array([ 6, 15, 24, 33])"
      ]
     },
     "execution_count": 94,
     "metadata": {},
     "output_type": "execute_result"
    }
   ],
   "source": [
    "sales.sum(axis=1)"
   ]
  },
  {
   "cell_type": "code",
   "execution_count": null,
   "id": "e71cbdb1",
   "metadata": {},
   "outputs": [],
   "source": []
  },
  {
   "cell_type": "code",
   "execution_count": null,
   "id": "77a46345",
   "metadata": {},
   "outputs": [],
   "source": []
  },
  {
   "cell_type": "code",
   "execution_count": null,
   "id": "3b1ec2de",
   "metadata": {},
   "outputs": [],
   "source": []
  },
  {
   "cell_type": "code",
   "execution_count": null,
   "id": "22c307fe",
   "metadata": {},
   "outputs": [],
   "source": []
  }
 ],
 "metadata": {
  "kernelspec": {
   "display_name": "Python 3 (ipykernel)",
   "language": "python",
   "name": "python3"
  },
  "language_info": {
   "codemirror_mode": {
    "name": "ipython",
    "version": 3
   },
   "file_extension": ".py",
   "mimetype": "text/x-python",
   "name": "python",
   "nbconvert_exporter": "python",
   "pygments_lexer": "ipython3",
   "version": "3.11.4"
  }
 },
 "nbformat": 4,
 "nbformat_minor": 5
}
