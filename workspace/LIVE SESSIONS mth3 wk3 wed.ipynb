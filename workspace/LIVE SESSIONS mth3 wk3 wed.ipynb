{
 "cells": [
  {
   "cell_type": "code",
   "execution_count": 3,
   "id": "306b0078",
   "metadata": {},
   "outputs": [],
   "source": [
    "import pandas as pd"
   ]
  },
  {
   "cell_type": "code",
   "execution_count": 4,
   "id": "6c958401",
   "metadata": {},
   "outputs": [],
   "source": [
    "import numpy as np"
   ]
  },
  {
   "cell_type": "code",
   "execution_count": 15,
   "id": "ce39899a",
   "metadata": {},
   "outputs": [],
   "source": [
    "#data\n",
    "list_df = [[32, 'Portugal', 94], [30, 'Argentina', 93], [25, 'Brazil', 92]]"
   ]
  },
  {
   "cell_type": "code",
   "execution_count": 6,
   "id": "1d33a75f",
   "metadata": {},
   "outputs": [],
   "source": [
    "#index\n",
    "index = ['Cristiano Ronaldo', 'Lionel Messi', 'Neymer']"
   ]
  },
  {
   "cell_type": "code",
   "execution_count": 7,
   "id": "3349a878",
   "metadata": {},
   "outputs": [],
   "source": [
    "columns = ['Age', 'Natinality', 'Overall']"
   ]
  },
  {
   "cell_type": "code",
   "execution_count": 10,
   "id": "6d2696bf",
   "metadata": {},
   "outputs": [
    {
     "data": {
      "text/html": [
       "<div>\n",
       "<style scoped>\n",
       "    .dataframe tbody tr th:only-of-type {\n",
       "        vertical-align: middle;\n",
       "    }\n",
       "\n",
       "    .dataframe tbody tr th {\n",
       "        vertical-align: top;\n",
       "    }\n",
       "\n",
       "    .dataframe thead th {\n",
       "        text-align: right;\n",
       "    }\n",
       "</style>\n",
       "<table border=\"1\" class=\"dataframe\">\n",
       "  <thead>\n",
       "    <tr style=\"text-align: right;\">\n",
       "      <th></th>\n",
       "      <th>Age</th>\n",
       "      <th>Natinality</th>\n",
       "      <th>Overall</th>\n",
       "    </tr>\n",
       "  </thead>\n",
       "  <tbody>\n",
       "    <tr>\n",
       "      <th>Cristiano Ronaldo</th>\n",
       "      <td>32</td>\n",
       "      <td>Portugal</td>\n",
       "      <td>94</td>\n",
       "    </tr>\n",
       "    <tr>\n",
       "      <th>Lionel Messi</th>\n",
       "      <td>30</td>\n",
       "      <td>Argentina</td>\n",
       "      <td>93</td>\n",
       "    </tr>\n",
       "    <tr>\n",
       "      <th>Neymer</th>\n",
       "      <td>25</td>\n",
       "      <td>Brazil</td>\n",
       "      <td>92</td>\n",
       "    </tr>\n",
       "  </tbody>\n",
       "</table>\n",
       "</div>"
      ],
      "text/plain": [
       "                   Age Natinality  Overall\n",
       "Cristiano Ronaldo   32   Portugal       94\n",
       "Lionel Messi        30  Argentina       93\n",
       "Neymer              25     Brazil       92"
      ]
     },
     "execution_count": 10,
     "metadata": {},
     "output_type": "execute_result"
    }
   ],
   "source": [
    "# create a dataframe\n",
    "pd.DataFrame(data = list_df, index= index, columns = columns)"
   ]
  },
  {
   "cell_type": "code",
   "execution_count": 14,
   "id": "611795db",
   "metadata": {},
   "outputs": [
    {
     "data": {
      "text/html": [
       "<div>\n",
       "<style scoped>\n",
       "    .dataframe tbody tr th:only-of-type {\n",
       "        vertical-align: middle;\n",
       "    }\n",
       "\n",
       "    .dataframe tbody tr th {\n",
       "        vertical-align: top;\n",
       "    }\n",
       "\n",
       "    .dataframe thead th {\n",
       "        text-align: right;\n",
       "    }\n",
       "</style>\n",
       "<table border=\"1\" class=\"dataframe\">\n",
       "  <thead>\n",
       "    <tr style=\"text-align: right;\">\n",
       "      <th></th>\n",
       "      <th>Age</th>\n",
       "      <th>Nationality</th>\n",
       "      <th>Overall</th>\n",
       "    </tr>\n",
       "  </thead>\n",
       "  <tbody>\n",
       "    <tr>\n",
       "      <th>Cristiano Ronaldo</th>\n",
       "      <td>32</td>\n",
       "      <td>Portugal</td>\n",
       "      <td>93</td>\n",
       "    </tr>\n",
       "    <tr>\n",
       "      <th>Lionel Messi</th>\n",
       "      <td>30</td>\n",
       "      <td>Argentina</td>\n",
       "      <td>92</td>\n",
       "    </tr>\n",
       "    <tr>\n",
       "      <th>Neymer</th>\n",
       "      <td>25</td>\n",
       "      <td>Brazil</td>\n",
       "      <td>90</td>\n",
       "    </tr>\n",
       "  </tbody>\n",
       "</table>\n",
       "</div>"
      ],
      "text/plain": [
       "                   Age Nationality  Overall\n",
       "Cristiano Ronaldo   32    Portugal       93\n",
       "Lionel Messi        30   Argentina       92\n",
       "Neymer              25      Brazil       90"
      ]
     },
     "execution_count": 14,
     "metadata": {},
     "output_type": "execute_result"
    }
   ],
   "source": [
    "dict_df = {'Age': [32, 30, 25], 'Nationality': ['Portugal', 'Argentina', 'Brazil'], 'Overall':[93,92,90]}\n",
    "\n",
    "index = ['Cristiano Ronaldo', 'Lionel Messi', 'Neymer']\n",
    "\n",
    "pd.DataFrame(dict_df, index=index)"
   ]
  },
  {
   "cell_type": "code",
   "execution_count": null,
   "id": "686805c7",
   "metadata": {},
   "outputs": [],
   "source": []
  },
  {
   "cell_type": "code",
   "execution_count": 18,
   "id": "d81aa01d",
   "metadata": {},
   "outputs": [
    {
     "data": {
      "text/html": [
       "<div>\n",
       "<style scoped>\n",
       "    .dataframe tbody tr th:only-of-type {\n",
       "        vertical-align: middle;\n",
       "    }\n",
       "\n",
       "    .dataframe tbody tr th {\n",
       "        vertical-align: top;\n",
       "    }\n",
       "\n",
       "    .dataframe thead th {\n",
       "        text-align: right;\n",
       "    }\n",
       "</style>\n",
       "<table border=\"1\" class=\"dataframe\">\n",
       "  <thead>\n",
       "    <tr style=\"text-align: right;\">\n",
       "      <th></th>\n",
       "      <th>Age</th>\n",
       "      <th>Natinality</th>\n",
       "      <th>Overall</th>\n",
       "    </tr>\n",
       "  </thead>\n",
       "  <tbody>\n",
       "    <tr>\n",
       "      <th>Cristiano Ronaldo</th>\n",
       "      <td>32</td>\n",
       "      <td>Portugal</td>\n",
       "      <td>94</td>\n",
       "    </tr>\n",
       "    <tr>\n",
       "      <th>Lionel Messi</th>\n",
       "      <td>30</td>\n",
       "      <td>Argentina</td>\n",
       "      <td>93</td>\n",
       "    </tr>\n",
       "    <tr>\n",
       "      <th>Neymer</th>\n",
       "      <td>25</td>\n",
       "      <td>Brazil</td>\n",
       "      <td>92</td>\n",
       "    </tr>\n",
       "  </tbody>\n",
       "</table>\n",
       "</div>"
      ],
      "text/plain": [
       "                  Age Natinality Overall\n",
       "Cristiano Ronaldo  32   Portugal      94\n",
       "Lionel Messi       30  Argentina      93\n",
       "Neymer             25     Brazil      92"
      ]
     },
     "execution_count": 18,
     "metadata": {},
     "output_type": "execute_result"
    }
   ],
   "source": [
    "array_df = np.array([[32, 'Portugal', 94], [30, 'Argentina', 93], [25, 'Brazil', 92]])\n",
    "\n",
    "index = ['Cristiano Ronaldo', 'Lionel Messi', 'Neymer']\n",
    "\n",
    "columns = ['Age', 'Natinality', 'Overall']\n",
    "pd.DataFrame(data = array_df, index= index, columns = columns)"
   ]
  },
  {
   "cell_type": "code",
   "execution_count": 19,
   "id": "b997f8c3",
   "metadata": {},
   "outputs": [
    {
     "data": {
      "text/plain": [
       "array([['32', 'Portugal', '94'],\n",
       "       ['30', 'Argentina', '93'],\n",
       "       ['25', 'Brazil', '92']], dtype='<U11')"
      ]
     },
     "execution_count": 19,
     "metadata": {},
     "output_type": "execute_result"
    }
   ],
   "source": [
    "array_df"
   ]
  },
  {
   "cell_type": "code",
   "execution_count": null,
   "id": "86011b14",
   "metadata": {},
   "outputs": [],
   "source": [
    "#looping through a dataframe"
   ]
  },
  {
   "cell_type": "code",
   "execution_count": 27,
   "id": "c2202552",
   "metadata": {},
   "outputs": [],
   "source": [
    "file = 'fifa.csv'"
   ]
  },
  {
   "cell_type": "code",
   "execution_count": 30,
   "id": "02e75c33",
   "metadata": {},
   "outputs": [
    {
     "name": "stderr",
     "output_type": "stream",
     "text": [
      "C:\\Users\\KLAUS\\AppData\\Local\\Temp\\ipykernel_16496\\3363806840.py:2: DtypeWarning: Columns (14,26) have mixed types. Specify dtype option on import or set low_memory=False.\n",
      "  df = pd.read_csv(file, index_col = 'Name')\n"
     ]
    }
   ],
   "source": [
    "# loading data from csv\n",
    "df = pd.read_csv(file, index_col = 'Name')"
   ]
  },
  {
   "cell_type": "code",
   "execution_count": 31,
   "id": "0fb30080",
   "metadata": {},
   "outputs": [
    {
     "data": {
      "text/html": [
       "<div>\n",
       "<style scoped>\n",
       "    .dataframe tbody tr th:only-of-type {\n",
       "        vertical-align: middle;\n",
       "    }\n",
       "\n",
       "    .dataframe tbody tr th {\n",
       "        vertical-align: top;\n",
       "    }\n",
       "\n",
       "    .dataframe thead th {\n",
       "        text-align: right;\n",
       "    }\n",
       "</style>\n",
       "<table border=\"1\" class=\"dataframe\">\n",
       "  <thead>\n",
       "    <tr style=\"text-align: right;\">\n",
       "      <th></th>\n",
       "      <th>Age</th>\n",
       "      <th>Nationality</th>\n",
       "      <th>Overall</th>\n",
       "      <th>Acceleration</th>\n",
       "      <th>Aggression</th>\n",
       "      <th>Agility</th>\n",
       "      <th>Balance</th>\n",
       "      <th>Ball control</th>\n",
       "      <th>Composure</th>\n",
       "      <th>Crossing</th>\n",
       "      <th>...</th>\n",
       "      <th>Short passing</th>\n",
       "      <th>Shot power</th>\n",
       "      <th>Sliding tackle</th>\n",
       "      <th>Sprint speed</th>\n",
       "      <th>Stamina</th>\n",
       "      <th>Standing tackle</th>\n",
       "      <th>Strength</th>\n",
       "      <th>Vision</th>\n",
       "      <th>Volleys</th>\n",
       "      <th>Preferred Positions</th>\n",
       "    </tr>\n",
       "    <tr>\n",
       "      <th>Name</th>\n",
       "      <th></th>\n",
       "      <th></th>\n",
       "      <th></th>\n",
       "      <th></th>\n",
       "      <th></th>\n",
       "      <th></th>\n",
       "      <th></th>\n",
       "      <th></th>\n",
       "      <th></th>\n",
       "      <th></th>\n",
       "      <th></th>\n",
       "      <th></th>\n",
       "      <th></th>\n",
       "      <th></th>\n",
       "      <th></th>\n",
       "      <th></th>\n",
       "      <th></th>\n",
       "      <th></th>\n",
       "      <th></th>\n",
       "      <th></th>\n",
       "      <th></th>\n",
       "    </tr>\n",
       "  </thead>\n",
       "  <tbody>\n",
       "    <tr>\n",
       "      <th>Cristiano Ronaldo</th>\n",
       "      <td>32</td>\n",
       "      <td>Portugal</td>\n",
       "      <td>94</td>\n",
       "      <td>89</td>\n",
       "      <td>63</td>\n",
       "      <td>89</td>\n",
       "      <td>63</td>\n",
       "      <td>93</td>\n",
       "      <td>95</td>\n",
       "      <td>85</td>\n",
       "      <td>...</td>\n",
       "      <td>83</td>\n",
       "      <td>94</td>\n",
       "      <td>23</td>\n",
       "      <td>91</td>\n",
       "      <td>92</td>\n",
       "      <td>31</td>\n",
       "      <td>80</td>\n",
       "      <td>85</td>\n",
       "      <td>88</td>\n",
       "      <td>ST LW</td>\n",
       "    </tr>\n",
       "    <tr>\n",
       "      <th>L. Messi</th>\n",
       "      <td>30</td>\n",
       "      <td>Argentina</td>\n",
       "      <td>93</td>\n",
       "      <td>92</td>\n",
       "      <td>48</td>\n",
       "      <td>90</td>\n",
       "      <td>95</td>\n",
       "      <td>95</td>\n",
       "      <td>96</td>\n",
       "      <td>77</td>\n",
       "      <td>...</td>\n",
       "      <td>88</td>\n",
       "      <td>85</td>\n",
       "      <td>26</td>\n",
       "      <td>87</td>\n",
       "      <td>73</td>\n",
       "      <td>28</td>\n",
       "      <td>59</td>\n",
       "      <td>90</td>\n",
       "      <td>85</td>\n",
       "      <td>RW</td>\n",
       "    </tr>\n",
       "    <tr>\n",
       "      <th>Neymar</th>\n",
       "      <td>25</td>\n",
       "      <td>Brazil</td>\n",
       "      <td>92</td>\n",
       "      <td>94</td>\n",
       "      <td>56</td>\n",
       "      <td>96</td>\n",
       "      <td>82</td>\n",
       "      <td>95</td>\n",
       "      <td>92</td>\n",
       "      <td>75</td>\n",
       "      <td>...</td>\n",
       "      <td>81</td>\n",
       "      <td>80</td>\n",
       "      <td>33</td>\n",
       "      <td>90</td>\n",
       "      <td>78</td>\n",
       "      <td>24</td>\n",
       "      <td>53</td>\n",
       "      <td>80</td>\n",
       "      <td>83</td>\n",
       "      <td>LW</td>\n",
       "    </tr>\n",
       "    <tr>\n",
       "      <th>L. Suárez</th>\n",
       "      <td>30</td>\n",
       "      <td>Uruguay</td>\n",
       "      <td>92</td>\n",
       "      <td>88</td>\n",
       "      <td>78</td>\n",
       "      <td>86</td>\n",
       "      <td>60</td>\n",
       "      <td>91</td>\n",
       "      <td>83</td>\n",
       "      <td>77</td>\n",
       "      <td>...</td>\n",
       "      <td>83</td>\n",
       "      <td>87</td>\n",
       "      <td>38</td>\n",
       "      <td>77</td>\n",
       "      <td>89</td>\n",
       "      <td>45</td>\n",
       "      <td>80</td>\n",
       "      <td>84</td>\n",
       "      <td>88</td>\n",
       "      <td>ST</td>\n",
       "    </tr>\n",
       "    <tr>\n",
       "      <th>M. Neuer</th>\n",
       "      <td>31</td>\n",
       "      <td>Germany</td>\n",
       "      <td>92</td>\n",
       "      <td>58</td>\n",
       "      <td>29</td>\n",
       "      <td>52</td>\n",
       "      <td>35</td>\n",
       "      <td>48</td>\n",
       "      <td>70</td>\n",
       "      <td>15</td>\n",
       "      <td>...</td>\n",
       "      <td>55</td>\n",
       "      <td>25</td>\n",
       "      <td>11</td>\n",
       "      <td>61</td>\n",
       "      <td>44</td>\n",
       "      <td>10</td>\n",
       "      <td>83</td>\n",
       "      <td>70</td>\n",
       "      <td>11</td>\n",
       "      <td>GK</td>\n",
       "    </tr>\n",
       "  </tbody>\n",
       "</table>\n",
       "<p>5 rows × 38 columns</p>\n",
       "</div>"
      ],
      "text/plain": [
       "                   Age Nationality  Overall Acceleration Aggression Agility  \\\n",
       "Name                                                                          \n",
       "Cristiano Ronaldo   32    Portugal       94       89         63      89       \n",
       "L. Messi            30   Argentina       93       92         48      90       \n",
       "Neymar              25      Brazil       92       94         56      96       \n",
       "L. Suárez           30     Uruguay       92       88         78      86       \n",
       "M. Neuer            31     Germany       92       58         29      52       \n",
       "\n",
       "                  Balance Ball control Composure Crossing  ... Short passing  \\\n",
       "Name                                                       ...                 \n",
       "Cristiano Ronaldo  63           93        95       85      ...        83       \n",
       "L. Messi           95           95        96       77      ...        88       \n",
       "Neymar             82           95        92       75      ...        81       \n",
       "L. Suárez          60           91        83       77      ...        83       \n",
       "M. Neuer           35           48        70       15      ...        55       \n",
       "\n",
       "                  Shot power Sliding tackle Sprint speed Stamina  \\\n",
       "Name                                                               \n",
       "Cristiano Ronaldo     94             23           91      92       \n",
       "L. Messi              85             26           87      73       \n",
       "Neymar                80             33           90      78       \n",
       "L. Suárez             87             38           77      89       \n",
       "M. Neuer              25             11           61      44       \n",
       "\n",
       "                  Standing tackle Strength  Vision Volleys Preferred Positions  \n",
       "Name                                                                            \n",
       "Cristiano Ronaldo          31       80      85      88                  ST LW   \n",
       "L. Messi                   28       59      90      85                     RW   \n",
       "Neymar                     24       53      80      83                     LW   \n",
       "L. Suárez                  45       80      84      88                     ST   \n",
       "M. Neuer                   10       83      70      11                     GK   \n",
       "\n",
       "[5 rows x 38 columns]"
      ]
     },
     "execution_count": 31,
     "metadata": {},
     "output_type": "execute_result"
    }
   ],
   "source": [
    "df.head()"
   ]
  },
  {
   "cell_type": "code",
   "execution_count": null,
   "id": "a5e0dd49",
   "metadata": {},
   "outputs": [],
   "source": []
  },
  {
   "cell_type": "code",
   "execution_count": null,
   "id": "ae5c0bbf",
   "metadata": {},
   "outputs": [],
   "source": []
  },
  {
   "cell_type": "code",
   "execution_count": null,
   "id": "02eac190",
   "metadata": {},
   "outputs": [],
   "source": []
  },
  {
   "cell_type": "code",
   "execution_count": null,
   "id": "d187a823",
   "metadata": {},
   "outputs": [],
   "source": []
  }
 ],
 "metadata": {
  "kernelspec": {
   "display_name": "Python 3 (ipykernel)",
   "language": "python",
   "name": "python3"
  },
  "language_info": {
   "codemirror_mode": {
    "name": "ipython",
    "version": 3
   },
   "file_extension": ".py",
   "mimetype": "text/x-python",
   "name": "python",
   "nbconvert_exporter": "python",
   "pygments_lexer": "ipython3",
   "version": "3.11.4"
  }
 },
 "nbformat": 4,
 "nbformat_minor": 5
}
