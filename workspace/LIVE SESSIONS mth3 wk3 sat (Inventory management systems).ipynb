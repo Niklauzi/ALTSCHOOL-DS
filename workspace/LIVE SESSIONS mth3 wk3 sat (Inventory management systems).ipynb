{
 "cells": [
  {
   "cell_type": "markdown",
   "id": "2944c626",
   "metadata": {},
   "source": [
    "Build an inventory management systems"
   ]
  },
  {
   "cell_type": "code",
   "execution_count": 2,
   "id": "280312c6",
   "metadata": {},
   "outputs": [],
   "source": [
    "import numpy as np"
   ]
  },
  {
   "cell_type": "code",
   "execution_count": 3,
   "id": "6f84ac3f",
   "metadata": {},
   "outputs": [],
   "source": [
    "import pandas as pd"
   ]
  },
  {
   "cell_type": "code",
   "execution_count": 12,
   "id": "1f16e642",
   "metadata": {},
   "outputs": [],
   "source": [
    "#Add product\n",
    "def add_product():\n",
    "    product_name = input('Enter product name: ')\n",
    "    quantity = int(input('Enter quantity: '))\n",
    "    price = float(input('Enter price per unit: '))\n",
    "    \n",
    "    with open('inentory_data.csv', 'a') as file:\n",
    "        file.write(f'{product_name}, {quantity}, {price} \\n')\n",
    "        print(f'product {product_name} added successfully: \\n')\n",
    "\n",
    "#View Inventory\n",
    "def view_inventory():\n",
    "    try:\n",
    "        df =pd.read_csv('inentory_data.csv', header=None, names=['Product Name', 'Quantity', 'Product'])\n",
    "        if df.empty:\n",
    "            print('No products in the inventory')\n",
    "        else:\n",
    "            print('\\n')\n",
    "            print('Inventory:')\n",
    "            print(df)\n",
    "    except FileNotFOundError:\n",
    "        print('No products in the inventory')\n",
    "\n",
    "#search for a product\n",
    "def search_product():\n",
    "    search_name = input('Enter the name of the product to search: ')\n",
    "    try:\n",
    "        df =pd.read_csv('inentory_data.csv', header=None, names=['Product Name', 'Quantity', 'Product'])\n",
    "       \n",
    "        result = df[df['Product Name'].str.lower() ==search_name.lower()]\n",
    "    \n",
    "        if result.empty:\n",
    "            \n",
    "            print(f\"No product with the name: '{search_name}'\")\n",
    "        else:\n",
    "            \n",
    "            print('product found')\n",
    "            print(result)\n",
    "    except FileNotFOundError:\n",
    "        print('No products in the inventory')\n",
    "    "
   ]
  },
  {
   "cell_type": "code",
   "execution_count": 5,
   "id": "ed2b5ac8",
   "metadata": {},
   "outputs": [
    {
     "name": "stdout",
     "output_type": "stream",
     "text": [
      "\n",
      "\n",
      "Inventory:\n"
     ]
    },
    {
     "data": {
      "text/html": [
       "<div>\n",
       "<style scoped>\n",
       "    .dataframe tbody tr th:only-of-type {\n",
       "        vertical-align: middle;\n",
       "    }\n",
       "\n",
       "    .dataframe tbody tr th {\n",
       "        vertical-align: top;\n",
       "    }\n",
       "\n",
       "    .dataframe thead th {\n",
       "        text-align: right;\n",
       "    }\n",
       "</style>\n",
       "<table border=\"1\" class=\"dataframe\">\n",
       "  <thead>\n",
       "    <tr style=\"text-align: right;\">\n",
       "      <th></th>\n",
       "      <th>Product Name</th>\n",
       "      <th>Quantity</th>\n",
       "      <th>Product</th>\n",
       "    </tr>\n",
       "  </thead>\n",
       "  <tbody>\n",
       "    <tr>\n",
       "      <th>0</th>\n",
       "      <td>Product Name</td>\n",
       "      <td>Quantity</td>\n",
       "      <td>Price</td>\n",
       "    </tr>\n",
       "    <tr>\n",
       "      <th>1</th>\n",
       "      <td>Audu RS5</td>\n",
       "      <td>1</td>\n",
       "      <td>50000.0</td>\n",
       "    </tr>\n",
       "    <tr>\n",
       "      <th>2</th>\n",
       "      <td>Mahbach</td>\n",
       "      <td>15</td>\n",
       "      <td>155000.0</td>\n",
       "    </tr>\n",
       "    <tr>\n",
       "      <th>3</th>\n",
       "      <td>Lexus Rx350</td>\n",
       "      <td>1</td>\n",
       "      <td>50000.0</td>\n",
       "    </tr>\n",
       "    <tr>\n",
       "      <th>4</th>\n",
       "      <td>BMW</td>\n",
       "      <td>1</td>\n",
       "      <td>88000.0</td>\n",
       "    </tr>\n",
       "    <tr>\n",
       "      <th>5</th>\n",
       "      <td>benz</td>\n",
       "      <td>2</td>\n",
       "      <td>500000.0</td>\n",
       "    </tr>\n",
       "    <tr>\n",
       "      <th>6</th>\n",
       "      <td>macbookpro</td>\n",
       "      <td>1</td>\n",
       "      <td>3500.0</td>\n",
       "    </tr>\n",
       "    <tr>\n",
       "      <th>7</th>\n",
       "      <td>iphone15</td>\n",
       "      <td>1</td>\n",
       "      <td>1500.0</td>\n",
       "    </tr>\n",
       "    <tr>\n",
       "      <th>8</th>\n",
       "      <td>Bentley</td>\n",
       "      <td>1</td>\n",
       "      <td>180000.0</td>\n",
       "    </tr>\n",
       "    <tr>\n",
       "      <th>9</th>\n",
       "      <td>Crib</td>\n",
       "      <td>2</td>\n",
       "      <td>20000000.0</td>\n",
       "    </tr>\n",
       "  </tbody>\n",
       "</table>\n",
       "</div>"
      ],
      "text/plain": [
       "   Product Name  Quantity     Product\n",
       "0  Product Name  Quantity       Price\n",
       "1      Audu RS5         1     50000.0\n",
       "2       Mahbach        15    155000.0\n",
       "3   Lexus Rx350         1     50000.0\n",
       "4           BMW         1     88000.0\n",
       "5          benz         2    500000.0\n",
       "6    macbookpro         1      3500.0\n",
       "7      iphone15         1      1500.0\n",
       "8       Bentley         1    180000.0\n",
       "9          Crib         2  20000000.0"
      ]
     },
     "execution_count": 5,
     "metadata": {},
     "output_type": "execute_result"
    }
   ],
   "source": [
    "#add_product()\n",
    "view_inventory()"
   ]
  },
  {
   "cell_type": "code",
   "execution_count": null,
   "id": "f29e149b",
   "metadata": {},
   "outputs": [],
   "source": []
  },
  {
   "cell_type": "code",
   "execution_count": 19,
   "id": "03a008b6",
   "metadata": {},
   "outputs": [
    {
     "name": "stdout",
     "output_type": "stream",
     "text": [
      "Enter the name of the product to search: bentley\n",
      "product found\n",
      "  Product Name Quantity   Product\n",
      "8      Bentley        1  180000.0\n"
     ]
    }
   ],
   "source": [
    "search_product()"
   ]
  },
  {
   "cell_type": "code",
   "execution_count": 6,
   "id": "6c9bc788",
   "metadata": {},
   "outputs": [
    {
     "name": "stdout",
     "output_type": "stream",
     "text": [
      "\n",
      "\n",
      "Inventory:\n"
     ]
    },
    {
     "data": {
      "text/html": [
       "<div>\n",
       "<style scoped>\n",
       "    .dataframe tbody tr th:only-of-type {\n",
       "        vertical-align: middle;\n",
       "    }\n",
       "\n",
       "    .dataframe tbody tr th {\n",
       "        vertical-align: top;\n",
       "    }\n",
       "\n",
       "    .dataframe thead th {\n",
       "        text-align: right;\n",
       "    }\n",
       "</style>\n",
       "<table border=\"1\" class=\"dataframe\">\n",
       "  <thead>\n",
       "    <tr style=\"text-align: right;\">\n",
       "      <th></th>\n",
       "      <th>Product Name</th>\n",
       "      <th>Quantity</th>\n",
       "      <th>Product</th>\n",
       "    </tr>\n",
       "  </thead>\n",
       "  <tbody>\n",
       "    <tr>\n",
       "      <th>0</th>\n",
       "      <td>Product Name</td>\n",
       "      <td>Quantity</td>\n",
       "      <td>Price</td>\n",
       "    </tr>\n",
       "    <tr>\n",
       "      <th>1</th>\n",
       "      <td>Audu RS5</td>\n",
       "      <td>1</td>\n",
       "      <td>50000.0</td>\n",
       "    </tr>\n",
       "    <tr>\n",
       "      <th>2</th>\n",
       "      <td>Mahbach</td>\n",
       "      <td>15</td>\n",
       "      <td>155000.0</td>\n",
       "    </tr>\n",
       "    <tr>\n",
       "      <th>3</th>\n",
       "      <td>Lexus Rx350</td>\n",
       "      <td>1</td>\n",
       "      <td>50000.0</td>\n",
       "    </tr>\n",
       "    <tr>\n",
       "      <th>4</th>\n",
       "      <td>BMW</td>\n",
       "      <td>1</td>\n",
       "      <td>88000.0</td>\n",
       "    </tr>\n",
       "    <tr>\n",
       "      <th>5</th>\n",
       "      <td>benz</td>\n",
       "      <td>2</td>\n",
       "      <td>500000.0</td>\n",
       "    </tr>\n",
       "    <tr>\n",
       "      <th>6</th>\n",
       "      <td>macbookpro</td>\n",
       "      <td>1</td>\n",
       "      <td>3500.0</td>\n",
       "    </tr>\n",
       "    <tr>\n",
       "      <th>7</th>\n",
       "      <td>iphone15</td>\n",
       "      <td>1</td>\n",
       "      <td>1500.0</td>\n",
       "    </tr>\n",
       "    <tr>\n",
       "      <th>8</th>\n",
       "      <td>Bentley</td>\n",
       "      <td>1</td>\n",
       "      <td>180000.0</td>\n",
       "    </tr>\n",
       "    <tr>\n",
       "      <th>9</th>\n",
       "      <td>Crib</td>\n",
       "      <td>2</td>\n",
       "      <td>20000000.0</td>\n",
       "    </tr>\n",
       "  </tbody>\n",
       "</table>\n",
       "</div>"
      ],
      "text/plain": [
       "   Product Name  Quantity     Product\n",
       "0  Product Name  Quantity       Price\n",
       "1      Audu RS5         1     50000.0\n",
       "2       Mahbach        15    155000.0\n",
       "3   Lexus Rx350         1     50000.0\n",
       "4           BMW         1     88000.0\n",
       "5          benz         2    500000.0\n",
       "6    macbookpro         1      3500.0\n",
       "7      iphone15         1      1500.0\n",
       "8       Bentley         1    180000.0\n",
       "9          Crib         2  20000000.0"
      ]
     },
     "execution_count": 6,
     "metadata": {},
     "output_type": "execute_result"
    }
   ],
   "source": [
    "view_inventory()"
   ]
  },
  {
   "cell_type": "code",
   "execution_count": 7,
   "id": "bbebfdfd",
   "metadata": {},
   "outputs": [],
   "source": [
    "#search product 2\n",
    "def search_product2():\n",
    "    search_name = input('Enter the name of the product to search: ')\n",
    "    try:\n",
    "        df =pd.read_csv('inentory_data.csv', header=None, names=['Product Name', 'Quantity', 'Product'])\n",
    "       \n",
    "        result = df[df['Product Name'].str.lower() ==search_name.lower()]\n",
    "    \n",
    "        if result.empty:\n",
    "            \n",
    "            print(f\"No product with the name: '{search_name}'\")\n",
    "        else:\n",
    "            \n",
    "            print('product found')\n",
    "            print(result)\n",
    "    except FileNotFOundError:\n",
    "        print('No products in the inventory')"
   ]
  },
  {
   "cell_type": "code",
   "execution_count": 8,
   "id": "e5be38d9",
   "metadata": {},
   "outputs": [
    {
     "name": "stdout",
     "output_type": "stream",
     "text": [
      "Enter the name of the product to search: bmw\n",
      "product found\n",
      "  Product Name  Quantity  Product\n",
      "3          BMW         1  88000.0\n"
     ]
    }
   ],
   "source": [
    "search_product2()"
   ]
  },
  {
   "cell_type": "code",
   "execution_count": 9,
   "id": "6fa9ea39",
   "metadata": {},
   "outputs": [],
   "source": [
    "#regular expression: search with only part of the name"
   ]
  },
  {
   "cell_type": "code",
   "execution_count": null,
   "id": "308ea66b",
   "metadata": {},
   "outputs": [],
   "source": []
  },
  {
   "cell_type": "code",
   "execution_count": 8,
   "id": "005a781a",
   "metadata": {},
   "outputs": [],
   "source": [
    "def rms():\n",
    "    while True:  \n",
    "        print(\"\\nInventory Management System\")\n",
    "        print(\"1. Add Product\")\n",
    "        print(\"2. View Product\")\n",
    "        print(\"3. Search Product\")\n",
    "        print(\"4. Exit\")\n",
    "    \n",
    "        choice = input(\"Enter your choice from (1-4): \")\n",
    "        if choice == '1':\n",
    "            add_product()\n",
    "        elif choice == '2':\n",
    "            view_inventory()\n",
    "        elif choice == '3':\n",
    "            search_product2()\n",
    "        elif choice == '4':\n",
    "            break\n",
    "        else:\n",
    "            print('Invalid choice. please enter a number between and 4.')\n",
    "    "
   ]
  },
  {
   "cell_type": "code",
   "execution_count": null,
   "id": "d6d9820c",
   "metadata": {},
   "outputs": [
    {
     "name": "stdout",
     "output_type": "stream",
     "text": [
      "\n",
      "Inventory Management System\n",
      "1. Add Product\n",
      "2. View Product\n",
      "3. Search Product\n",
      "4. Exit\n",
      "Enter your choice from (1-4): 2\n",
      "\n",
      "\n",
      "Inventory:\n",
      "    Product Name  Quantity     Product\n",
      "0   Product Name  Quantity       Price\n",
      "1       Audu RS5         1     50000.0\n",
      "2        Mahbach        15    155000.0\n",
      "3    Lexus Rx350         1     50000.0\n",
      "4            BMW         1     88000.0\n",
      "5           benz         2    500000.0\n",
      "6     macbookpro         1      3500.0\n",
      "7       iphone15         1      1500.0\n",
      "8        Bentley         1    180000.0\n",
      "9           Crib         2  20000000.0\n",
      "10           ghj        52       45.0 \n",
      "11           hjj      5222      455.0 \n",
      "\n",
      "Inventory Management System\n",
      "1. Add Product\n",
      "2. View Product\n",
      "3. Search Product\n",
      "4. Exit\n"
     ]
    }
   ],
   "source": [
    "rms()"
   ]
  },
  {
   "cell_type": "code",
   "execution_count": 11,
   "id": "bb3135a4",
   "metadata": {
    "scrolled": true
   },
   "outputs": [
    {
     "name": "stdout",
     "output_type": "stream",
     "text": [
      "\n",
      "\n",
      "Inventory:\n"
     ]
    },
    {
     "data": {
      "text/html": [
       "<div>\n",
       "<style scoped>\n",
       "    .dataframe tbody tr th:only-of-type {\n",
       "        vertical-align: middle;\n",
       "    }\n",
       "\n",
       "    .dataframe tbody tr th {\n",
       "        vertical-align: top;\n",
       "    }\n",
       "\n",
       "    .dataframe thead th {\n",
       "        text-align: right;\n",
       "    }\n",
       "</style>\n",
       "<table border=\"1\" class=\"dataframe\">\n",
       "  <thead>\n",
       "    <tr style=\"text-align: right;\">\n",
       "      <th></th>\n",
       "      <th>Product Name</th>\n",
       "      <th>Quantity</th>\n",
       "      <th>Product</th>\n",
       "    </tr>\n",
       "  </thead>\n",
       "  <tbody>\n",
       "    <tr>\n",
       "      <th>0</th>\n",
       "      <td>Product Name</td>\n",
       "      <td>Quantity</td>\n",
       "      <td>Price</td>\n",
       "    </tr>\n",
       "    <tr>\n",
       "      <th>1</th>\n",
       "      <td>Audu RS5</td>\n",
       "      <td>1</td>\n",
       "      <td>50000.0</td>\n",
       "    </tr>\n",
       "    <tr>\n",
       "      <th>2</th>\n",
       "      <td>Mahbach</td>\n",
       "      <td>15</td>\n",
       "      <td>155000.0</td>\n",
       "    </tr>\n",
       "    <tr>\n",
       "      <th>3</th>\n",
       "      <td>Lexus Rx350</td>\n",
       "      <td>1</td>\n",
       "      <td>50000.0</td>\n",
       "    </tr>\n",
       "    <tr>\n",
       "      <th>4</th>\n",
       "      <td>BMW</td>\n",
       "      <td>1</td>\n",
       "      <td>88000.0</td>\n",
       "    </tr>\n",
       "    <tr>\n",
       "      <th>5</th>\n",
       "      <td>benz</td>\n",
       "      <td>2</td>\n",
       "      <td>500000.0</td>\n",
       "    </tr>\n",
       "    <tr>\n",
       "      <th>6</th>\n",
       "      <td>macbookpro</td>\n",
       "      <td>1</td>\n",
       "      <td>3500.0</td>\n",
       "    </tr>\n",
       "    <tr>\n",
       "      <th>7</th>\n",
       "      <td>iphone15</td>\n",
       "      <td>1</td>\n",
       "      <td>1500.0</td>\n",
       "    </tr>\n",
       "    <tr>\n",
       "      <th>8</th>\n",
       "      <td>Bentley</td>\n",
       "      <td>1</td>\n",
       "      <td>180000.0</td>\n",
       "    </tr>\n",
       "    <tr>\n",
       "      <th>9</th>\n",
       "      <td>Crib</td>\n",
       "      <td>2</td>\n",
       "      <td>20000000.0</td>\n",
       "    </tr>\n",
       "    <tr>\n",
       "      <th>10</th>\n",
       "      <td>ghj</td>\n",
       "      <td>52</td>\n",
       "      <td>45.0</td>\n",
       "    </tr>\n",
       "    <tr>\n",
       "      <th>11</th>\n",
       "      <td>hjj</td>\n",
       "      <td>5222</td>\n",
       "      <td>455.0</td>\n",
       "    </tr>\n",
       "  </tbody>\n",
       "</table>\n",
       "</div>"
      ],
      "text/plain": [
       "    Product Name  Quantity     Product\n",
       "0   Product Name  Quantity       Price\n",
       "1       Audu RS5         1     50000.0\n",
       "2        Mahbach        15    155000.0\n",
       "3    Lexus Rx350         1     50000.0\n",
       "4            BMW         1     88000.0\n",
       "5           benz         2    500000.0\n",
       "6     macbookpro         1      3500.0\n",
       "7       iphone15         1      1500.0\n",
       "8        Bentley         1    180000.0\n",
       "9           Crib         2  20000000.0\n",
       "10           ghj        52       45.0 \n",
       "11           hjj      5222      455.0 "
      ]
     },
     "execution_count": 11,
     "metadata": {},
     "output_type": "execute_result"
    }
   ],
   "source": [
    "view_inventory()"
   ]
  },
  {
   "cell_type": "code",
   "execution_count": null,
   "id": "09965cdc",
   "metadata": {},
   "outputs": [],
   "source": []
  },
  {
   "cell_type": "code",
   "execution_count": null,
   "id": "72c8a58c",
   "metadata": {},
   "outputs": [],
   "source": []
  },
  {
   "cell_type": "code",
   "execution_count": null,
   "id": "5d2fa316",
   "metadata": {},
   "outputs": [],
   "source": []
  },
  {
   "cell_type": "code",
   "execution_count": null,
   "id": "1ecabf3e",
   "metadata": {},
   "outputs": [],
   "source": []
  },
  {
   "cell_type": "code",
   "execution_count": null,
   "id": "f10cefdc",
   "metadata": {},
   "outputs": [],
   "source": []
  },
  {
   "cell_type": "code",
   "execution_count": null,
   "id": "1580b9d6",
   "metadata": {},
   "outputs": [],
   "source": []
  },
  {
   "cell_type": "code",
   "execution_count": null,
   "id": "2fffd9bd",
   "metadata": {},
   "outputs": [],
   "source": []
  },
  {
   "cell_type": "code",
   "execution_count": null,
   "id": "1eecaadf",
   "metadata": {},
   "outputs": [],
   "source": []
  },
  {
   "cell_type": "code",
   "execution_count": null,
   "id": "5f0915db",
   "metadata": {},
   "outputs": [],
   "source": []
  },
  {
   "cell_type": "code",
   "execution_count": null,
   "id": "e0f12886",
   "metadata": {},
   "outputs": [],
   "source": []
  },
  {
   "cell_type": "code",
   "execution_count": null,
   "id": "a10305df",
   "metadata": {},
   "outputs": [],
   "source": []
  },
  {
   "cell_type": "code",
   "execution_count": null,
   "id": "4656809b",
   "metadata": {},
   "outputs": [],
   "source": []
  },
  {
   "cell_type": "code",
   "execution_count": null,
   "id": "0d511549",
   "metadata": {},
   "outputs": [],
   "source": []
  },
  {
   "cell_type": "code",
   "execution_count": null,
   "id": "57e92b8f",
   "metadata": {},
   "outputs": [],
   "source": []
  },
  {
   "cell_type": "code",
   "execution_count": null,
   "id": "7c2e3eac",
   "metadata": {},
   "outputs": [],
   "source": []
  },
  {
   "cell_type": "code",
   "execution_count": null,
   "id": "5072e6f6",
   "metadata": {},
   "outputs": [],
   "source": []
  },
  {
   "cell_type": "code",
   "execution_count": null,
   "id": "25c67290",
   "metadata": {},
   "outputs": [],
   "source": []
  }
 ],
 "metadata": {
  "kernelspec": {
   "display_name": "Python 3 (ipykernel)",
   "language": "python",
   "name": "python3"
  },
  "language_info": {
   "codemirror_mode": {
    "name": "ipython",
    "version": 3
   },
   "file_extension": ".py",
   "mimetype": "text/x-python",
   "name": "python",
   "nbconvert_exporter": "python",
   "pygments_lexer": "ipython3",
   "version": "3.11.4"
  }
 },
 "nbformat": 4,
 "nbformat_minor": 5
}
