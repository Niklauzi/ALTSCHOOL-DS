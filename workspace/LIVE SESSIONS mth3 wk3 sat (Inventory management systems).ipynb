{
 "cells": [
  {
   "cell_type": "markdown",
   "id": "207cd532",
   "metadata": {},
   "source": [
    "Build an inventory management systems"
   ]
  },
  {
   "cell_type": "code",
   "execution_count": 1,
   "id": "30dbf7c4",
   "metadata": {},
   "outputs": [],
   "source": [
    "import numpy as np"
   ]
  },
  {
   "cell_type": "code",
   "execution_count": 2,
   "id": "ff313f04",
   "metadata": {},
   "outputs": [],
   "source": [
    "import pandas as pd"
   ]
  },
  {
   "cell_type": "code",
   "execution_count": 3,
   "id": "0ab493b4",
   "metadata": {},
   "outputs": [],
   "source": [
    "#Add product\n",
    "def add_product():\n",
    "    product_name = input('Enter product name: ')\n",
    "    quantity = int(input('Enter quantity: '))\n",
    "    price = float(input('Enter price per unit: '))\n",
    "    \n",
    "    with open('inentory_data.csv', 'a') as file:\n",
    "        file.write(f'{product_name}, {quantity}, {price} \\n')\n",
    "        print(f'product {product_name} added successfully: \\n')\n",
    "\n",
    "#View Inventory\n",
    "def view_inventory():\n",
    "    try:\n",
    "        df =pd.read_csv('inentory_data.csv', header=None, names=['Product Name', 'Quantity', 'Product'])\n",
    "        if df.empty:\n",
    "            print('No products in the inventory')\n",
    "        else:\n",
    "            print('\\n')\n",
    "            print('Inventory:')\n",
    "            print(df)\n",
    "    except FileNotFOundError:\n",
    "        print('No products in the inventory')\n",
    "\n",
    "#search for a product\n",
    "def search_product():\n",
    "    search_name = input('Enter the name of the product to search: ')\n",
    "    df = view_inventory() \n",
    "    result = df[df['Product Name'].str.lower() ==search_name.lower()]\n",
    "    \n",
    "    if result.empty:\n",
    "        print(f\"No product with the name: '{search_name}'\")\n",
    "    else:\n",
    "        print('product found')\n",
    "        return result\n",
    "    "
   ]
  },
  {
   "cell_type": "code",
   "execution_count": 4,
   "id": "4b8bcb9b",
   "metadata": {},
   "outputs": [
    {
     "name": "stdout",
     "output_type": "stream",
     "text": [
      "\n",
      "\n",
      "Inventory:\n",
      "  Product Name  Quantity   Product\n",
      "0     Audu RS5         1   50000.0\n",
      "1      Mahbach        15  155000.0\n",
      "2  Lexus Rx350         1   50000.0\n",
      "3          BMW         1   88000.0\n",
      "4         benz         1  180000.0\n",
      "5   macbookpro         1    3500.0\n",
      "6     iphone15         1    1500.0\n",
      "7      Bentley         1  180000.0\n"
     ]
    }
   ],
   "source": [
    "#add_product()\n",
    "view_inventory()"
   ]
  },
  {
   "cell_type": "code",
   "execution_count": null,
   "id": "4aa2507f",
   "metadata": {},
   "outputs": [],
   "source": []
  },
  {
   "cell_type": "code",
   "execution_count": 5,
   "id": "b301fb24",
   "metadata": {},
   "outputs": [
    {
     "name": "stdout",
     "output_type": "stream",
     "text": [
      "Enter the name of the product to search: \n",
      "\n",
      "\n",
      "Inventory:\n",
      "  Product Name  Quantity   Product\n",
      "0     Audu RS5         1   50000.0\n",
      "1      Mahbach        15  155000.0\n",
      "2  Lexus Rx350         1   50000.0\n",
      "3          BMW         1   88000.0\n",
      "4         benz         1  180000.0\n",
      "5   macbookpro         1    3500.0\n",
      "6     iphone15         1    1500.0\n",
      "7      Bentley         1  180000.0\n"
     ]
    },
    {
     "ename": "TypeError",
     "evalue": "'NoneType' object is not subscriptable",
     "output_type": "error",
     "traceback": [
      "\u001b[1;31m---------------------------------------------------------------------------\u001b[0m",
      "\u001b[1;31mTypeError\u001b[0m                                 Traceback (most recent call last)",
      "Cell \u001b[1;32mIn[5], line 1\u001b[0m\n\u001b[1;32m----> 1\u001b[0m search_product()\n",
      "Cell \u001b[1;32mIn[3], line 28\u001b[0m, in \u001b[0;36msearch_product\u001b[1;34m()\u001b[0m\n\u001b[0;32m     26\u001b[0m search_name \u001b[38;5;241m=\u001b[39m \u001b[38;5;28minput\u001b[39m(\u001b[38;5;124m'\u001b[39m\u001b[38;5;124mEnter the name of the product to search: \u001b[39m\u001b[38;5;124m'\u001b[39m)\n\u001b[0;32m     27\u001b[0m df \u001b[38;5;241m=\u001b[39m view_inventory() \n\u001b[1;32m---> 28\u001b[0m result \u001b[38;5;241m=\u001b[39m df[df[\u001b[38;5;124m'\u001b[39m\u001b[38;5;124mProduct Name\u001b[39m\u001b[38;5;124m'\u001b[39m]\u001b[38;5;241m.\u001b[39mstr\u001b[38;5;241m.\u001b[39mlower() \u001b[38;5;241m==\u001b[39msearch_name\u001b[38;5;241m.\u001b[39mlower()]\n\u001b[0;32m     30\u001b[0m \u001b[38;5;28;01mif\u001b[39;00m result\u001b[38;5;241m.\u001b[39mempty:\n\u001b[0;32m     31\u001b[0m     \u001b[38;5;28mprint\u001b[39m(\u001b[38;5;124mf\u001b[39m\u001b[38;5;124m\"\u001b[39m\u001b[38;5;124mNo product with the name: \u001b[39m\u001b[38;5;124m'\u001b[39m\u001b[38;5;132;01m{\u001b[39;00msearch_name\u001b[38;5;132;01m}\u001b[39;00m\u001b[38;5;124m'\u001b[39m\u001b[38;5;124m\"\u001b[39m)\n",
      "\u001b[1;31mTypeError\u001b[0m: 'NoneType' object is not subscriptable"
     ]
    }
   ],
   "source": [
    "search_product()"
   ]
  },
  {
   "cell_type": "code",
   "execution_count": 6,
   "id": "346c60b9",
   "metadata": {},
   "outputs": [
    {
     "name": "stdout",
     "output_type": "stream",
     "text": [
      "\n",
      "\n",
      "Inventory:\n",
      "  Product Name  Quantity   Product\n",
      "0     Audu RS5         1   50000.0\n",
      "1      Mahbach        15  155000.0\n",
      "2  Lexus Rx350         1   50000.0\n",
      "3          BMW         1   88000.0\n",
      "4         benz         1  180000.0\n",
      "5   macbookpro         1    3500.0\n",
      "6     iphone15         1    1500.0\n",
      "7      Bentley         1  180000.0\n"
     ]
    }
   ],
   "source": [
    "view_inventory()"
   ]
  },
  {
   "cell_type": "code",
   "execution_count": 7,
   "id": "0bab4cfd",
   "metadata": {},
   "outputs": [],
   "source": [
    "#search product 2\n",
    "def search_product2():\n",
    "    search_name = input('Enter the name of the product to search: ')\n",
    "    try:\n",
    "        df =pd.read_csv('inentory_data.csv', header=None, names=['Product Name', 'Quantity', 'Product'])\n",
    "       \n",
    "        result = df[df['Product Name'].str.lower() ==search_name.lower()]\n",
    "    \n",
    "        if result.empty:\n",
    "            \n",
    "            print(f\"No product with the name: '{search_name}'\")\n",
    "        else:\n",
    "            \n",
    "            print('product found')\n",
    "            print(result)\n",
    "    except FileNotFOundError:\n",
    "        print('No products in the inventory')"
   ]
  },
  {
   "cell_type": "code",
   "execution_count": 8,
   "id": "3592808a",
   "metadata": {},
   "outputs": [
    {
     "name": "stdout",
     "output_type": "stream",
     "text": [
      "Enter the name of the product to search: bmw\n",
      "product found\n",
      "  Product Name  Quantity  Product\n",
      "3          BMW         1  88000.0\n"
     ]
    }
   ],
   "source": [
    "search_product2()"
   ]
  },
  {
   "cell_type": "code",
   "execution_count": 9,
   "id": "8794949e",
   "metadata": {},
   "outputs": [],
   "source": [
    "#regular expression: search with only part of the name"
   ]
  },
  {
   "cell_type": "code",
   "execution_count": null,
   "id": "e8c334f5",
   "metadata": {},
   "outputs": [],
   "source": []
  },
  {
   "cell_type": "code",
   "execution_count": 9,
   "id": "4adea718",
   "metadata": {},
   "outputs": [],
   "source": [
    "def rms():\n",
    "    while True:  \n",
    "        print(\"\\nInventory Management System\")\n",
    "        print(\"1. Add Product\")\n",
    "        print(\"2. View Product\")\n",
    "        print(\"3. Search Product\")\n",
    "        print(\"4. Exit\")\n",
    "    \n",
    "        choice = input(\"Enter your choice from (1-4): \")\n",
    "        if choice == '1':\n",
    "            add_product()\n",
    "        elif choice == '2':\n",
    "            view_inventory()\n",
    "        elif choice == '3':\n",
    "            search_product2()\n",
    "        elif choice == '4':\n",
    "            break\n",
    "        else:\n",
    "            print('Invalid choice. please enter a number between and 4.')\n",
    "    "
   ]
  },
  {
   "cell_type": "code",
   "execution_count": 10,
   "id": "66bd655f",
   "metadata": {},
   "outputs": [
    {
     "name": "stdout",
     "output_type": "stream",
     "text": [
      "\n",
      "Inventory Management System\n",
      "1. Add Product\n",
      "2. View Product\n",
      "3. Search Product\n",
      "4. Exit\n",
      "Enter your choice from (1-4): 2\n",
      "\n",
      "\n",
      "Inventory:\n",
      "  Product Name  Quantity   Product\n",
      "0     Audu RS5         1   50000.0\n",
      "1      Mahbach        15  155000.0\n",
      "2  Lexus Rx350         1   50000.0\n",
      "3          BMW         1   88000.0\n",
      "4         benz         1  180000.0\n",
      "5   macbookpro         1    3500.0\n",
      "6     iphone15         1    1500.0\n",
      "7      Bentley         1  180000.0\n",
      "\n",
      "Inventory Management System\n",
      "1. Add Product\n",
      "2. View Product\n",
      "3. Search Product\n",
      "4. Exit\n",
      "Enter your choice from (1-4): 3\n",
      "Enter the name of the product to search: benz\n",
      "product found\n",
      "  Product Name  Quantity   Product\n",
      "4         benz         1  180000.0\n",
      "\n",
      "Inventory Management System\n",
      "1. Add Product\n",
      "2. View Product\n",
      "3. Search Product\n",
      "4. Exit\n",
      "Enter your choice from (1-4): 4\n"
     ]
    }
   ],
   "source": [
    "rms()"
   ]
  },
  {
   "cell_type": "code",
   "execution_count": null,
   "id": "7b3764ee",
   "metadata": {
    "scrolled": true
   },
   "outputs": [],
   "source": [
    "view_inventory()"
   ]
  },
  {
   "cell_type": "code",
   "execution_count": null,
   "id": "ded36cc2",
   "metadata": {},
   "outputs": [],
   "source": []
  },
  {
   "cell_type": "code",
   "execution_count": null,
   "id": "bff10358",
   "metadata": {},
   "outputs": [],
   "source": []
  },
  {
   "cell_type": "code",
   "execution_count": null,
   "id": "52a4bb9a",
   "metadata": {},
   "outputs": [],
   "source": []
  },
  {
   "cell_type": "code",
   "execution_count": null,
   "id": "f2fba2c8",
   "metadata": {},
   "outputs": [],
   "source": []
  },
  {
   "cell_type": "code",
   "execution_count": null,
   "id": "2d5454c3",
   "metadata": {},
   "outputs": [],
   "source": []
  },
  {
   "cell_type": "code",
   "execution_count": null,
   "id": "9c9a0b3e",
   "metadata": {},
   "outputs": [],
   "source": []
  },
  {
   "cell_type": "code",
   "execution_count": null,
   "id": "e57bff9b",
   "metadata": {},
   "outputs": [],
   "source": []
  },
  {
   "cell_type": "code",
   "execution_count": null,
   "id": "daaa2d0f",
   "metadata": {},
   "outputs": [],
   "source": []
  },
  {
   "cell_type": "code",
   "execution_count": null,
   "id": "62c8b661",
   "metadata": {},
   "outputs": [],
   "source": []
  },
  {
   "cell_type": "code",
   "execution_count": null,
   "id": "8f0716ba",
   "metadata": {},
   "outputs": [],
   "source": []
  },
  {
   "cell_type": "code",
   "execution_count": null,
   "id": "22b002b2",
   "metadata": {},
   "outputs": [],
   "source": []
  },
  {
   "cell_type": "code",
   "execution_count": null,
   "id": "6ff235b9",
   "metadata": {},
   "outputs": [],
   "source": []
  },
  {
   "cell_type": "code",
   "execution_count": null,
   "id": "8bad9944",
   "metadata": {},
   "outputs": [],
   "source": []
  },
  {
   "cell_type": "code",
   "execution_count": null,
   "id": "3545d0d2",
   "metadata": {},
   "outputs": [],
   "source": []
  },
  {
   "cell_type": "code",
   "execution_count": null,
   "id": "e26e3540",
   "metadata": {},
   "outputs": [],
   "source": []
  },
  {
   "cell_type": "code",
   "execution_count": null,
   "id": "4ac9cc59",
   "metadata": {},
   "outputs": [],
   "source": []
  },
  {
   "cell_type": "code",
   "execution_count": null,
   "id": "573de063",
   "metadata": {},
   "outputs": [],
   "source": []
  }
 ],
 "metadata": {
  "kernelspec": {
   "display_name": "Python 3 (ipykernel)",
   "language": "python",
   "name": "python3"
  },
  "language_info": {
   "codemirror_mode": {
    "name": "ipython",
    "version": 3
   },
   "file_extension": ".py",
   "mimetype": "text/x-python",
   "name": "python",
   "nbconvert_exporter": "python",
   "pygments_lexer": "ipython3",
   "version": "3.11.4"
  }
 },
 "nbformat": 4,
 "nbformat_minor": 5
}
