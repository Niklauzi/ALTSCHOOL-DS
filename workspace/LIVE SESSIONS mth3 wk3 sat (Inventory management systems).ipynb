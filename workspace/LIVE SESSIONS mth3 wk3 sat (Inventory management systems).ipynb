{
 "cells": [
  {
   "cell_type": "markdown",
   "id": "bc8595e4",
   "metadata": {},
   "source": [
    "Build an inventory management systems"
   ]
  },
  {
   "cell_type": "code",
   "execution_count": 1,
   "id": "255e2553",
   "metadata": {},
   "outputs": [],
   "source": [
    "import numpy as np"
   ]
  },
  {
   "cell_type": "code",
   "execution_count": 2,
   "id": "a376c67a",
   "metadata": {},
   "outputs": [],
   "source": [
    "import pandas as pd"
   ]
  },
  {
   "cell_type": "code",
   "execution_count": 13,
   "id": "0344819c",
   "metadata": {},
   "outputs": [],
   "source": [
    "#Add product\n",
    "def add_product():\n",
    "    product_name = input('Enter product name: ')\n",
    "    quantity = int(input('Enter quantity: '))\n",
    "    price = float(input('Enter price per unit: '))\n",
    "    \n",
    "    with open('inentory_data.csv', 'a') as file:\n",
    "        file.write(f'{product_name}, {quantity}, {price} \\n')\n",
    "        print(f'product {product_name} added successfully: \\n')\n",
    "\n",
    "#View Inventory\n",
    "def view_inventory():\n",
    "    try:\n",
    "        df =pd.read_csv('inentory_data.csv', header=None, names=['Product Name', 'Quantity', 'Product'])\n",
    "        if df.empty:\n",
    "            print('No products in the inventory')\n",
    "        else:\n",
    "            print('\\n')\n",
    "            print('Inventory:')\n",
    "            print(df)\n",
    "    except FileNotFOundError:\n",
    "        print('No products in the inventory')\n",
    "\n",
    "#search for a product\n",
    "def search_product():\n",
    "    search_name = input('Enter the name of the product to search: ')\n",
    "    try:\n",
    "        df =pd.read_csv('inentory_data.csv', header=None, names=['Product Name', 'Quantity', 'Product'])\n",
    "       \n",
    "        result = df[df['Product Name'].str.lower() ==search_name.lower()]\n",
    "    \n",
    "        if result.empty:\n",
    "            \n",
    "            print(f\"No product with the name: '{search_name}'\")\n",
    "        else:\n",
    "            \n",
    "            print('product found')\n",
    "            print(result)\n",
    "    except FileNotFOundError:\n",
    "        print('No products in the inventory')\n",
    "    "
   ]
  },
  {
   "cell_type": "code",
   "execution_count": 4,
   "id": "cdfb3050",
   "metadata": {},
   "outputs": [
    {
     "name": "stdout",
     "output_type": "stream",
     "text": [
      "\n",
      "\n",
      "Inventory:\n",
      "  Product Name  Quantity   Product\n",
      "0     Audu RS5         1   50000.0\n",
      "1      Mahbach        15  155000.0\n",
      "2  Lexus Rx350         1   50000.0\n",
      "3          BMW         1   88000.0\n",
      "4         benz         1  180000.0\n",
      "5   macbookpro         1    3500.0\n",
      "6     iphone15         1    1500.0\n",
      "7      Bentley         1  180000.0\n"
     ]
    }
   ],
   "source": [
    "#add_product()\n",
    "view_inventory()"
   ]
  },
  {
   "cell_type": "code",
   "execution_count": null,
   "id": "e573813e",
   "metadata": {},
   "outputs": [],
   "source": []
  },
  {
   "cell_type": "code",
   "execution_count": 14,
   "id": "21b7902f",
   "metadata": {},
   "outputs": [
    {
     "name": "stdout",
     "output_type": "stream",
     "text": [
      "Enter the name of the product to search: bentley\n",
      "product found\n",
      "  Product Name  Quantity   Product\n",
      "7      Bentley         1  180000.0\n"
     ]
    }
   ],
   "source": [
    "search_product()"
   ]
  },
  {
   "cell_type": "code",
   "execution_count": 6,
   "id": "11d0432a",
   "metadata": {},
   "outputs": [
    {
     "name": "stdout",
     "output_type": "stream",
     "text": [
      "\n",
      "\n",
      "Inventory:\n",
      "  Product Name  Quantity   Product\n",
      "0     Audu RS5         1   50000.0\n",
      "1      Mahbach        15  155000.0\n",
      "2  Lexus Rx350         1   50000.0\n",
      "3          BMW         1   88000.0\n",
      "4         benz         1  180000.0\n",
      "5   macbookpro         1    3500.0\n",
      "6     iphone15         1    1500.0\n",
      "7      Bentley         1  180000.0\n"
     ]
    }
   ],
   "source": [
    "view_inventory()"
   ]
  },
  {
   "cell_type": "code",
   "execution_count": 7,
   "id": "05b13eba",
   "metadata": {},
   "outputs": [],
   "source": [
    "#search product 2\n",
    "def search_product2():\n",
    "    search_name = input('Enter the name of the product to search: ')\n",
    "    try:\n",
    "        df =pd.read_csv('inentory_data.csv', header=None, names=['Product Name', 'Quantity', 'Product'])\n",
    "       \n",
    "        result = df[df['Product Name'].str.lower() ==search_name.lower()]\n",
    "    \n",
    "        if result.empty:\n",
    "            \n",
    "            print(f\"No product with the name: '{search_name}'\")\n",
    "        else:\n",
    "            \n",
    "            print('product found')\n",
    "            print(result)\n",
    "    except FileNotFOundError:\n",
    "        print('No products in the inventory')"
   ]
  },
  {
   "cell_type": "code",
   "execution_count": 8,
   "id": "23b4a7fd",
   "metadata": {},
   "outputs": [
    {
     "name": "stdout",
     "output_type": "stream",
     "text": [
      "Enter the name of the product to search: bmw\n",
      "product found\n",
      "  Product Name  Quantity  Product\n",
      "3          BMW         1  88000.0\n"
     ]
    }
   ],
   "source": [
    "search_product2()"
   ]
  },
  {
   "cell_type": "code",
   "execution_count": 9,
   "id": "8dca86d1",
   "metadata": {},
   "outputs": [],
   "source": [
    "#regular expression: search with only part of the name"
   ]
  },
  {
   "cell_type": "code",
   "execution_count": null,
   "id": "f185aacd",
   "metadata": {},
   "outputs": [],
   "source": []
  },
  {
   "cell_type": "code",
   "execution_count": 9,
   "id": "a36f7dc0",
   "metadata": {},
   "outputs": [],
   "source": [
    "def rms():\n",
    "    while True:  \n",
    "        print(\"\\nInventory Management System\")\n",
    "        print(\"1. Add Product\")\n",
    "        print(\"2. View Product\")\n",
    "        print(\"3. Search Product\")\n",
    "        print(\"4. Exit\")\n",
    "    \n",
    "        choice = input(\"Enter your choice from (1-4): \")\n",
    "        if choice == '1':\n",
    "            add_product()\n",
    "        elif choice == '2':\n",
    "            view_inventory()\n",
    "        elif choice == '3':\n",
    "            search_product2()\n",
    "        elif choice == '4':\n",
    "            break\n",
    "        else:\n",
    "            print('Invalid choice. please enter a number between and 4.')\n",
    "    "
   ]
  },
  {
   "cell_type": "code",
   "execution_count": 10,
   "id": "d4108d77",
   "metadata": {},
   "outputs": [
    {
     "name": "stdout",
     "output_type": "stream",
     "text": [
      "\n",
      "Inventory Management System\n",
      "1. Add Product\n",
      "2. View Product\n",
      "3. Search Product\n",
      "4. Exit\n",
      "Enter your choice from (1-4): 2\n",
      "\n",
      "\n",
      "Inventory:\n",
      "  Product Name  Quantity   Product\n",
      "0     Audu RS5         1   50000.0\n",
      "1      Mahbach        15  155000.0\n",
      "2  Lexus Rx350         1   50000.0\n",
      "3          BMW         1   88000.0\n",
      "4         benz         1  180000.0\n",
      "5   macbookpro         1    3500.0\n",
      "6     iphone15         1    1500.0\n",
      "7      Bentley         1  180000.0\n",
      "\n",
      "Inventory Management System\n",
      "1. Add Product\n",
      "2. View Product\n",
      "3. Search Product\n",
      "4. Exit\n",
      "Enter your choice from (1-4): 3\n",
      "Enter the name of the product to search: benz\n",
      "product found\n",
      "  Product Name  Quantity   Product\n",
      "4         benz         1  180000.0\n",
      "\n",
      "Inventory Management System\n",
      "1. Add Product\n",
      "2. View Product\n",
      "3. Search Product\n",
      "4. Exit\n",
      "Enter your choice from (1-4): 4\n"
     ]
    }
   ],
   "source": [
    "rms()"
   ]
  },
  {
   "cell_type": "code",
   "execution_count": null,
   "id": "83c61bc3",
   "metadata": {
    "scrolled": true
   },
   "outputs": [],
   "source": [
    "view_inventory()"
   ]
  },
  {
   "cell_type": "code",
   "execution_count": null,
   "id": "013f9ab2",
   "metadata": {},
   "outputs": [],
   "source": []
  },
  {
   "cell_type": "code",
   "execution_count": null,
   "id": "80f49563",
   "metadata": {},
   "outputs": [],
   "source": []
  },
  {
   "cell_type": "code",
   "execution_count": null,
   "id": "f134ab1a",
   "metadata": {},
   "outputs": [],
   "source": []
  },
  {
   "cell_type": "code",
   "execution_count": null,
   "id": "25b54ed5",
   "metadata": {},
   "outputs": [],
   "source": []
  },
  {
   "cell_type": "code",
   "execution_count": null,
   "id": "8f138e93",
   "metadata": {},
   "outputs": [],
   "source": []
  },
  {
   "cell_type": "code",
   "execution_count": null,
   "id": "49a0511d",
   "metadata": {},
   "outputs": [],
   "source": []
  },
  {
   "cell_type": "code",
   "execution_count": null,
   "id": "4a409d9e",
   "metadata": {},
   "outputs": [],
   "source": []
  },
  {
   "cell_type": "code",
   "execution_count": null,
   "id": "23add504",
   "metadata": {},
   "outputs": [],
   "source": []
  },
  {
   "cell_type": "code",
   "execution_count": null,
   "id": "304fe529",
   "metadata": {},
   "outputs": [],
   "source": []
  },
  {
   "cell_type": "code",
   "execution_count": null,
   "id": "918ab362",
   "metadata": {},
   "outputs": [],
   "source": []
  },
  {
   "cell_type": "code",
   "execution_count": null,
   "id": "8d4d57f6",
   "metadata": {},
   "outputs": [],
   "source": []
  },
  {
   "cell_type": "code",
   "execution_count": null,
   "id": "49e92625",
   "metadata": {},
   "outputs": [],
   "source": []
  },
  {
   "cell_type": "code",
   "execution_count": null,
   "id": "b578ba17",
   "metadata": {},
   "outputs": [],
   "source": []
  },
  {
   "cell_type": "code",
   "execution_count": null,
   "id": "a830f7e5",
   "metadata": {},
   "outputs": [],
   "source": []
  },
  {
   "cell_type": "code",
   "execution_count": null,
   "id": "e423d4e9",
   "metadata": {},
   "outputs": [],
   "source": []
  },
  {
   "cell_type": "code",
   "execution_count": null,
   "id": "32a65361",
   "metadata": {},
   "outputs": [],
   "source": []
  },
  {
   "cell_type": "code",
   "execution_count": null,
   "id": "af09872c",
   "metadata": {},
   "outputs": [],
   "source": []
  }
 ],
 "metadata": {
  "kernelspec": {
   "display_name": "Python 3 (ipykernel)",
   "language": "python",
   "name": "python3"
  },
  "language_info": {
   "codemirror_mode": {
    "name": "ipython",
    "version": 3
   },
   "file_extension": ".py",
   "mimetype": "text/x-python",
   "name": "python",
   "nbconvert_exporter": "python",
   "pygments_lexer": "ipython3",
   "version": "3.11.4"
  }
 },
 "nbformat": 4,
 "nbformat_minor": 5
}
